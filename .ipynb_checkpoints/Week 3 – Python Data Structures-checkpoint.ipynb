{
 "cells": [
  {
   "cell_type": "markdown",
   "metadata": {
    "colab_type": "text",
    "id": "IUnV98BFLEzK"
   },
   "source": [
    "<h1>ISB2017 Applied Data Science<h1>\n",
    "\n",
    "---\n",
    "\n",
    "\n",
    "***Classroom Exercise Week 3 : Python Data Structures***"
   ]
  },
  {
   "cell_type": "markdown",
   "metadata": {
    "colab_type": "text",
    "id": "uh1WjE8R3t8f"
   },
   "source": [
    "<h2 align=center>Data Structures</h2>"
   ]
  },
  {
   "cell_type": "markdown",
   "metadata": {
    "colab_type": "text",
    "id": "ztyyKFD93t8g"
   },
   "source": [
    "Untuk memahami data structure kita pegang kata kunci nya, yaitu: collecting and organizing, operations, effective way. Dimana artinya kita mengelola atau mengatur data2 kita sedemikian rupa, agar memudahkan ketika kita melakukan operasi secara efektif.\n",
    "Tujuan pembelajaran kita untuk pertemuan ketiga ini adalah memahami Struktur Data agar semakin jelas bagaimana python menyimpan kumpulan data dalam sebuah variabel. Selanjutnya kita akan membahas peran list, tuple, set, dan dictionary.\n"
   ]
  },
  {
   "cell_type": "markdown",
   "metadata": {
    "colab_type": "text",
    "id": "yJCal_TqGgW4"
   },
   "source": [
    "<h3 align=\"center\">Tuple</h4>\n",
    "Opsi pertama dalam mengelola data adalah menggunakan tipe data Tupple yang merupakan tipe data koleksi. Karakteristik dari tuple adalah memiliki nomor urut (index) dan immutable. Cara mendefinisikannya adalah dengan kurung bulat. Elemen dari tuple dapat terdiri dari berbagai macam tipe data seperti integer, float, string, dlsb. Cara meng-aksess value dari Tuple dengan menggunakan index."
   ]
  },
  {
   "cell_type": "code",
   "execution_count": 62,
   "metadata": {
    "colab": {},
    "colab_type": "code",
    "id": "joOjE3_8ZUxY"
   },
   "outputs": [
    {
     "data": {
      "text/plain": [
       "(87, 75, 91, 'fail', 62, 77, 100, 98, 100, 75)"
      ]
     },
     "execution_count": 62,
     "metadata": {},
     "output_type": "execute_result"
    }
   ],
   "source": [
    "# Mari kita membuat sebuah tuple bernama final_exam\n",
    "final_exam = (87, 75, 91, \"fail\", 62, 77, 100, 98, 100, 75)\n",
    "final_exam"
   ]
  },
  {
   "cell_type": "markdown",
   "metadata": {
    "colab_type": "text",
    "id": "_dH5Lm5RHMp2"
   },
   "source": [
    "Mengakses elemen tertentu pada tuple berdasarkan indexnya dengan format: `tuple[n]`, dimana n adalah index."
   ]
  },
  {
   "cell_type": "code",
   "execution_count": 3,
   "metadata": {
    "colab": {},
    "colab_type": "code",
    "executionInfo": {
     "elapsed": 1380,
     "status": "ok",
     "timestamp": 1600238061252,
     "user": {
      "displayName": "Trianggoro Wiradinata",
      "photoUrl": "https://lh3.googleusercontent.com/a-/AOh14GhgKTOoW6XFdIeMBRVFEfa9liWzcyFyID5UFKeaRg=s64",
      "userId": "01344150203571826157"
     },
     "user_tz": -420
    },
    "id": "BMRmQ2lDH8B3"
   },
   "outputs": [
    {
     "name": "stdout",
     "output_type": "stream",
     "text": [
      "fail\n",
      "(75, 91, 'fail', 62, 77)\n"
     ]
    }
   ],
   "source": [
    "# Bagaimanakah cara mengakses elemen ke-4 dari variable final_exam?\n",
    "print(final_exam[3])\n",
    "\n",
    "# Bagaimana cara menampilkan elemen 1-5?\n",
    "print(final_exam[1:6])\n"
   ]
  },
  {
   "cell_type": "markdown",
   "metadata": {
    "colab_type": "text",
    "id": "__Uqgd6igM6D"
   },
   "source": [
    "Berapakah rata-rata nilai pada tuple `final_exam`? (Optional)"
   ]
  },
  {
   "cell_type": "code",
   "execution_count": 53,
   "metadata": {},
   "outputs": [],
   "source": [
    "import numpy as np"
   ]
  },
  {
   "cell_type": "code",
   "execution_count": 63,
   "metadata": {
    "colab": {},
    "colab_type": "code",
    "id": "uuqImhQFgKbR"
   },
   "outputs": [
    {
     "name": "stdout",
     "output_type": "stream",
     "text": [
      "(87, 75, 91, 62, 77, 100, 98, 100, 75)\n",
      "85.0\n"
     ]
    }
   ],
   "source": [
    "# Hitunglah nilai rata-rata pada tuple final_exam\n",
    "index = final_exam.index('fail')\n",
    "final_exam = final_exam[:index] + final_exam[index+1:]\n",
    "print(final_exam)\n",
    "print(np.mean(final_exam))"
   ]
  },
  {
   "cell_type": "markdown",
   "metadata": {
    "colab_type": "text",
    "id": "dEveELlCjWhF"
   },
   "source": [
    "<h4>Membership, Editing, Nesting Tuple</h4>\n",
    "Kita dapat memeriksa apakah sebuah tuple memiliki elemen tertentu dengan operator `in`. Perlu diketahui tuple bersifat *immutable*, artinya tidak dapat diubah elemen nya, mengubah elemen tuple artinya membuat definisi variable baru. Lalu tuple juga dapat berisi elemen berupa tuple lain (nested tuple)."
   ]
  },
  {
   "cell_type": "code",
   "execution_count": 7,
   "metadata": {
    "colab": {},
    "colab_type": "code",
    "executionInfo": {
     "elapsed": 1363,
     "status": "ok",
     "timestamp": 1600237297097,
     "user": {
      "displayName": "Trianggoro Wiradinata",
      "photoUrl": "https://lh3.googleusercontent.com/a-/AOh14GhgKTOoW6XFdIeMBRVFEfa9liWzcyFyID5UFKeaRg=s64",
      "userId": "01344150203571826157"
     },
     "user_tz": -420
    },
    "id": "p4aOuqgJji6l"
   },
   "outputs": [
    {
     "name": "stdout",
     "output_type": "stream",
     "text": [
      "True\n",
      "6\n",
      "(87, 75, 91, 'fail', 62, 77, 100, 98, 100, 75)\n",
      "('nilai SAA1', 'midterm_exam', 'SAA2', (87, 75, 91, 'fail', 62, 77, 100, 98, 100, 75))\n"
     ]
    }
   ],
   "source": [
    "# Bagaimana cara memeriksa apakah ada yang fail dalam tuple final_exam\n",
    "print(\"fail\" in final_exam)\n",
    "\n",
    "# Apakah ada yang dapat 100? Jika ada, pada index ke berapa?\n",
    "print(final_exam.index(100))\n",
    "\n",
    "# Editlah elemen ke-dua dari tuple final_exam, ganti dengan nilai 65\n",
    "final_exam[1] = 65\n",
    "print(final_exam)\n",
    "\n",
    "# Buatlah tuple dengan nama all_grade yang elemen nya berisi nilai SAA1, midterm_exam, SAA2, dan final_exam\n",
    "all_grade = (\"nilai SAA1\", \"midterm_exam\", \"SAA2\", final_exam)\n",
    "print(all_grade)\n"
   ]
  },
  {
   "cell_type": "markdown",
   "metadata": {
    "colab_type": "text",
    "id": "vL3PfnxupXCt"
   },
   "source": [
    "<h3 align=\"center\">List</h4>\n",
    "List berbeda dengan tuple, yaitu sifatnya *Mutable* dan didefinisikan dengan kurung kotak. List memiliki lebih banyak fungsi dibandingkan dengan tuple. Menggabungkan list juga tinggal melakukan operasi dengan tanda tambah atau dengan fungsi `extend()`\n"
   ]
  },
  {
   "cell_type": "code",
   "execution_count": 8,
   "metadata": {
    "colab": {},
    "colab_type": "code",
    "id": "ujWaKV9MZY5D"
   },
   "outputs": [],
   "source": [
    "# Mari kita buat List\n",
    "uc_student = [\"206021810019\", \"Jackie Chan\", 170, 60, 119]\n",
    "\n",
    "# Bagaimana cara ganti index ke-3 dengan nilai 65\n",
    "uc_student[3] = 65\n"
   ]
  },
  {
   "cell_type": "code",
   "execution_count": 9,
   "metadata": {
    "colab": {},
    "colab_type": "code",
    "id": "saN-ludeCOkL"
   },
   "outputs": [
    {
     "name": "stdout",
     "output_type": "stream",
     "text": [
      "['206021810019', 'Jackie Chan', 170, 65, 119, 1982, 'Hong Kong']\n"
     ]
    }
   ],
   "source": [
    "# Tambahkan dua elemen [1982, \"Hong Kong\"] ke dalam list uc_student dengan extend()\n",
    "uc_student.extend([1982, \"Hong Kong\"])\n",
    "print(uc_student)"
   ]
  },
  {
   "cell_type": "code",
   "execution_count": 10,
   "metadata": {
    "colab": {},
    "colab_type": "code",
    "executionInfo": {
     "elapsed": 1476,
     "status": "ok",
     "timestamp": 1600239266440,
     "user": {
      "displayName": "Trianggoro Wiradinata",
      "photoUrl": "https://lh3.googleusercontent.com/a-/AOh14GhgKTOoW6XFdIeMBRVFEfa9liWzcyFyID5UFKeaRg=s64",
      "userId": "01344150203571826157"
     },
     "user_tz": -420
    },
    "id": "jBygyTLbbMV-"
   },
   "outputs": [
    {
     "name": "stdout",
     "output_type": "stream",
     "text": [
      "['206021810019', 'Jackie Chan', 170, 60, 119, [1982, 'Hong Kong']]\n"
     ]
    }
   ],
   "source": [
    "# Tambahkan \"sebuah\" elemen\n",
    "uc_student = [\"206021810019\", \"Jackie Chan\", 170, 60, 119]\n",
    "uc_student.append([1982, \"Hong Kong\"]) # Amati apa bedanya dengan extend()?\n",
    "print(uc_student)"
   ]
  },
  {
   "cell_type": "code",
   "execution_count": 11,
   "metadata": {
    "colab": {},
    "colab_type": "code",
    "id": "Go94aLzPCnZ4"
   },
   "outputs": [
    {
     "name": "stdout",
     "output_type": "stream",
     "text": [
      "['206021810019', 'Jackie Chan', 60, 119, [1982, 'Hong Kong']]\n"
     ]
    }
   ],
   "source": [
    "# Bagaimana cara menghapus elemen pada index ke-2 List uc_student\n",
    "del(uc_student[2])\n",
    "print(uc_student)"
   ]
  },
  {
   "cell_type": "markdown",
   "metadata": {
    "colab_type": "text",
    "id": "SV1YJ-Cmrkqi"
   },
   "source": [
    "String dapat dengan mudah diubah menjadi List dengan fungsi split()"
   ]
  },
  {
   "cell_type": "code",
   "execution_count": null,
   "metadata": {
    "colab": {},
    "colab_type": "code",
    "id": "M_lXobfTDovy"
   },
   "outputs": [],
   "source": []
  },
  {
   "cell_type": "code",
   "execution_count": 16,
   "metadata": {
    "colab": {},
    "colab_type": "code",
    "id": "-s-GOAg8rtqn"
   },
   "outputs": [
    {
     "name": "stdout",
     "output_type": "stream",
     "text": [
      "22\n"
     ]
    }
   ],
   "source": [
    "# Fungsi split() yang sangat bermanfaat untuk text analysis\n",
    "python_for_business = \"Python is a wonderfully robust language that can be used for many applications and is embraced by many organisations, large and small\"\n",
    "kata = python_for_business.split()\n",
    "\n",
    "# Hitunglah ada berapa banyak kata dalam variable python_for_business?\n",
    "print(len(kata))\n"
   ]
  },
  {
   "cell_type": "markdown",
   "metadata": {
    "colab_type": "text",
    "id": "MEltYCKQtifl"
   },
   "source": [
    "Referencing Objek"
   ]
  },
  {
   "cell_type": "code",
   "execution_count": null,
   "metadata": {
    "colab": {},
    "colab_type": "code",
    "id": "VgElBRk_cWOC"
   },
   "outputs": [],
   "source": [
    "# Membuat variabel baru yang me-referensikan object yang sama\n",
    "uc_people = uc_student\n",
    "\n",
    "# Ganti nilai pada index 2 dengan 65\n",
    "uc_people[2] = 65\n",
    "\n",
    "# Periksa isi dari List uc_student\n",
    "uc_student"
   ]
  },
  {
   "cell_type": "markdown",
   "metadata": {
    "colab_type": "text",
    "id": "GunVQNnCuuh5"
   },
   "source": [
    "Copy / Clone sebuah objek"
   ]
  },
  {
   "cell_type": "code",
   "execution_count": null,
   "metadata": {
    "colab": {},
    "colab_type": "code",
    "id": "dL2mjWWehGUo"
   },
   "outputs": [],
   "source": [
    "# Membuat variabel baru yang mecopy isi object lain\n",
    "uc_people = uc_student.copy()\n",
    "\n",
    "# Ganti nilai pada index 2 dengan 65\n",
    "uc_people[2] = 65\n",
    "\n",
    "# Periksa isi dari List uc_student\n",
    "uc_student"
   ]
  },
  {
   "cell_type": "markdown",
   "metadata": {
    "colab_type": "text",
    "id": "aAc55wiuvH6m"
   },
   "source": [
    "<h3 align=\"center\">Set</h4>\n",
    "Set atau himpunan juga merupakan tipe data collection, tetapi berbeda dengan tuple dan list, sebuah Set tidak memiliki index serta elemen-nya unik. Sebuah List dapat diubah menjadi Set dengan fungsi <code>set()</code>.\n"
   ]
  },
  {
   "cell_type": "markdown",
   "metadata": {
    "colab_type": "text",
    "id": "CGjKp_D9w2Bi"
   },
   "source": [
    "<p>Struktur data Set di Python sama seperti teori himpunan. Set memiliki sifat matematika tertentu yang selalu berlaku, karakteristik utamanya adalah tidak ada nilai duplikat.\n",
    "<p>Struktur data Set dioptimalkan untuk pencarian yang sangat cepat, yang membuat penggunaan Set jauh lebih cepat daripada List, karena List selalu melakukan penelusuran berurutan yang lebih lambat."
   ]
  },
  {
   "cell_type": "code",
   "execution_count": null,
   "metadata": {
    "colab": {},
    "colab_type": "code",
    "id": "m1QIYym17kfT"
   },
   "outputs": [],
   "source": [
    "# Mari kita buat 3 buah Set (himpunan)\n",
    "uc_walk = {\"geprek\", \"rujak\", \"nasi sayur\", \"coffeetorium\", \"geprek\", \"wei xiao\"}\n",
    "g_walk = {\"soto pak sadi\", \"nasi goreng\", \"rawon\", \"nasi sayur\", \"rujak\"}\n",
    "tpr = {\"soto pak sadi\", \"nasi sayur\"}\n",
    "\n",
    "print(\"UC Walk Collection: \", uc_walk)\n",
    "print(\"G Walk Collection: \", g_walk)\n",
    "print(\"TPR Collection: \", tpr)"
   ]
  },
  {
   "cell_type": "markdown",
   "metadata": {
    "colab_type": "text",
    "id": "iy70ZDYSzE1l"
   },
   "source": [
    "![Slide15.jpeg](data:image/jpeg;base64,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)"
   ]
  },
  {
   "cell_type": "code",
   "execution_count": null,
   "metadata": {
    "colab": {},
    "colab_type": "code",
    "id": "eQX-9euEx0BW"
   },
   "outputs": [],
   "source": [
    "# Mari kita lihat irisan (intersection) dari ketiga Set diatas\n",
    "uc_walk.intersection(g_walk, tpr)"
   ]
  },
  {
   "cell_type": "code",
   "execution_count": null,
   "metadata": {
    "colab": {},
    "colab_type": "code",
    "id": "l18tUK3rxm8z"
   },
   "outputs": [],
   "source": [
    "# Mari kita lihat gabungan (union) dari uc_walk dan g_walk\n",
    "uc_walk.union(g_walk)"
   ]
  },
  {
   "cell_type": "code",
   "execution_count": null,
   "metadata": {
    "colab": {},
    "colab_type": "code",
    "id": "ed8q-kll7zzb"
   },
   "outputs": [],
   "source": [
    "# Apakah koleksi di TPR ini merupakan bagian dari G-Walk (sub set)\n",
    "tpr.issubset(g_walk)"
   ]
  },
  {
   "cell_type": "code",
   "execution_count": null,
   "metadata": {
    "colab": {},
    "colab_type": "code",
    "id": "M1_ljuO1-eaY"
   },
   "outputs": [],
   "source": [
    "# Apakah set g_walk mutually exclusive dengan coffee_shop \n",
    "coffee_shop = {\"Excelso\",\"Starbuck\"}\n",
    "g_walk.isdisjoint(coffee_shop)"
   ]
  },
  {
   "cell_type": "code",
   "execution_count": 45,
   "metadata": {
    "colab": {
     "base_uri": "https://localhost:8080/",
     "height": 34
    },
    "colab_type": "code",
    "executionInfo": {
     "elapsed": 1650,
     "status": "ok",
     "timestamp": 1600241453247,
     "user": {
      "displayName": "Trianggoro Wiradinata",
      "photoUrl": "https://lh3.googleusercontent.com/a-/AOh14GhgKTOoW6XFdIeMBRVFEfa9liWzcyFyID5UFKeaRg=s64",
      "userId": "01344150203571826157"
     },
     "user_tz": -420
    },
    "id": "iFsz3KLh_Sjd",
    "outputId": "6d74741f-cecb-4796-8e37-cab3337edc3a"
   },
   "outputs": [
    {
     "data": {
      "text/plain": [
       "['soto pak sadi', 'rawon', 'nasi sayur', 'nasi goreng']"
      ]
     },
     "execution_count": 45,
     "metadata": {
      "tags": []
     },
     "output_type": "execute_result"
    }
   ],
   "source": [
    "# Sama seperti List, jika ingin meng-copy object gunakan fungsi copy()\n",
    "uc_apt = uc_walk.copy()\n",
    "uc_apt.remove(\"rujak\")\n",
    "uc_walk"
   ]
  },
  {
   "cell_type": "markdown",
   "metadata": {
    "colab_type": "text",
    "id": "z3LNiQhnoUP0"
   },
   "source": [
    "<h3 align=\"center\">Dictionary</h3>"
   ]
  },
  {
   "cell_type": "markdown",
   "metadata": {
    "colab_type": "text",
    "id": "Hml8gVfbocAn"
   },
   "source": [
    "<p>Dictionary di Python adalah kumpulan pasangan key-value. Setiap key terhubung ke sebuah value, dan kita dapat menggunakan sebuah key untuk mengakses value yang terkait dengan key tersebut. Nilai key bisa berupa angka, string, List, atau bahkan Dictionary lain. Faktanya, kita dapat menggunakan objek apa pun yang dapat kita buat dengan Python sebagai value dalam Dictionary.\n",
    "<p>Dalam Python, Dictionary didefinisikan dengan kurung kurawal {}, dengan serangkaian pasangan key-value di dalam kurung kurawal.\n",
    "<p>Buatlah Dictionary untuk smartphone di bawah ini:</p>\n",
    "\n",
    "```\n",
    "samsung_note_s20 = {\"Color\": \"Black\", \"Size\": 6.5, \"Price\": 19000000}\n",
    "iphone_11_pro = {\"Color\": \"Dark Grey\", \"Size\": 6.1, \"Price\": 18500000}\n",
    "```\n",
    "\n"
   ]
  },
  {
   "cell_type": "code",
   "execution_count": 19,
   "metadata": {
    "colab": {},
    "colab_type": "code",
    "id": "40Oh7JM32WQ9"
   },
   "outputs": [
    {
     "name": "stdout",
     "output_type": "stream",
     "text": [
      "Black\n"
     ]
    }
   ],
   "source": [
    "samsung_note_s20 = {\"Color\": \"Black\", \"Size\": 6.5, \"Price\": 19000000}\n",
    "iphone_11_pro = {\"Color\": \"Dark Grey\", \"Size\": 6.1, \"Price\": 18500000}\n",
    "\n",
    "# Bagaimana cara menampilkan Color dari samsung_note_s20?\n",
    "print(samsung_note_s20[\"Color\"])\n"
   ]
  },
  {
   "cell_type": "code",
   "execution_count": 20,
   "metadata": {
    "colab": {},
    "colab_type": "code",
    "executionInfo": {
     "elapsed": 1532,
     "status": "ok",
     "timestamp": 1600241613309,
     "user": {
      "displayName": "Trianggoro Wiradinata",
      "photoUrl": "https://lh3.googleusercontent.com/a-/AOh14GhgKTOoW6XFdIeMBRVFEfa9liWzcyFyID5UFKeaRg=s64",
      "userId": "01344150203571826157"
     },
     "user_tz": -420
    },
    "id": "dJGjCyu8qiNs"
   },
   "outputs": [
    {
     "name": "stdout",
     "output_type": "stream",
     "text": [
      "{'Color': 'Dark Grey', 'Size': 5.85, 'Price': 18500000}\n"
     ]
    }
   ],
   "source": [
    "# Gantilah value Size dari iphone_11_pro dengan nilai 5.85\n",
    "iphone_11_pro[\"Size\"] = 5.85\n",
    "print(iphone_11_pro)"
   ]
  },
  {
   "cell_type": "code",
   "execution_count": 21,
   "metadata": {
    "colab": {},
    "colab_type": "code",
    "executionInfo": {
     "elapsed": 1419,
     "status": "ok",
     "timestamp": 1600241618302,
     "user": {
      "displayName": "Trianggoro Wiradinata",
      "photoUrl": "https://lh3.googleusercontent.com/a-/AOh14GhgKTOoW6XFdIeMBRVFEfa9liWzcyFyID5UFKeaRg=s64",
      "userId": "01344150203571826157"
     },
     "user_tz": -420
    },
    "id": "UK1flkAQ76Kq"
   },
   "outputs": [
    {
     "name": "stdout",
     "output_type": "stream",
     "text": [
      "True\n"
     ]
    }
   ],
   "source": [
    "# Periksalah apakah ada key \"Price\" di Dictionary iphone_11_pro\n",
    "print(\"Price\" in iphone_11_pro)\n"
   ]
  },
  {
   "cell_type": "code",
   "execution_count": 22,
   "metadata": {
    "colab": {},
    "colab_type": "code",
    "id": "UW7Up1LtCYdu"
   },
   "outputs": [
    {
     "name": "stdout",
     "output_type": "stream",
     "text": [
      "{'Color': 'Black', 'Size': 6.5, 'Price': 19000000, 'Popped': 'to be popped'}\n",
      "{'Color': 'Black', 'Size': 6.5, 'Price': 19000000}\n"
     ]
    }
   ],
   "source": [
    "# Keluarkan elemen (key-value pair) dengan method pop() dari samsung_note_s20\n",
    "samsung_note_s20[\"Popped\"] = \"to be popped\"\n",
    "print(samsung_note_s20)\n",
    "samsung_note_s20.pop(\"Popped\")\n",
    "print(samsung_note_s20)\n"
   ]
  },
  {
   "cell_type": "code",
   "execution_count": null,
   "metadata": {
    "colab": {},
    "colab_type": "code",
    "id": "ONMx5Z3zC-tN"
   },
   "outputs": [],
   "source": [
    "# Hapus key \"Price\" dari dictionary iphone_11_pro\n",
    "del iphone_11_pro[\"Price\"]\n",
    "print(iphone_11_pro)"
   ]
  },
  {
   "cell_type": "markdown",
   "metadata": {
    "colab_type": "text",
    "id": "8-2UVLDV3bwv"
   },
   "source": [
    "<h3 align=\"center\">Additional Challenge (Optional)</h3>\n",
    "Download dataset NBA 2019 dari link yang disediakan di E-Learn atau <a href=\"https://rebrand.ly/nba_2019_dataset\">disini</a> \n",
    "<br>Carilah informasi sebagai berikut:\n",
    "<ol>\n",
    "  <li>Pemain NBA 2019 berasal dari berapa banyak negara?</li>\n",
    "  <li>Apakah ada pemain dari Japan?</li>\n",
    "  <li>Siapakah pemain tertinggi?</li>\n",
    "    <li>Berapakah berat rata-rata dari pemain berdasarkan negaranya?</li>\n",
    "</ol> "
   ]
  },
  {
   "cell_type": "code",
   "execution_count": 24,
   "metadata": {
    "colab": {},
    "colab_type": "code",
    "id": "UjzP7WWuDM7H"
   },
   "outputs": [],
   "source": [
    "# Untuk mempermudah mengelola dataset gunakan library pandas.\n",
    "import pandas as pd"
   ]
  },
  {
   "cell_type": "code",
   "execution_count": 26,
   "metadata": {},
   "outputs": [
    {
     "data": {
      "text/html": [
       "<div>\n",
       "<style scoped>\n",
       "    .dataframe tbody tr th:only-of-type {\n",
       "        vertical-align: middle;\n",
       "    }\n",
       "\n",
       "    .dataframe tbody tr th {\n",
       "        vertical-align: top;\n",
       "    }\n",
       "\n",
       "    .dataframe thead th {\n",
       "        text-align: right;\n",
       "    }\n",
       "</style>\n",
       "<table border=\"1\" class=\"dataframe\">\n",
       "  <thead>\n",
       "    <tr style=\"text-align: right;\">\n",
       "      <th></th>\n",
       "      <th>Unnamed: 0</th>\n",
       "      <th>player_name</th>\n",
       "      <th>team_abbreviation</th>\n",
       "      <th>age</th>\n",
       "      <th>player_height</th>\n",
       "      <th>player_weight</th>\n",
       "      <th>college</th>\n",
       "      <th>country</th>\n",
       "      <th>draft_year</th>\n",
       "      <th>draft_round</th>\n",
       "      <th>...</th>\n",
       "      <th>pts</th>\n",
       "      <th>reb</th>\n",
       "      <th>ast</th>\n",
       "      <th>net_rating</th>\n",
       "      <th>oreb_pct</th>\n",
       "      <th>dreb_pct</th>\n",
       "      <th>usg_pct</th>\n",
       "      <th>ts_pct</th>\n",
       "      <th>ast_pct</th>\n",
       "      <th>season</th>\n",
       "    </tr>\n",
       "  </thead>\n",
       "  <tbody>\n",
       "    <tr>\n",
       "      <th>0</th>\n",
       "      <td>0</td>\n",
       "      <td>Dennis Rodman</td>\n",
       "      <td>CHI</td>\n",
       "      <td>36.0</td>\n",
       "      <td>198.12</td>\n",
       "      <td>99.790240</td>\n",
       "      <td>Southeastern Oklahoma State</td>\n",
       "      <td>USA</td>\n",
       "      <td>1986</td>\n",
       "      <td>2</td>\n",
       "      <td>...</td>\n",
       "      <td>5.7</td>\n",
       "      <td>16.1</td>\n",
       "      <td>3.1</td>\n",
       "      <td>16.1</td>\n",
       "      <td>0.186</td>\n",
       "      <td>0.323</td>\n",
       "      <td>0.100</td>\n",
       "      <td>0.479</td>\n",
       "      <td>0.113</td>\n",
       "      <td>1996-97</td>\n",
       "    </tr>\n",
       "    <tr>\n",
       "      <th>1</th>\n",
       "      <td>1</td>\n",
       "      <td>Dwayne Schintzius</td>\n",
       "      <td>LAC</td>\n",
       "      <td>28.0</td>\n",
       "      <td>215.90</td>\n",
       "      <td>117.933920</td>\n",
       "      <td>Florida</td>\n",
       "      <td>USA</td>\n",
       "      <td>1990</td>\n",
       "      <td>1</td>\n",
       "      <td>...</td>\n",
       "      <td>2.3</td>\n",
       "      <td>1.5</td>\n",
       "      <td>0.3</td>\n",
       "      <td>12.3</td>\n",
       "      <td>0.078</td>\n",
       "      <td>0.151</td>\n",
       "      <td>0.175</td>\n",
       "      <td>0.430</td>\n",
       "      <td>0.048</td>\n",
       "      <td>1996-97</td>\n",
       "    </tr>\n",
       "    <tr>\n",
       "      <th>2</th>\n",
       "      <td>2</td>\n",
       "      <td>Earl Cureton</td>\n",
       "      <td>TOR</td>\n",
       "      <td>39.0</td>\n",
       "      <td>205.74</td>\n",
       "      <td>95.254320</td>\n",
       "      <td>Detroit Mercy</td>\n",
       "      <td>USA</td>\n",
       "      <td>1979</td>\n",
       "      <td>3</td>\n",
       "      <td>...</td>\n",
       "      <td>0.8</td>\n",
       "      <td>1.0</td>\n",
       "      <td>0.4</td>\n",
       "      <td>-2.1</td>\n",
       "      <td>0.105</td>\n",
       "      <td>0.102</td>\n",
       "      <td>0.103</td>\n",
       "      <td>0.376</td>\n",
       "      <td>0.148</td>\n",
       "      <td>1996-97</td>\n",
       "    </tr>\n",
       "    <tr>\n",
       "      <th>3</th>\n",
       "      <td>3</td>\n",
       "      <td>Ed O'Bannon</td>\n",
       "      <td>DAL</td>\n",
       "      <td>24.0</td>\n",
       "      <td>203.20</td>\n",
       "      <td>100.697424</td>\n",
       "      <td>UCLA</td>\n",
       "      <td>USA</td>\n",
       "      <td>1995</td>\n",
       "      <td>1</td>\n",
       "      <td>...</td>\n",
       "      <td>3.7</td>\n",
       "      <td>2.3</td>\n",
       "      <td>0.6</td>\n",
       "      <td>-8.7</td>\n",
       "      <td>0.060</td>\n",
       "      <td>0.149</td>\n",
       "      <td>0.167</td>\n",
       "      <td>0.399</td>\n",
       "      <td>0.077</td>\n",
       "      <td>1996-97</td>\n",
       "    </tr>\n",
       "    <tr>\n",
       "      <th>4</th>\n",
       "      <td>4</td>\n",
       "      <td>Ed Pinckney</td>\n",
       "      <td>MIA</td>\n",
       "      <td>34.0</td>\n",
       "      <td>205.74</td>\n",
       "      <td>108.862080</td>\n",
       "      <td>Villanova</td>\n",
       "      <td>USA</td>\n",
       "      <td>1985</td>\n",
       "      <td>1</td>\n",
       "      <td>...</td>\n",
       "      <td>2.4</td>\n",
       "      <td>2.4</td>\n",
       "      <td>0.2</td>\n",
       "      <td>-11.2</td>\n",
       "      <td>0.109</td>\n",
       "      <td>0.179</td>\n",
       "      <td>0.127</td>\n",
       "      <td>0.611</td>\n",
       "      <td>0.040</td>\n",
       "      <td>1996-97</td>\n",
       "    </tr>\n",
       "  </tbody>\n",
       "</table>\n",
       "<p>5 rows × 22 columns</p>\n",
       "</div>"
      ],
      "text/plain": [
       "   Unnamed: 0        player_name team_abbreviation   age  player_height  \\\n",
       "0           0      Dennis Rodman               CHI  36.0         198.12   \n",
       "1           1  Dwayne Schintzius               LAC  28.0         215.90   \n",
       "2           2       Earl Cureton               TOR  39.0         205.74   \n",
       "3           3        Ed O'Bannon               DAL  24.0         203.20   \n",
       "4           4        Ed Pinckney               MIA  34.0         205.74   \n",
       "\n",
       "   player_weight                      college country draft_year draft_round  \\\n",
       "0      99.790240  Southeastern Oklahoma State     USA       1986           2   \n",
       "1     117.933920                      Florida     USA       1990           1   \n",
       "2      95.254320                Detroit Mercy     USA       1979           3   \n",
       "3     100.697424                         UCLA     USA       1995           1   \n",
       "4     108.862080                    Villanova     USA       1985           1   \n",
       "\n",
       "   ...  pts   reb  ast  net_rating  oreb_pct  dreb_pct  usg_pct  ts_pct  \\\n",
       "0  ...  5.7  16.1  3.1        16.1     0.186     0.323    0.100   0.479   \n",
       "1  ...  2.3   1.5  0.3        12.3     0.078     0.151    0.175   0.430   \n",
       "2  ...  0.8   1.0  0.4        -2.1     0.105     0.102    0.103   0.376   \n",
       "3  ...  3.7   2.3  0.6        -8.7     0.060     0.149    0.167   0.399   \n",
       "4  ...  2.4   2.4  0.2       -11.2     0.109     0.179    0.127   0.611   \n",
       "\n",
       "   ast_pct   season  \n",
       "0    0.113  1996-97  \n",
       "1    0.048  1996-97  \n",
       "2    0.148  1996-97  \n",
       "3    0.077  1996-97  \n",
       "4    0.040  1996-97  \n",
       "\n",
       "[5 rows x 22 columns]"
      ]
     },
     "execution_count": 26,
     "metadata": {},
     "output_type": "execute_result"
    }
   ],
   "source": [
    "df = pd.read_csv(\"assets_dsc/all_seasons.csv\")\n",
    "df.head()"
   ]
  },
  {
   "cell_type": "code",
   "execution_count": 71,
   "metadata": {},
   "outputs": [
    {
     "name": "stdout",
     "output_type": "stream",
     "text": [
      "Banyak Negara:  76\n",
      "76 \n",
      "\n",
      "Ada pemain dari Japan:\n",
      " True \n",
      "\n",
      "Maximum Height: ['Gheorghe Muresan'] \n",
      "\n",
      "berat rata-rata dari pemain berdasarkan negaranya:\n",
      "                       mean      median\n",
      "country                               \n",
      "Angola          108.862080  108.862080\n",
      "Argentina       100.538667  102.058200\n",
      "Australia       101.187794  100.924220\n",
      "Austria         106.027130  104.326160\n",
      "Bahamas         102.965384   98.429464\n",
      "...                    ...         ...\n",
      "Ukraine         118.445665  115.665960\n",
      "United Kingdom  101.628481   99.790240\n",
      "Uruguay         122.016248  122.016248\n",
      "Venezuela        95.657513   95.707912\n",
      "Yugoslavia      118.428748  120.201880\n",
      "\n",
      "[76 rows x 2 columns]\n"
     ]
    }
   ],
   "source": [
    "# No 1\n",
    "print(\"Banyak Negara: \", len(df.country.unique()))\n",
    "print(df.country.nunique(), \"\\n\") #cara lain\n",
    "\n",
    "# No 2\n",
    "japan = \"Japan\" in df.country.unique()\n",
    "print(\"Ada pemain dari Japan:\\n\", japan, \"\\n\")\n",
    "\n",
    "# No 3\n",
    "print(\"Maximum Height:\", df[df[\"player_height\"] == max(df[\"player_height\"])][\"player_name\"].unique(), \"\\n\")\n",
    "\n",
    "# No 4, rata-rata lebih baik mean dan median (karena mean dipengaruhi outlier)\n",
    "print(\"berat rata-rata dari pemain berdasarkan negaranya:\\n\", df.groupby(\"country\")[\"player_weight\"].agg([np.mean, np.median]))"
   ]
  },
  {
   "cell_type": "markdown",
   "metadata": {
    "colab_type": "text",
    "id": "-jKfBacUBCOf"
   },
   "source": [
    "<h4>Let's call it a day! Stay safe, stay healthy, and stay productive!</h4>"
   ]
  }
 ],
 "metadata": {
  "colab": {
   "collapsed_sections": [],
   "name": "Week 3 – Python Data Structures.ipynb",
   "provenance": [
    {
     "file_id": "1vzitVsfUTplmqat6Km7ccIdKISzSD6wP",
     "timestamp": 1597046412329
    }
   ]
  },
  "kernelspec": {
   "display_name": "Python 3",
   "language": "python",
   "name": "python3"
  },
  "language_info": {
   "codemirror_mode": {
    "name": "ipython",
    "version": 3
   },
   "file_extension": ".py",
   "mimetype": "text/x-python",
   "name": "python",
   "nbconvert_exporter": "python",
   "pygments_lexer": "ipython3",
   "version": "3.7.6"
  }
 },
 "nbformat": 4,
 "nbformat_minor": 1
}
