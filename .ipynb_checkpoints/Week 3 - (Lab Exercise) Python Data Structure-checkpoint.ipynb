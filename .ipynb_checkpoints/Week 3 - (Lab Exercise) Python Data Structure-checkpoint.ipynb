{
 "cells": [
  {
   "cell_type": "markdown",
   "metadata": {
    "colab_type": "text",
    "id": "IUnV98BFLEzK"
   },
   "source": [
    "<h1>ISB2017 Applied Data Science<h1>\n",
    "\n",
    "---\n",
    "\n",
    "\n",
    "***Lab Exercise Week 3: Python Data Structure***"
   ]
  },
  {
   "cell_type": "markdown",
   "metadata": {
    "colab_type": "text",
    "id": "5gfh0oDcgBb2"
   },
   "source": [
    "1.1 Buatlah sebuah tuple yang berisikan nama nama hari contoh: ('senin', 'selasa' ..., ) beri nama variabel satu_minggu\n",
    "\n",
    "1.2 Berapa panjang tuple dari satu_minggu?\n",
    "\n",
    "1.3 Gunakan count() dan index() untuk mengetahui posisi dan jumlah hari \"minggu\"\n",
    "\n",
    "1.4 Tambahkan tuple dengan tuple baru (1, 2, 3, 4, 5, 6, 7, 8 ,9 10\n",
    "\n",
    "1.5 Bagaimana kita mendapatkan ('sabtu', 'minggu', 1, 2, 3)?\n"
   ]
  },
  {
   "cell_type": "code",
   "execution_count": 1,
   "metadata": {
    "colab": {},
    "colab_type": "code",
    "id": "aqXifbtCgD8D"
   },
   "outputs": [
    {
     "name": "stdout",
     "output_type": "stream",
     "text": [
      "('senin', 'selasa', 'rabu', 'kamis', 'jumat', 'sabtu', 'minggu')\n"
     ]
    }
   ],
   "source": [
    "# Jawaban no 1.1\n",
    "satu_minggu = ('senin', 'selasa', 'rabu', 'kamis', 'jumat', 'sabtu', 'minggu')\n",
    "print(satu_minggu)"
   ]
  },
  {
   "cell_type": "code",
   "execution_count": 2,
   "metadata": {
    "colab": {},
    "colab_type": "code",
    "id": "TnFhBwwcpotS"
   },
   "outputs": [
    {
     "name": "stdout",
     "output_type": "stream",
     "text": [
      "7\n"
     ]
    }
   ],
   "source": [
    "# Jawaban no 1.2\n",
    "print(len(satu_minggu))"
   ]
  },
  {
   "cell_type": "code",
   "execution_count": 3,
   "metadata": {
    "colab": {},
    "colab_type": "code",
    "id": "RNRdbgCWpo1o"
   },
   "outputs": [
    {
     "name": "stdout",
     "output_type": "stream",
     "text": [
      "1\n",
      "6\n"
     ]
    }
   ],
   "source": [
    "# Jawaban no 1.3\n",
    "print(satu_minggu.count(\"minggu\"))\n",
    "print(satu_minggu.index(\"minggu\"))"
   ]
  },
  {
   "cell_type": "code",
   "execution_count": 4,
   "metadata": {
    "colab": {},
    "colab_type": "code",
    "id": "7eSSS7dopo8F"
   },
   "outputs": [
    {
     "name": "stdout",
     "output_type": "stream",
     "text": [
      "('senin', 'selasa', 'rabu', 'kamis', 'jumat', 'sabtu', 'minggu', 1, 2, 3, 4, 5, 6, 7, 8, 9, 10)\n"
     ]
    }
   ],
   "source": [
    "# Jawaban no 1.4\n",
    "satu_minggu += (1, 2, 3, 4, 5, 6, 7, 8, 9, 10)\n",
    "print(satu_minggu)"
   ]
  },
  {
   "cell_type": "code",
   "execution_count": 5,
   "metadata": {
    "colab": {},
    "colab_type": "code",
    "id": "pk1WBqrxppGn"
   },
   "outputs": [
    {
     "name": "stdout",
     "output_type": "stream",
     "text": [
      "('sabtu', 'minggu', 1, 2, 3)\n"
     ]
    }
   ],
   "source": [
    "# Jawaban no 1.5\n",
    "print(satu_minggu[5:10])"
   ]
  },
  {
   "cell_type": "markdown",
   "metadata": {
    "colab_type": "text",
    "id": "cS24SPeRnz0Y"
   },
   "source": [
    "2.1 Simpan nama beberapa teman Kamu dalam *list* yang mempunya variabel **nama**. Cetak **nama** setiap orang dengan mengakses setiap elemen dalam *list*, satu per satu. \n",
    "\n",
    "2.2 Mulailah dengan *list* yang Kamu gunakan dalam Latihan 2.1, Cetak setiap nama ditambahkan dengan pesan masing - masing. Setiap orang akan menerima pesang berbeda contoh: \"Hai Ani apa kabarmu\"\n"
   ]
  },
  {
   "cell_type": "code",
   "execution_count": 6,
   "metadata": {
    "colab": {},
    "colab_type": "code",
    "id": "Hmu3t98xnxZF"
   },
   "outputs": [
    {
     "name": "stdout",
     "output_type": "stream",
     "text": [
      "Kezia\n",
      "Verrel\n",
      "Aziz\n"
     ]
    }
   ],
   "source": [
    "# Jawaban no 2.1\n",
    "nama_teman = [\"Kezia\", \"Verrel\", \"Aziz\"]\n",
    "print(nama_teman[0])\n",
    "print(nama_teman[1])\n",
    "print(nama_teman[2])"
   ]
  },
  {
   "cell_type": "code",
   "execution_count": 8,
   "metadata": {
    "colab": {},
    "colab_type": "code",
    "id": "ek1Ehp_lrNGJ"
   },
   "outputs": [
    {
     "name": "stdout",
     "output_type": "stream",
     "text": [
      "Hai Kezia apa kabarmu?\n",
      "Hai Verrel apa kabarmu?\n",
      "Hai Aziz apa kabarmu?\n"
     ]
    }
   ],
   "source": [
    "# Jawaban no 2.2\n",
    "for teman in nama_teman:\n",
    "    print(\"Hai\", teman, \"apa kabarmu?\")"
   ]
  },
  {
   "cell_type": "markdown",
   "metadata": {
    "colab_type": "text",
    "id": "Li3chN_RrPKe"
   },
   "source": [
    "3.1 Jika Kamu bisa mengundang siapa pun, hidup atau sudah meninggal, untuk makan malam, siapa yang akan Kamu undang? Buatlah *list* yang menyertakan setidaknya tiga orang yang ingin Kamu undang untuk makan malam. Kemudian Cetaklah pesan kepada setiap orang untuk mengundang mereka makan malam.\n",
    "\n",
    "3.2 Kamu baru saja mendengar bahwa salah satu tamu tidak bisa datang untuk makan malam, jadi Kamu perlu mengirimkan undangan baru. Kamu harus memikirkan orang lain untuk diundang. \n",
    "    -  \n",
    "*   Mulailah dengan program Kamu dari Latihan 3.1. Tambahkan pernyataan cetak di akhir program Kamu yang menyatakan nama tamu yang tidak bisa hadir.\n",
    "*   Ubah *list* Kamu, ganti nama tamu yang tidak bisa hadir dengan nama orang baru yang Kamu undang \n",
    "*   Cetak pesan untuk undangan yang baru, untuk setiap orang yang ada di *list*.\n",
    "\n",
    "3.3 Baru saja kamu menemukan meja makan yang lebih besar, jadi sekarang lebih banyak ruang dan kursi yang tersedia. Pikirkan tiga tamu lagi untuk diundang makan malam. \n",
    "* Mulailah dengan program Kamu dari Latihan 3.1 atau Latihan 3.2. Tambahkan print statement di akhir program agar orang-orang tahu bahwa Kamu menemukan meja makan yang lebih besar. \n",
    "* Gunakan insert() untuk menambahkan satu tamu baru ke awal *list* Kamu. \n",
    "* Gunakan insert() untuk menambahkan satu tamu baru ke tengah *list* Kamu. \n",
    "* Gunakan append() untuk menambahkan satu tamu baru ke akhir *list* Kamu. \n",
    "* Cetak pesan untuk undangan baru, satu untuk setiap orang yang ada dalam *list*.\n",
    "\n",
    "3.4 Kamu baru saja mengetahui bahwa meja makan baru tidak akan tiba tepat waktu untuk makan malam, dan Kamu hanya memiliki ruang untuk dua tamu.\n",
    "* Mulailah dengan program Kamu dari Latihan 3.3. Cetaklah pesan yang mengatakan bahwa Kamu hanya dapat mengundang dua orang untuk makan malam.\n",
    "* Gunakan pop() untuk menghapus tamu dari *list* Kamu satu per satu hingga hanya dua nama yang tersisa di *list*. Setiap kali menggunakan pop(), cetak pesan kepada orang tersebut bahwa Kamu menyesal tidak dapat mengundangnya untuk makan malam.\n",
    "* Cetak pesan ke masing-masing dari dua orang yang masih ada di *list* Kamu, beri tahu mereka bahwa mereka masih diundang.\n",
    "* Gunakan del untuk menghapus dua nama terakhir dari *list*, sehingga Kamu memiliki *list* kosong. Cetak *list* Kamu untuk memastikan benar-benar memiliki *list* kosong di akhir program."
   ]
  },
  {
   "cell_type": "code",
   "execution_count": 21,
   "metadata": {
    "colab": {},
    "colab_type": "code",
    "id": "MbtLmwJwt0kB"
   },
   "outputs": [
    {
     "name": "stdout",
     "output_type": "stream",
     "text": [
      "Kuy Kezia makan malam!\n",
      "Kuy Verrel makan malam!\n",
      "Kuy Aziz makan malam!\n",
      "Kuy Ammar makan malam!\n"
     ]
    }
   ],
   "source": [
    "# Jawaban 3.1\n",
    "undangan = [\"Kezia\", \"Verrel\", \"Aziz\", \"Ammar\"]\n",
    "\n",
    "def cetak(undangan):\n",
    "    for teman in undangan:\n",
    "        print(\"Kuy\", teman, \"makan malam!\")\n",
    "        \n",
    "cetak(undangan)"
   ]
  },
  {
   "cell_type": "code",
   "execution_count": 22,
   "metadata": {
    "colab": {},
    "colab_type": "code",
    "id": "ShEqgl6Mt6ef"
   },
   "outputs": [
    {
     "name": "stdout",
     "output_type": "stream",
     "text": [
      "Kuy Kezia makan malam!\n",
      "Maaf, Verrel tidak bisa hadir\n",
      "Kuy Aziz makan malam!\n",
      "Kuy Ammar makan malam!\n",
      "\n",
      "\n",
      "Kuy Kezia makan malam!\n",
      "Kuy Bevan makan malam!\n",
      "Kuy Aziz makan malam!\n",
      "Kuy Ammar makan malam!\n"
     ]
    }
   ],
   "source": [
    "# Jawaban 3.2\n",
    "for index, teman in enumerate(undangan):\n",
    "    if index==1:\n",
    "        print(\"Maaf,\", teman, \"tidak bisa hadir\")\n",
    "    else:\n",
    "        print(\"Kuy\", teman, \"makan malam!\")\n",
    "\n",
    "print(\"\\n\")\n",
    "index = undangan.index(\"Verrel\")\n",
    "undangan[index] = \"Bevan\"\n",
    "\n",
    "cetak(undangan)"
   ]
  },
  {
   "cell_type": "code",
   "execution_count": 23,
   "metadata": {
    "colab": {},
    "colab_type": "code",
    "id": "n7J-Xhwrt9u4"
   },
   "outputs": [
    {
     "name": "stdout",
     "output_type": "stream",
     "text": [
      "Kuy Hans makan malam!\n",
      "Kuy Kezia makan malam!\n",
      "Kuy Alvin makan malam!\n",
      "Kuy Bevan makan malam!\n",
      "Kuy Aziz makan malam!\n",
      "Kuy Ammar makan malam!\n",
      "Kuy Adimas makan malam!\n"
     ]
    }
   ],
   "source": [
    "# Jawaban 3.3\n",
    "undangan.insert(0, \"Hans\")\n",
    "undangan.insert(2, \"Alvin\")\n",
    "undangan.append(\"Adimas\")\n",
    "\n",
    "cetak(undangan)"
   ]
  },
  {
   "cell_type": "code",
   "execution_count": 24,
   "metadata": {
    "colab": {},
    "colab_type": "code",
    "id": "ki8wBHXct6rO"
   },
   "outputs": [
    {
     "name": "stdout",
     "output_type": "stream",
     "text": [
      "Maaf Adimas slot terbatas, kita makan lain kali\n",
      "Maaf Ammar slot terbatas, kita makan lain kali\n",
      "Maaf Aziz slot terbatas, kita makan lain kali\n",
      "Maaf Bevan slot terbatas, kita makan lain kali\n",
      "Maaf Alvin slot terbatas, kita makan lain kali\n",
      "\n",
      "\n",
      "Kuy Hans makan malam!\n",
      "Kuy Kezia makan malam!\n",
      "Undangan: []\n"
     ]
    }
   ],
   "source": [
    "# Jawaban 3.4\n",
    "while len(undangan)>2:\n",
    "    print(\"Maaf\", undangan[len(undangan)-1], \"slot terbatas, kita makan lain kali\")\n",
    "    undangan.pop()\n",
    "\n",
    "print(\"\\n\")\n",
    "cetak(undangan)\n",
    "\n",
    "del(undangan[:])\n",
    "print(\"Undangan:\", undangan)"
   ]
  },
  {
   "cell_type": "markdown",
   "metadata": {
    "colab_type": "text",
    "id": "hEQ4HZ5YzgGM"
   },
   "source": [
    "4.1 Bagaimana menggabungkan *Sets* dan *List* di bawah ini menjadi sebuah *Sets*?\n",
    "\n",
    "    set_warna = {\"Kuning\", \"Orange\", \"Hitam\"}\n",
    "    list_warna  = [\"Biru\", \"Hijau\", \"Merah\", \"Kuning\"]\n",
    "\n",
    "4.2 Buatlah 2 *Sets* yang mempunyai karakteristik *Intersection* dan Buktikan\n",
    "\n",
    "4.3 Buatlah 2 *Sets* yang mempunyai karakteristik *Disjoint* dan Buktikan\n",
    "\n",
    "4.4 Buatlah 2 *Sets* yang mempunyai karakteristik *Union* dan Buktikan\n",
    "\n",
    "4.5 Buatlah 2 *Sets* yang mempunyai karakteristik *Subset* dan Buktikan"
   ]
  },
  {
   "cell_type": "code",
   "execution_count": 33,
   "metadata": {
    "colab": {},
    "colab_type": "code",
    "id": "PzYGxV3O0kcA"
   },
   "outputs": [
    {
     "name": "stdout",
     "output_type": "stream",
     "text": [
      "{'Kuning', 'Biru', 'Merah', 'Hijau', 'Orange', 'Hitam'}\n"
     ]
    }
   ],
   "source": [
    "# Jawaban 4.1\n",
    "set_warna = {\"Kuning\", \"Orange\", \"Hitam\"}\n",
    "list_warna  = [\"Biru\", \"Hijau\", \"Merah\", \"Kuning\"]\n",
    "\n",
    "list_gabung = list(set_warna) + list_warna\n",
    "print(set(list_gabung))"
   ]
  },
  {
   "cell_type": "code",
   "execution_count": 35,
   "metadata": {
    "colab": {},
    "colab_type": "code",
    "id": "br4ILc7F0plu"
   },
   "outputs": [
    {
     "name": "stdout",
     "output_type": "stream",
     "text": [
      "{2, 4}\n"
     ]
    }
   ],
   "source": [
    "# Jawaban 4.2\n",
    "set1 = {1, 2, 3, 4}\n",
    "set2 = {2, 4, 6, 8}\n",
    "print(set1.intersection(set2))"
   ]
  },
  {
   "cell_type": "code",
   "execution_count": 37,
   "metadata": {
    "colab": {},
    "colab_type": "code",
    "id": "YM0E_Ttk0ptQ"
   },
   "outputs": [
    {
     "name": "stdout",
     "output_type": "stream",
     "text": [
      "True\n"
     ]
    }
   ],
   "source": [
    "# Jawaban 4.3\n",
    "set3 = {5, 7}\n",
    "print(set1.isdisjoint(set3))"
   ]
  },
  {
   "cell_type": "code",
   "execution_count": 38,
   "metadata": {
    "colab": {},
    "colab_type": "code",
    "id": "WmvUxWMI0p8a"
   },
   "outputs": [
    {
     "name": "stdout",
     "output_type": "stream",
     "text": [
      "{1, 2, 3, 4, 6, 8}\n"
     ]
    }
   ],
   "source": [
    "# Jawaban 4.4\n",
    "print(set1.union(set2))"
   ]
  },
  {
   "cell_type": "code",
   "execution_count": 39,
   "metadata": {
    "colab": {},
    "colab_type": "code",
    "id": "0jnr3gUT2MP1"
   },
   "outputs": [
    {
     "name": "stdout",
     "output_type": "stream",
     "text": [
      "True\n"
     ]
    }
   ],
   "source": [
    "# Jawaban 4.5\n",
    "set4 = {2, 3}\n",
    "print(set4.issubset(set1))"
   ]
  },
  {
   "cell_type": "markdown",
   "metadata": {
    "colab_type": "text",
    "id": "Wwp1TYFb2oLm"
   },
   "source": [
    "5.1 Gunakan *dictionary* untuk menyimpan informasi tentang orang yang Kamu kenal.\n",
    "Simpan nama_depan, nama_belakang, umur, dan kota tempat mereka tinggal. Kamu\n",
    "harus memiliki kunci seperti first_name, last_name, age, dan city. Cetak masing-masing setiap informasi yang disimpan dalam *dictionary* Kamu.\n",
    "\n",
    "5.2 Gunakan *dictionary* untuk menyimpan angka favorit orang yang kamu kenal contoh 46.\n",
    "Pikirkan lima nama, dan gunakan sebagai *key* dalam *dictionary*. Kemudian simpan masing-masing angka sebagai *value* dalam *dictionary* Kamu. Cetaklah\n",
    "setiap nama orang dan angka favoritnya."
   ]
  },
  {
   "cell_type": "code",
   "execution_count": 44,
   "metadata": {
    "colab": {},
    "colab_type": "code",
    "id": "Qdcy1GoN3epz"
   },
   "outputs": [
    {
     "name": "stdout",
     "output_type": "stream",
     "text": [
      "Key: first_name dan Value: Karen\n",
      "Key: last_name dan Value: Amelia\n",
      "Key: age dan Value: 15\n",
      "Key: city dan Value: Malang\n"
     ]
    }
   ],
   "source": [
    "# Jawaban 5.1\n",
    "info = {\n",
    "    \"first_name\": \"Karen\",\n",
    "    \"last_name\": \"Amelia\",\n",
    "    \"age\": 15,\n",
    "    \"city\": \"Malang\"\n",
    "}\n",
    "\n",
    "for data in info:\n",
    "    print(\"Key:\", data, \"dan Value:\", info[data])"
   ]
  },
  {
   "cell_type": "code",
   "execution_count": 45,
   "metadata": {
    "colab": {},
    "colab_type": "code",
    "id": "G-Xn4nFI3icK"
   },
   "outputs": [
    {
     "name": "stdout",
     "output_type": "stream",
     "text": [
      "Liest angka favoritnya 21\n",
      "Priscil angka favoritnya 4\n",
      "Karen angka favoritnya 26\n",
      "Herry angka favoritnya 3\n",
      "Vanny angka favoritnya 10\n"
     ]
    }
   ],
   "source": [
    "# Jawaban 5.2\n",
    "angkaFav = {\n",
    "    \"Liest\": 21,\n",
    "    \"Priscil\": 4,\n",
    "    \"Karen\": 26,\n",
    "    \"Herry\": 3,\n",
    "    \"Vanny\": 10\n",
    "}\n",
    "\n",
    "for data in angkaFav:\n",
    "    print(data, \"angka favoritnya\", angkaFav[data])"
   ]
  }
 ],
 "metadata": {
  "colab": {
   "collapsed_sections": [],
   "name": "Week 3 - (Lab Exercise) Python Data Structure.ipynb",
   "provenance": []
  },
  "kernelspec": {
   "display_name": "Python 3",
   "language": "python",
   "name": "python3"
  },
  "language_info": {
   "codemirror_mode": {
    "name": "ipython",
    "version": 3
   },
   "file_extension": ".py",
   "mimetype": "text/x-python",
   "name": "python",
   "nbconvert_exporter": "python",
   "pygments_lexer": "ipython3",
   "version": "3.7.6"
  }
 },
 "nbformat": 4,
 "nbformat_minor": 1
}
