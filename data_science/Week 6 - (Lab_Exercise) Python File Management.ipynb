{
  "nbformat": 4,
  "nbformat_minor": 0,
  "metadata": {
    "kernelspec": {
      "display_name": "Python 3",
      "language": "python",
      "name": "python3"
    },
    "language_info": {
      "codemirror_mode": {
        "name": "ipython",
        "version": 3
      },
      "file_extension": ".py",
      "mimetype": "text/x-python",
      "name": "python",
      "nbconvert_exporter": "python",
      "pygments_lexer": "ipython3",
      "version": "3.6.4"
    },
    "colab": {
      "name": "Week 6 - (Lab Exercise) Python File Management.ipynb",
      "provenance": [],
      "collapsed_sections": []
    }
  },
  "cells": [
    {
      "cell_type": "markdown",
      "metadata": {
        "id": "IUnV98BFLEzK"
      },
      "source": [
        "<h1>ISB2017 Applied Data Science<h1>\n",
        "\n",
        "---\n",
        "\n",
        "\n",
        "***Lab Exercise Week 6: Python File Management***"
      ]
    },
    {
      "cell_type": "markdown",
      "metadata": {
        "id": "5gfh0oDcgBb2"
      },
      "source": [
        "1.1 Buka file kosong dan tulis beberapa baris yang merangkum apa yang telah Anda pelajari tentang Python sejauh ini. Mulailah setiap baris dengan frase Dengan Python Kamu dapat .... . Contoh Dengan Python Kamu Dapat Belajar Data Analisis. Simpan file sebagai belajar_python.txt di direktori yang sama dengan latihan ini. Tulis program yang membaca file dan mencetak apa yang Anda tulis. \n",
        "1.   Cetak konten sekali dengan membaca seluruh file.\n",
        "2.   Cetak setiap bari sekali dengan menggunakan perulangan.\n",
        "3.   Simpan dulu dalam *list* dan kemudian mengerjakannya di luar blok *with* serta cetak satu per satu.\n",
        "\n",
        "\n",
        "1.2 Kamu dapat menggunakan metode replace () untuk mengganti kata apa pun dalam string dengan kata yang berbeda. Berikut adalah contoh singkat yang menunjukkan cara mengganti 'anjing' dengan 'kucing' dalam sebuah kalimat:\n",
        "\n",
        "    >>> message = \"I really like dogs.\"\n",
        "    >>> message.replace('dog', 'cat')\n",
        "    'I really like cats.'\n",
        "\n",
        "Baca di setiap baris dari file yang baru Kamu buat, belajar_python.txt, dan ganti kata Python dengan nama bahasa lain, seperti C. Cetak setiap baris yang ada."
      ]
    },
    {
      "cell_type": "code",
      "metadata": {
        "id": "8XRSDbV2FDfC"
      },
      "source": [
        "# Jawaban 1.1"
      ],
      "execution_count": null,
      "outputs": []
    },
    {
      "cell_type": "code",
      "metadata": {
        "id": "aqXifbtCgD8D"
      },
      "source": [
        "# Jawaban 1.2"
      ],
      "execution_count": null,
      "outputs": []
    },
    {
      "cell_type": "markdown",
      "metadata": {
        "id": "aoF6udPUFeul"
      },
      "source": [
        "<h3> Mengenal Iris Dataset </h3>\n",
        "\n",
        "![alt img](https://miro.medium.com/max/1100/0*SHhnoaaIm36pc1bd)"
      ]
    },
    {
      "cell_type": "markdown",
      "metadata": {
        "id": "_ITRecQlFzmR"
      },
      "source": [
        "2.1 Gunakan tautan ini untuk meload csv menjadi DataFrames di pandas. https://gist.githubusercontent.com/curran/a08a1080b88344b0c8a7/raw/639388c2cbc2120a14dcf466e85730eb8be498bb/iris.csv\n",
        "\n",
        "2.2 Tampilkan  baris atas dataset dengan kolomnya.\n",
        "\n",
        "2.3 Tunjukkan spesies apa saja yang terdapat di dataset.\n",
        "\n",
        "2.4 Bagaimana menampilkan Index, Columns, Ukuran Dataset pada DataFrames.\n",
        "\n",
        "2.5 Ambilah salah satu kolom beserta datanya dari DataFrames\n",
        "\n",
        "2.6 Ambilah 2 atau lebih kolom beserta datanya dari DataFrames\n",
        "\n",
        "2.7 Bagaimana mengambil data di baris ke 30-70 dan hanya mengambil kolom sepal_length dan sepal_width?\n",
        "\n",
        "2.8 Hitunglah *mean, max, min, median* dari petal_width\n",
        "\n",
        "2.9 Tambahkan satu kolom bernama \"jumlahan\" yang berisi jumlahan 4 kolom numerik pada DataFrames\n",
        "\n",
        "2.10 Apakah ada data yang hilang di DataFrames? Buktikan\n"
      ]
    },
    {
      "cell_type": "code",
      "metadata": {
        "id": "0U9x4tibIqRR"
      },
      "source": [
        "# Jawaban 2.1"
      ],
      "execution_count": null,
      "outputs": []
    },
    {
      "cell_type": "code",
      "metadata": {
        "id": "UHPdJAigIqNj"
      },
      "source": [
        "# Jawaban 2.2"
      ],
      "execution_count": null,
      "outputs": []
    },
    {
      "cell_type": "code",
      "metadata": {
        "id": "cIdxUqlzIqLr"
      },
      "source": [
        "# Jawaban 2.3"
      ],
      "execution_count": null,
      "outputs": []
    },
    {
      "cell_type": "code",
      "metadata": {
        "id": "RUFw_4yvIqI3"
      },
      "source": [
        "# Jawaban 2.4"
      ],
      "execution_count": null,
      "outputs": []
    },
    {
      "cell_type": "code",
      "metadata": {
        "id": "LKUGLsmEIqGO"
      },
      "source": [
        "# Jawaban 2.5"
      ],
      "execution_count": null,
      "outputs": []
    },
    {
      "cell_type": "code",
      "metadata": {
        "id": "pTldIaXAIqD7"
      },
      "source": [
        "# Jawaban 2.6"
      ],
      "execution_count": null,
      "outputs": []
    },
    {
      "cell_type": "code",
      "metadata": {
        "id": "7YcJM0hwIqBU"
      },
      "source": [
        "# Jawaban 2.7"
      ],
      "execution_count": null,
      "outputs": []
    },
    {
      "cell_type": "code",
      "metadata": {
        "id": "RnPqp7P1Ip-m"
      },
      "source": [
        "# Jawaban 2.8"
      ],
      "execution_count": null,
      "outputs": []
    },
    {
      "cell_type": "code",
      "metadata": {
        "id": "NcyJ4bO5Ikte"
      },
      "source": [
        "# Jawaban 2.9"
      ],
      "execution_count": null,
      "outputs": []
    },
    {
      "cell_type": "code",
      "metadata": {
        "id": "E6tzQt7DIxX9"
      },
      "source": [
        "# Jawaban 2.10"
      ],
      "execution_count": null,
      "outputs": []
    }
  ]
}