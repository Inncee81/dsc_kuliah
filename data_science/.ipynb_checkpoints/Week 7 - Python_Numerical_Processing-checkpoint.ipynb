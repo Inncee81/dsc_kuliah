{
 "cells": [
  {
   "cell_type": "markdown",
   "metadata": {
    "id": "IUnV98BFLEzK"
   },
   "source": [
    "<h1>ISB2017 Applied Data Science<h1>\n",
    "\n",
    "---\n",
    "\n",
    "\n",
    "***Classroom Exercise Week 7: Python Numerical Processing***"
   ]
  },
  {
   "cell_type": "markdown",
   "metadata": {
    "id": "uh1WjE8R3t8f"
   },
   "source": [
    "<h3 align=center>Menggunakan Numerical Python (NumPy)</h3>"
   ]
  },
  {
   "cell_type": "markdown",
   "metadata": {
    "id": "ztyyKFD93t8g"
   },
   "source": [
    "Pertemuan minggu ke-7 ini kita akan bersama-sama mempelajari dan menerapkan bagaimana python melakukan numerical processing dengan menggunakan modul NumPy yang memiliki fitur multi-dimension array yang penting untuk dipelajari dalam data science karena cepat dan hemat resource. NumPy mendukung proses untuk data dalam jumlah besar dilengkapi dengan sejumlah fungsi mathematika high-level."
   ]
  },
  {
   "cell_type": "markdown",
   "metadata": {
    "id": "rj4bgZTbrNH-"
   },
   "source": [
    "Membuat array 1 dimensi"
   ]
  },
  {
   "cell_type": "code",
   "execution_count": 3,
   "metadata": {
    "id": "LzX0mrsMsStk"
   },
   "outputs": [
    {
     "name": "stdout",
     "output_type": "stream",
     "text": [
      "int32\n",
      "<U5\n"
     ]
    }
   ],
   "source": [
    "import numpy as np\n",
    "\n",
    "my_int_array = np.array([5,6,7,8,9])\n",
    "print(my_int_array.dtype)\n",
    "\n",
    "my_str_array = np.array([\"one\", \"two\", \"three\"])\n",
    "print(my_str_array.dtype)"
   ]
  },
  {
   "cell_type": "code",
   "execution_count": 2,
   "metadata": {
    "id": "K1ywZlb2f2b9"
   },
   "outputs": [
    {
     "name": "stdout",
     "output_type": "stream",
     "text": [
      "[5.  7.  9.5]\n",
      "['5' '7' '9.5' 'ten']\n"
     ]
    }
   ],
   "source": [
    "# Numpy array apabila elemennya homogeneous, maka elemen yang lebih sederhana \n",
    "# akan diubah ke yang lebih kompleks \n",
    "my_hetero_array = np.array([5, 7, 9.5])\n",
    "print(my_hetero_array)\n",
    "\n",
    "my_hetero_array = np.array([5, 7, 9.5, \"ten\"])\n",
    "print(my_hetero_array)"
   ]
  },
  {
   "cell_type": "markdown",
   "metadata": {
    "id": "mOZkneh-rSpF"
   },
   "source": [
    "Membuat array 2 dimensi"
   ]
  },
  {
   "cell_type": "code",
   "execution_count": 4,
   "metadata": {
    "id": "DmBhRiTorVDx"
   },
   "outputs": [
    {
     "name": "stdout",
     "output_type": "stream",
     "text": [
      "Array Shape:  (2, 4)\n",
      "[[2 3 4 5]\n",
      " [6 7 8 9]]\n"
     ]
    }
   ],
   "source": [
    "# Array 2 Dimensi\n",
    "my_2d_array = np.array([[2,3,4,5], [6,7,8,9]])\n",
    "print(\"Array Shape: \", my_2d_array.shape)\n",
    "print(my_2d_array)"
   ]
  },
  {
   "cell_type": "markdown",
   "metadata": {
    "id": "JmqXe8ZJmR7P"
   },
   "source": [
    "Generating Array dengan fungsi arange<br>\n",
    "`numpy.arange([start, ]stop, [step, ])`"
   ]
  },
  {
   "cell_type": "code",
   "execution_count": 5,
   "metadata": {
    "id": "mQPfm9HXmUbr"
   },
   "outputs": [
    {
     "name": "stdout",
     "output_type": "stream",
     "text": [
      "[0 1 2 3 4 5 6 7 8 9]\n",
      "[2 5 8]\n"
     ]
    }
   ],
   "source": [
    "# Membuat array dengan elemen dari 0 hingga 10\n",
    "my_array = np.arange(10)\n",
    "print(my_array)\n",
    "\n",
    "# Membuat array dengan elemen dari 2 hingga 10 dengan step 3\n",
    "my_array = np.arange(2, 10, 3)\n",
    "print(my_array)"
   ]
  },
  {
   "cell_type": "markdown",
   "metadata": {
    "id": "MrdNLDbKsRU0"
   },
   "source": [
    "Menampilkan value dari array dapat dilakukan dengan menyebutkan index nya, sesuai dengan dimensi dari array."
   ]
  },
  {
   "cell_type": "code",
   "execution_count": 6,
   "metadata": {
    "id": "NJTr1mmuoJI0"
   },
   "outputs": [
    {
     "name": "stdout",
     "output_type": "stream",
     "text": [
      "8\n",
      "4\n"
     ]
    }
   ],
   "source": [
    "# Akses terhadap array 1 Dimensi\n",
    "print(my_array[2])\n",
    "\n",
    "# Akses terhadap array 2 Dimensi\n",
    "print(my_2d_array[0,2])"
   ]
  },
  {
   "cell_type": "markdown",
   "metadata": {
    "id": "Gptj2aVis3GU"
   },
   "source": [
    "<h4>Axis pada Array NumPy</h4>\n",
    "Axis pada Array NumPy adalah topik yang sangat mendasar tetapi penting, Axis dan Dimensi adalah konsep yang sangat umum digunakan pada Numpy, Pandas, TensorFlow, atau library lain. Dengan kata sederhana, Axis adalah sesuatu yang mewakili arah dimensi data."
   ]
  },
  {
   "cell_type": "code",
   "execution_count": 10,
   "metadata": {
    "id": "ahFn9YR14Y8g"
   },
   "outputs": [
    {
     "data": {
      "text/plain": [
       "21"
      ]
     },
     "execution_count": 10,
     "metadata": {},
     "output_type": "execute_result"
    }
   ],
   "source": [
    "my_data = [1, 2, 3, 4, 5, 6]\n",
    "np.sum(my_data, axis=0)"
   ]
  },
  {
   "cell_type": "code",
   "execution_count": 8,
   "metadata": {
    "id": "kk_b1V7ys-eE"
   },
   "outputs": [
    {
     "data": {
      "text/plain": [
       "21"
      ]
     },
     "execution_count": 8,
     "metadata": {},
     "output_type": "execute_result"
    }
   ],
   "source": [
    "data_one = [1,2,3]\n",
    "data_two = [4,5,6]\n",
    "np.sum((data_one, data_two))"
   ]
  },
  {
   "cell_type": "code",
   "execution_count": 16,
   "metadata": {
    "id": "QI7viqkNu4FK"
   },
   "outputs": [
    {
     "name": "stdout",
     "output_type": "stream",
     "text": [
      "sum: \n",
      " 30\n",
      "sum using axis-0: \n",
      " [[3 3 3]\n",
      " [7 7 7]]\n",
      "sum using axis-1: \n",
      " [[4 4 4]\n",
      " [6 6 6]]\n"
     ]
    }
   ],
   "source": [
    "# Perhatikan penggunaan axis\n",
    "data_three = [[[1,1,1], [3,3,3]],\n",
    "              [[2,2,2], [4,4,4]]]\n",
    "print(\"sum: \\n\", np.sum(data_three))\n",
    "print(\"sum using axis-0: \\n\", np.sum(data_three, axis=0))\n",
    "print(\"sum using axis-1: \\n\", np.sum(data_three, axis=1))"
   ]
  },
  {
   "cell_type": "markdown",
   "metadata": {
    "id": "3i6yBnIOseh_"
   },
   "source": [
    "<h4>Array Slicing</h4>\n",
    "Memotong (slicing) array dapat kita lakukan dengan notasi yang sama dengan <i>collection data types</i>. Sebagai contoh kita dapat mengambil element dari index ke 2 sampai akhir dengan cara:"
   ]
  },
  {
   "cell_type": "code",
   "execution_count": 17,
   "metadata": {
    "id": "JaI67GjFsdXn"
   },
   "outputs": [
    {
     "data": {
      "text/plain": [
       "array([7, 8, 9])"
      ]
     },
     "execution_count": 17,
     "metadata": {},
     "output_type": "execute_result"
    }
   ],
   "source": [
    "my_array = np.array([5,6,7,8,9])\n",
    "\n",
    "# untuk array uni-dimensional cukup straight forward pasti pada axis=0\n",
    "my_array[2:]"
   ]
  },
  {
   "cell_type": "code",
   "execution_count": 18,
   "metadata": {
    "id": "9DiJwaiyvWVn"
   },
   "outputs": [
    {
     "data": {
      "text/plain": [
       "array([3, 4])"
      ]
     },
     "execution_count": 18,
     "metadata": {},
     "output_type": "execute_result"
    }
   ],
   "source": [
    "# untuk array 2-dimensi cara slicing nya lebih kompleks\n",
    "my_2d_array = np.array([[2,3,4,5], \n",
    "                        [6,7,8,9]])\n",
    "\n",
    "my_2d_array[0, 1:3] # artinya arah axis-0 (row ke 0 saja) diambil elemen index 1 dan 2"
   ]
  },
  {
   "cell_type": "code",
   "execution_count": 19,
   "metadata": {
    "id": "2UKNgIfBv7cw"
   },
   "outputs": [
    {
     "data": {
      "text/plain": [
       "array([[3, 4],\n",
       "       [7, 8]])"
      ]
     },
     "execution_count": 19,
     "metadata": {},
     "output_type": "execute_result"
    }
   ],
   "source": [
    "my_2d_array[0:2, 1:3] # artinya arah axis-0 (row ke 0 dan 1) diambil elemen index 1 dan 2"
   ]
  },
  {
   "cell_type": "markdown",
   "metadata": {
    "id": "k_RInVjIJGbE"
   },
   "source": [
    "Jika kita ingin slice array dengan hasil `[[2,3,4], [6,7,8]]` bagaimana perintahnya?"
   ]
  },
  {
   "cell_type": "code",
   "execution_count": 20,
   "metadata": {
    "id": "nYVOJN4vJavZ"
   },
   "outputs": [
    {
     "data": {
      "text/plain": [
       "array([[2, 3, 4],\n",
       "       [6, 7, 8]])"
      ]
     },
     "execution_count": 20,
     "metadata": {},
     "output_type": "execute_result"
    }
   ],
   "source": [
    "my_2d_array[0:2, 0:3]"
   ]
  },
  {
   "cell_type": "markdown",
   "metadata": {
    "id": "N3dz3JrEJvAW"
   },
   "source": [
    "<h4>Converting Data Type pada Array</h4>\n",
    "Fungsi astype() pada NumPy array dapat digunakan untuk membuat salinan dari array ke array baru dengan tipe data yang berbeda. Pada contoh di slide ini array integer diubah menjadi array float. Perhatikan, jika dalam array ada kombinasi integer dan float, maka tipe data akan dianggap float."
   ]
  },
  {
   "cell_type": "code",
   "execution_count": 21,
   "metadata": {
    "id": "V0H9_tNNwNSs"
   },
   "outputs": [
    {
     "name": "stdout",
     "output_type": "stream",
     "text": [
      "[1 2 3 4]\n",
      "[1. 2. 3. 4.]\n"
     ]
    }
   ],
   "source": [
    "# Membuat array berisi elemen dengan tipe integer\n",
    "my_array = np.array([1, 2, 3, 4], dtype=\"i\")\n",
    "print(my_array)\n",
    "\n",
    "# Membuat array berisi elemen dengan tipe float\n",
    "my_array = np.array([1, 2, 3, 4], dtype=\"f\")\n",
    "print(my_array)"
   ]
  },
  {
   "cell_type": "code",
   "execution_count": 22,
   "metadata": {
    "id": "UznfuE5U4sW0"
   },
   "outputs": [
    {
     "data": {
      "text/plain": [
       "array([ True, False,  True])"
      ]
     },
     "execution_count": 22,
     "metadata": {},
     "output_type": "execute_result"
    }
   ],
   "source": [
    "# Mengubah tipe data integer menjadi boolean\n",
    "my_array = np.array([1, 0, 3], dtype=\"i\")\n",
    "new_array = my_array.astype(bool)\n",
    "new_array"
   ]
  },
  {
   "cell_type": "code",
   "execution_count": 23,
   "metadata": {
    "id": "UfTqWQH154h8"
   },
   "outputs": [
    {
     "data": {
      "text/plain": [
       "array([1., 0., 3.], dtype=float32)"
      ]
     },
     "execution_count": 23,
     "metadata": {},
     "output_type": "execute_result"
    }
   ],
   "source": [
    "# Mengubah tipe data integer menjadi float\n",
    "my_array = np.array([1, 0, 3], dtype=\"i\")\n",
    "new_array = my_array.astype(\"f\")\n",
    "new_array"
   ]
  },
  {
   "cell_type": "markdown",
   "metadata": {
    "id": "1Th7AUKu9V5t"
   },
   "source": [
    "Kita dapat memeriksa dimensi dari array yang kita buat dengan menggunakan property `shape`"
   ]
  },
  {
   "cell_type": "code",
   "execution_count": 24,
   "metadata": {
    "id": "YVSKoSYN7bIq"
   },
   "outputs": [
    {
     "data": {
      "text/plain": [
       "(3,)"
      ]
     },
     "execution_count": 24,
     "metadata": {},
     "output_type": "execute_result"
    }
   ],
   "source": [
    "my_array.shape"
   ]
  },
  {
   "cell_type": "code",
   "execution_count": 25,
   "metadata": {
    "id": "vMVyZlYf8SRH"
   },
   "outputs": [
    {
     "data": {
      "text/plain": [
       "(3, 4)"
      ]
     },
     "execution_count": 25,
     "metadata": {},
     "output_type": "execute_result"
    }
   ],
   "source": [
    "my_2d_array = np.array([[2,3,4,5], \n",
    "                        [6,7,8,9], \n",
    "                        [10,11,12,13]])\n",
    "my_2d_array.shape"
   ]
  },
  {
   "cell_type": "markdown",
   "metadata": {
    "id": "uKhz23LD9f27"
   },
   "source": [
    "NumPy juga memiliki fitur untuk reshape dimensi sebuah array dengan fungsi reshape()"
   ]
  },
  {
   "cell_type": "code",
   "execution_count": 26,
   "metadata": {
    "id": "LXDgH5JK8YDg"
   },
   "outputs": [
    {
     "data": {
      "text/plain": [
       "array([[ 2,  3,  4,  5,  6,  7],\n",
       "       [ 8,  9, 10, 11, 12, 13]])"
      ]
     },
     "execution_count": 26,
     "metadata": {},
     "output_type": "execute_result"
    }
   ],
   "source": [
    "# Mengubah my_2d_array yang shapenya (3,4) menjadi (2,6)\n",
    "new_array = my_2d_array.reshape(2, 6)\n",
    "new_array"
   ]
  },
  {
   "cell_type": "markdown",
   "metadata": {
    "id": "dfDhy7hKDYTL"
   },
   "source": [
    "NumPy memiliki fungsi `concatenate` untuk menggabung array sesuai axisnya"
   ]
  },
  {
   "cell_type": "code",
   "execution_count": 27,
   "metadata": {
    "id": "og0U3TnU9urD"
   },
   "outputs": [
    {
     "name": "stdout",
     "output_type": "stream",
     "text": [
      "Concatenate dari kedua array ini pada axis=0: \n",
      " [[1 2]\n",
      " [3 4]\n",
      " [5 6]\n",
      " [7 8]]\n",
      "Shape array ini:  (4, 2)\n"
     ]
    }
   ],
   "source": [
    "array_one = np.array([[1, 2],\n",
    "                      [3, 4]])\n",
    "array_two = np.array([[5, 6],\n",
    "                      [7, 8]])\n",
    "arr1_arr2 = np.concatenate((array_one, array_two), axis=0)\n",
    "print(\"Concatenate dari kedua array ini pada axis=0: \\n\",arr1_arr2) \n",
    "print(\"Shape array ini: \", arr1_arr2.shape)"
   ]
  },
  {
   "cell_type": "markdown",
   "metadata": {
    "id": "sN0MmPcdOFTg"
   },
   "source": [
    "Cobalah melakukan concatenate pada axis=1. Tampilkan shape dari array hasil concatenate ini."
   ]
  },
  {
   "cell_type": "code",
   "execution_count": 28,
   "metadata": {
    "id": "wTJXHoP4OELh"
   },
   "outputs": [
    {
     "name": "stdout",
     "output_type": "stream",
     "text": [
      "Concatenate dari kedua array ini pada axis=1: \n",
      " [[1 2 5 6]\n",
      " [3 4 7 8]]\n",
      "Shape array ini:  (2, 4)\n"
     ]
    }
   ],
   "source": [
    "arr1_arr2 = np.concatenate((array_one, array_two), axis=1)\n",
    "print(\"Concatenate dari kedua array ini pada axis=1: \\n\", arr1_arr2)\n",
    "print(\"Shape array ini: \", arr1_arr2.shape)"
   ]
  },
  {
   "cell_type": "markdown",
   "metadata": {
    "id": "DtiP8486HI5N"
   },
   "source": [
    "Menggabung Arrays dengan fungsi `stack` dari Numpy"
   ]
  },
  {
   "cell_type": "code",
   "execution_count": 29,
   "metadata": {
    "id": "H6mdbYW0DrwG"
   },
   "outputs": [
    {
     "name": "stdout",
     "output_type": "stream",
     "text": [
      "[[1 2 3]\n",
      " [4 5 6]]\n"
     ]
    }
   ],
   "source": [
    "array_one = np.array([1, 2, 3])\n",
    "array_two = np.array([4, 5, 6])\n",
    "arr_stack = np.stack((array_one, array_two), axis=0)\n",
    "print(arr_stack) "
   ]
  },
  {
   "cell_type": "markdown",
   "metadata": {
    "id": "rELhEJTBspDV"
   },
   "source": [
    "Fungsi `transpose` dari sebuah matriks<br>\n",
    "Transpose matriks adalah operator yang membalik matriks di atas diagonalnya. Hasil transpose adalah pertukaran indeks baris dan kolom dari sebuah matriks A dilambangkan dengan A<sup>T</sup>."
   ]
  },
  {
   "cell_type": "code",
   "execution_count": 30,
   "metadata": {
    "id": "da78XJmjsu9r"
   },
   "outputs": [
    {
     "name": "stdout",
     "output_type": "stream",
     "text": [
      "[[3 5]\n",
      " [6 7]]\n"
     ]
    }
   ],
   "source": [
    "x = np.array([[3,6],\n",
    "              [5,7]])\n",
    "y = x.transpose()\n",
    "print(y)"
   ]
  },
  {
   "cell_type": "markdown",
   "metadata": {
    "id": "10RpSvRDtBDx"
   },
   "source": [
    "Tampilkan hasil transpose dari array `[[11, 12, 13], [14, 15, 16], [17, 18, 19]]`"
   ]
  },
  {
   "cell_type": "code",
   "execution_count": 31,
   "metadata": {
    "id": "kTJSa4LrtXf8"
   },
   "outputs": [
    {
     "name": "stdout",
     "output_type": "stream",
     "text": [
      "[[11 14 17]\n",
      " [12 15 18]\n",
      " [13 16 19]]\n"
     ]
    }
   ],
   "source": [
    "x = np.array([[11, 12, 13], [14, 15, 16], [17, 18, 19]])\n",
    "y = x.transpose()\n",
    "print(y)"
   ]
  },
  {
   "cell_type": "markdown",
   "metadata": {
    "id": "ZV-nkRF9F1rn"
   },
   "source": [
    "Index dari array"
   ]
  },
  {
   "cell_type": "code",
   "execution_count": 32,
   "metadata": {
    "id": "oBoq_jNNuN-E"
   },
   "outputs": [
    {
     "name": "stdout",
     "output_type": "stream",
     "text": [
      "6\n",
      "[ 8  9 10 11]\n"
     ]
    }
   ],
   "source": [
    "a = np.array([2,3,4,5])\n",
    "b = np.array([6,7,8,9,10,11,12])\n",
    "print(b[0])\n",
    "print(b[a])"
   ]
  },
  {
   "cell_type": "markdown",
   "metadata": {
    "id": "oAYOY-fDOI3Z"
   },
   "source": [
    "<h4>Searching and Sorting</h4>\n",
    "Searching inside Array"
   ]
  },
  {
   "cell_type": "code",
   "execution_count": 33,
   "metadata": {
    "id": "QC199vtaHSTd"
   },
   "outputs": [
    {
     "name": "stdout",
     "output_type": "stream",
     "text": [
      "(array([0, 4, 6], dtype=int64),)\n"
     ]
    }
   ],
   "source": [
    "my_array = np.array([12, 32, 36, 21, 12, 37, 12])\n",
    "x = np.where(my_array == 12)\n",
    "print(x)"
   ]
  },
  {
   "cell_type": "markdown",
   "metadata": {
    "id": "wGk3oINYRFM6"
   },
   "source": [
    "Sorting elements inside an Array"
   ]
  },
  {
   "cell_type": "code",
   "execution_count": 34,
   "metadata": {
    "id": "z_QpsQfiOfL3"
   },
   "outputs": [
    {
     "name": "stdout",
     "output_type": "stream",
     "text": [
      "[ 12  27  33  34  65  75  89 107]\n"
     ]
    }
   ],
   "source": [
    "my_unsorted_array = np.array([75, 34, 27, 89, 12, 65, 33, 107])\n",
    "my_sorted_array = np.sort(my_unsorted_array)\n",
    "print(my_sorted_array)"
   ]
  },
  {
   "cell_type": "code",
   "execution_count": 35,
   "metadata": {
    "id": "V-qxmL29KB9n"
   },
   "outputs": [
    {
     "name": "stdout",
     "output_type": "stream",
     "text": [
      "Along first axis : \n",
      " [[ 8  1  7]\n",
      " [10  9 10]\n",
      " [12 15 11]]\n"
     ]
    }
   ],
   "source": [
    "# sort along the first axis \n",
    "my_array = np.array([[12, 15, 11], \n",
    "                     [10, 1, 7], \n",
    "                     [8, 9, 10]]) \n",
    "my_sorted_array = np.sort(my_array, axis = 0)         \n",
    "print (\"Along first axis : \\n\", my_sorted_array)   "
   ]
  },
  {
   "cell_type": "markdown",
   "metadata": {
    "id": "DrErkUwPZaml"
   },
   "source": [
    "Generate Random Number"
   ]
  },
  {
   "cell_type": "code",
   "execution_count": 36,
   "metadata": {
    "id": "OWNEYzgKR3g6"
   },
   "outputs": [
    {
     "name": "stdout",
     "output_type": "stream",
     "text": [
      "736\n",
      "[102 510 824 515 117]\n",
      "[[ 97 178 112 169 610 402]\n",
      " [706 576 974 238 486 145]]\n",
      "0.1529451661097363\n"
     ]
    }
   ],
   "source": [
    "from numpy import random\n",
    "\n",
    "# Generate random integer between 0 - 1000\n",
    "x = random.randint(1000)\n",
    "print(x)\n",
    "\n",
    "# Generate an array containing five random integer between 0 - 1000\n",
    "x = random.randint(1000, size=(5))\n",
    "print(x)\n",
    "\n",
    "# Generate a 2-D array with 2 rows, each has 6 random integers from 0 to 1000\n",
    "x = random.randint(1000, size=(2,6))\n",
    "print(x)\n",
    "\n",
    "# Generate a random float\n",
    "x = random.rand()\n",
    "print(x)"
   ]
  },
  {
   "cell_type": "markdown",
   "metadata": {
    "id": "DCRCa9fPPpQB"
   },
   "source": [
    "Buatlah sebuah variable bernama `nilai_quiz` yang berisi 12 nilai mahasiswa yang digenerate secara random dari 60 hingga 100. Tampilkan plot nya seperti contoh dibawah ini. (Optional)<br>\n",
    "![Bar Chart.png](data:image/png;base64,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)"
   ]
  },
  {
   "cell_type": "code",
   "execution_count": 38,
   "metadata": {
    "id": "v3TzKnUpPNBk"
   },
   "outputs": [
    {
     "data": {
      "image/png": "[encoded data removed]",
      "text/plain": [
       "<Figure size 432x288 with 1 Axes>"
      ]
     },
     "metadata": {},
     "output_type": "display_data"
    }
   ],
   "source": [
    "import matplotlib.pyplot as plt\n",
    "%matplotlib inline\n",
    "plt.style.use('ggplot')\n",
    "\n",
    "nilai_quiz = random.randint(60, 100, size=(12))\n",
    "\n",
    "x_pos = [i for i, _ in enumerate(nilai_quiz)]\n",
    "\n",
    "plt.xlabel(\"Mahasiswa\")\n",
    "plt.ylabel(\"Nilai Quiz\")\n",
    "plt.title(\"Nilai Quiz ISB2017 Applied Data Science\")\n",
    "plt.bar(x_pos, nilai_quiz, color=\"orange\")\n",
    "plt.show()"
   ]
  },
  {
   "cell_type": "markdown",
   "metadata": {
    "id": "AvRWKVmieqbp"
   },
   "source": [
    "<h4>NumPy descriptive statistics</h4>\n",
    "Statistik Deskriptif adalah analisis data yang membantu mendeskripsikan, menunjukkan, atau meringkas data dengan cara yang bermakna."
   ]
  },
  {
   "cell_type": "code",
   "execution_count": 39,
   "metadata": {
    "id": "2jpQCclRSXL9"
   },
   "outputs": [
    {
     "data": {
      "text/plain": [
       "87.0"
      ]
     },
     "execution_count": 39,
     "metadata": {},
     "output_type": "execute_result"
    }
   ],
   "source": [
    "import numpy as np\n",
    "from scipy import stats as st\n",
    "\n",
    "statistics_mark = [99,86,87,88,61,86,63,87,94,78,77,85,86]\n",
    "np.mean(statistics_mark)   # Mean\n",
    "np.median(statistics_mark) # Median\n",
    "st.mode(statistics_mark)   # Modus\n",
    "\n",
    "np.std(statistics_mark)    # Standard Deviasi\n",
    "np.var(statistics_mark)    # Variance\n",
    "np.percentile(statistics_mark, 25) # Persentil 25%\n",
    "np.percentile(statistics_mark, 75) # Persentil 75%"
   ]
  },
  {
   "cell_type": "markdown",
   "metadata": {
    "id": "kz8HDrHyHyfe"
   },
   "source": [
    "Data peserta lomba bapak sepeda menunjukkan tabulasi sebagai berikut:\n",
    "`speed = [78, 66, 67, 78, 76, 57, 80, 76]`\n",
    "Tentukan deskripsi data nya menggunakan library numpy."
   ]
  },
  {
   "cell_type": "code",
   "execution_count": 40,
   "metadata": {
    "id": "e1bIdjGwnEip"
   },
   "outputs": [
    {
     "data": {
      "text/plain": [
       "72.25"
      ]
     },
     "execution_count": 40,
     "metadata": {},
     "output_type": "execute_result"
    }
   ],
   "source": [
    "speed = [78, 66, 67, 78, 76, 57, 80, 76]\n",
    "np.mean(speed)"
   ]
  },
  {
   "cell_type": "markdown",
   "metadata": {
    "id": "O2CmVFJIx_iZ"
   },
   "source": [
    "Weighted Mean"
   ]
  },
  {
   "cell_type": "code",
   "execution_count": 41,
   "metadata": {
    "id": "pCx3pUyqe3ax"
   },
   "outputs": [
    {
     "data": {
      "text/plain": [
       "18.192307692307693"
      ]
     },
     "execution_count": 41,
     "metadata": {},
     "output_type": "execute_result"
    }
   ],
   "source": [
    "workers = [14, 10, 2]\n",
    "wages = [16.5, 19, 26]\n",
    "weighted_mean = np.average(wages, weights=workers)\n",
    "weighted_mean"
   ]
  },
  {
   "cell_type": "markdown",
   "metadata": {
    "id": "moxetGXiyBZw"
   },
   "source": [
    "<h4>Geometric Mean</h4>\n",
    "Berguna dalam menemukan perubahan rata-rata persentase, rasio, indeks, atau tingkat pertumbuhan dari waktu ke waktu.\n",
    "Penerapan Geometric Mean dalam bisnis dan ekonomi untuk menemukan persentase perubahan dalam penjualan, gaji, atau angka ekonomi, seperti PDB, yang digabungkan atau dihitung berdasarkan data periode sebelum nya."
   ]
  },
  {
   "cell_type": "markdown",
   "metadata": {
    "id": "WILCc1IhjYoC"
   },
   "source": [
    "Laba atas investasi (ROI) yang diperoleh Perusahaan konstruksi Atkins selama empat tahun berturut-turut adalah: 30 persen, 20 persen, - 40 persen, dan 200 persen. Berapa rata-rata tingkat pengembalian investasi?"
   ]
  },
  {
   "cell_type": "code",
   "execution_count": 42,
   "metadata": {
    "id": "tHsnVAwrtt5s"
   },
   "outputs": [
    {
     "data": {
      "text/plain": [
       "1.294491716950044"
      ]
     },
     "execution_count": 42,
     "metadata": {},
     "output_type": "execute_result"
    }
   ],
   "source": [
    "# Menghitung geometric mean\n",
    "roi = [1.3,1.2,0.6,3.0]\n",
    "st.gmean(roi)"
   ]
  },
  {
   "cell_type": "markdown",
   "metadata": {
    "id": "sSmDT16PGXqI"
   },
   "source": [
    "Hitunglan rata-rata kenaikan gaji dari karyawan perusahaan konstruksi Atkins dari tahun 2016 hingga 2019 dengan data sebagai berikut:\n",
    "<table class=\"tg\">\n",
    "<thead>\n",
    "  <tr>\n",
    "    <th class=\"tg-0lax\">2016</th>\n",
    "    <th class=\"tg-0lax\">2017</th>\n",
    "    <th class=\"tg-0lax\">2018</th>\n",
    "    <th class=\"tg-0lax\">2019</th>\n",
    "  </tr>\n",
    "</thead>\n",
    "<tbody>\n",
    "  <tr>\n",
    "    <td class=\"tg-0lax\">5</td>\n",
    "    <td class=\"tg-0lax\">15</td>\n",
    "    <td class=\"tg-0lax\">7</td>\n",
    "    <td class=\"tg-0lax\">0</td>\n",
    "  </tr>\n",
    "</tbody>\n",
    "</table>"
   ]
  },
  {
   "cell_type": "code",
   "execution_count": 43,
   "metadata": {
    "id": "xn7YssIhiu9F"
   },
   "outputs": [
    {
     "name": "stdout",
     "output_type": "stream",
     "text": [
      "Geometric Mean is : 1.0661485713221042\n"
     ]
    }
   ],
   "source": [
    "salary_increase = st.gmean([1.05, 1.15, 1.07, 1])     \n",
    "print(\"Geometric Mean is :\", salary_increase) "
   ]
  },
  {
   "cell_type": "markdown",
   "metadata": {
    "id": "RyrUBWuHJwhY"
   },
   "source": [
    "<h4>Correlation</h4>\n",
    "Korelasi adalah statistik yang mengukur sejauh mana dua variabel berkaitan antara satu dengan lainnya. Dalam mengukur korelasi ada dua hal yang perlu kita periksa, yaitu koefisien korelasi yang menunjukkan seberapa kuat serta arah korelasi, yang kedua adalah p-value yang menunjukkan tingkat signifikansi. Hasil scatter plot antara dua variabel juga dapat digunakan untuk melihat kekuatan dan arah korelasi "
   ]
  },
  {
   "cell_type": "code",
   "execution_count": 44,
   "metadata": {
    "id": "xi6qg_QZ0B9e"
   },
   "outputs": [
    {
     "name": "stdout",
     "output_type": "stream",
     "text": [
      "Correlation Coefficient: 0.957507\n",
      "Nilai P-value: 0.000001\n"
     ]
    },
    {
     "data": {
      "image/png": "[encoded data removed]",
      "text/plain": [
       "<Figure size 432x288 with 1 Axes>"
      ]
     },
     "metadata": {},
     "output_type": "display_data"
    }
   ],
   "source": [
    "import numpy as np\n",
    "from scipy import stats as st\n",
    "import matplotlib.pyplot as plt\n",
    "\n",
    "temperature =\t[14.2, 16.4, 11.9, 15.2, 18.5, 22.1, 19.4, 25.1, 23.4, 18.1, 22.6, 17.2]\n",
    "icecream_sales = [215, 325, 185, 332, 406, 522, 412, 614, 544, 421, 445, 408]\n",
    "\n",
    "corr_coef, p_value = st.pearsonr(temperature, icecream_sales)\n",
    "print(\"Correlation Coefficient: %0.6f\" %corr_coef)\n",
    "print(\"Nilai P-value: %0.6f\" %p_value)\n",
    "\n",
    "plt.scatter(temperature, icecream_sales)\n",
    "plt.show()"
   ]
  },
  {
   "cell_type": "markdown",
   "metadata": {
    "id": "-QigXkTYdCmx"
   },
   "source": [
    "<h3 align=\"center\">Additional Challenge (Optional)</h3>"
   ]
  },
  {
   "cell_type": "markdown",
   "metadata": {
    "id": "sBoDpmuupud1"
   },
   "source": [
    "<h4>The Copier Company</h4>\n",
    "The sales manager of a Copier Company, which has sales forces throughout the United States, wanted to determine if there was a relationship between the number of sales calls made in a month and the number of copiers sold. The manager selects a random sample of 10 representatives.\n",
    "\n",
    "```\n",
    "Sales Calls (X)\t20\t40\t20\t30\t10\t10\t20\t20\t20\t30\n",
    "Copier Sold (Y)\t30\t60\t40\t60\t30\t40\t40\t50\t30\t70\n",
    "```\n",
    "Could you help the sales manager to predict how many copiers sold if number of sales calls is 60?"
   ]
  },
  {
   "cell_type": "code",
   "execution_count": 59,
   "metadata": {
    "id": "mrsVSlStKyNm"
   },
   "outputs": [
    {
     "name": "stdout",
     "output_type": "stream",
     "text": [
      "Jika sales calls 60: 90\n"
     ]
    }
   ],
   "source": [
    "sales_calls = [20, 40, 20, 30, 10, 10, 20, 20, 20, 30]\n",
    "copier_sold = [30, 60, 40, 60, 30, 40, 40, 50, 30, 70]\n",
    "\n",
    "# referensi: https://realpython.com/numpy-scipy-pandas-correlation-python/#pearson-correlation-coefficient\n",
    "result = st.linregress(sales_calls, copier_sold)\n",
    "a = result.intercept\n",
    "b = result.slope\n",
    "\n",
    "print(\"Jika sales calls 60: {}\".format(round(a + b*60)))"
   ]
  },
  {
   "cell_type": "markdown",
   "metadata": {
    "id": "JCV67auxU3iT"
   },
   "source": [
    "<h4>Speed Dating Experiment</h4>\n",
    "Apakah faktor-faktor yang mempengaruhi love at first sight? Sebuah studi dilakukan oleh Columbia Business School. Data dikumpulkan dari peserta dalam acara kencan kilat eksperimental dari tahun 2002-2004. Selama acara, para peserta akan melakukan \"kencan pertama\" selama empat menit dengan peserta lain dari lawan jenis. Di akhir empat menit mereka, peserta ditanya apakah mereka ingin melihat kencan mereka lagi. Mereka juga diminta untuk menilai kencan mereka pada enam atribut: Attractiveness, Sincerity, Intelligence, Fun, Ambition, and Shared Interests.<br>\n",
    "Tentukan apakah ada korelasi antara usia dan ke-enam atribut dan korelasi antara ke-enam atribut tersebut diatas.\n",
    "<p>Case: https://medium.com/@chrisshaw982/seaborn-correlation-heatmaps-customized-10246f4f7f4b \n",
    "<p>Dataset: https://raw.githubusercontent.com/twiradinata/ISB2017-applied-data-science/master/speed_dating.csv"
   ]
  },
  {
   "cell_type": "code",
   "execution_count": null,
   "metadata": {
    "id": "tvVAD3jEWPDt"
   },
   "outputs": [],
   "source": [
    "import pandas as pd\n",
    "import seaborn as sns\n",
    "import matplotlib.pyplot as plt\n",
    "\n",
    "url = \"https://raw.githubusercontent.com/twiradinata/ISB2017-applied-data-science/master/speed_dating.csv\"\n",
    "df = pd.read_csv(url, encoding=\"ISO-8859-1\")\n",
    "df.head()"
   ]
  }
 ],
 "metadata": {
  "colab": {
   "collapsed_sections": [],
   "name": "Week 7 - Python Numerical Processing.ipynb",
   "provenance": []
  },
  "kernelspec": {
   "display_name": "Python 3",
   "language": "python",
   "name": "python3"
  },
  "language_info": {
   "codemirror_mode": {
    "name": "ipython",
    "version": 3
   },
   "file_extension": ".py",
   "mimetype": "text/x-python",
   "name": "python",
   "nbconvert_exporter": "python",
   "pygments_lexer": "ipython3",
   "version": "3.7.6"
  }
 },
 "nbformat": 4,
 "nbformat_minor": 1
}
