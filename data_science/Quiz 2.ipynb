{
 "cells": [
  {
   "cell_type": "markdown",
   "metadata": {},
   "source": [
    "No 13. Linear Regression"
   ]
  },
  {
   "cell_type": "code",
   "execution_count": 1,
   "metadata": {},
   "outputs": [],
   "source": [
    "import numpy as np\n",
    "import matplotlib.pyplot as plt\n",
    "import pandas as pd\n",
    "\n",
    "# Importing the model\n",
    "from sklearn.linear_model import LinearRegression\n",
    "\n",
    "# Importing the model selection\n",
    "from sklearn.model_selection import train_test_split\n",
    "\n",
    "# Importing the metrics\n",
    "from sklearn import metrics"
   ]
  },
  {
   "cell_type": "code",
   "execution_count": 2,
   "metadata": {},
   "outputs": [
    {
     "name": "stdout",
     "output_type": "stream",
     "text": [
      "     price     size  age  location_rating\n",
      "0  234.314   643.09    5               20\n",
      "1  228.582   656.22   11               30\n",
      "2  281.626   487.29    2               10\n",
      "3  401.256  1504.75    5               30\n",
      "4  458.674  1275.46   11               60\n",
      "<class 'pandas.core.frame.DataFrame'>\n",
      "RangeIndex: 100 entries, 0 to 99\n",
      "Data columns (total 4 columns):\n",
      " #   Column           Non-Null Count  Dtype  \n",
      "---  ------           --------------  -----  \n",
      " 0   price            100 non-null    float64\n",
      " 1   size             100 non-null    float64\n",
      " 2   age              100 non-null    int64  \n",
      " 3   location_rating  100 non-null    int64  \n",
      "dtypes: float64(2), int64(2)\n",
      "memory usage: 3.2 KB\n",
      "None\n"
     ]
    }
   ],
   "source": [
    "url = \"https://raw.githubusercontent.com/twiradinata/IMT1025-Statistical-Analysis/master/real_estate_price_size_year.csv\"\n",
    "df = pd.read_csv(url)\n",
    "print(df.head())\n",
    "print(df.info())"
   ]
  },
  {
   "cell_type": "code",
   "execution_count": 9,
   "metadata": {},
   "outputs": [],
   "source": [
    "y = df.iloc[:, 1].values\n",
    "X = df.iloc[:, 1:].values"
   ]
  },
  {
   "cell_type": "code",
   "execution_count": 10,
   "metadata": {
    "scrolled": true
   },
   "outputs": [
    {
     "name": "stdout",
     "output_type": "stream",
     "text": [
      "Intercept:  2.2737367544323206e-13\n",
      "Coefficient:  [ 1.00000000e+00 -5.45203321e-15  1.03747460e-15]\n",
      "Summary:                              OLS Regression Results                            \n",
      "==============================================================================\n",
      "Dep. Variable:                  price   R-squared:                       0.848\n",
      "Model:                            OLS   Adj. R-squared:                  0.843\n",
      "Method:                 Least Squares   F-statistic:                     178.7\n",
      "Date:                Tue, 01 Dec 2020   Prob (F-statistic):           3.71e-39\n",
      "Time:                        12:47:26   Log-Likelihood:                -481.60\n",
      "No. Observations:                 100   AIC:                             971.2\n",
      "Df Residuals:                      96   BIC:                             981.6\n",
      "Df Model:                           3                                         \n",
      "Covariance Type:            nonrobust                                         \n",
      "===================================================================================\n",
      "                      coef    std err          t      P>|t|      [0.025      0.975]\n",
      "-----------------------------------------------------------------------------------\n",
      "Intercept         159.9364     11.737     13.626      0.000     136.638     183.235\n",
      "size                0.1531      0.015     10.104      0.000       0.123       0.183\n",
      "age               -12.8826      1.617     -7.966      0.000     -16.093      -9.672\n",
      "location_rating     3.6637      0.544      6.732      0.000       2.583       4.744\n",
      "==============================================================================\n",
      "Omnibus:                        1.066   Durbin-Watson:                   2.149\n",
      "Prob(Omnibus):                  0.587   Jarque-Bera (JB):                0.970\n",
      "Skew:                           0.238   Prob(JB):                        0.616\n",
      "Kurtosis:                       2.922   Cond. No.                     3.49e+03\n",
      "==============================================================================\n",
      "\n",
      "Notes:\n",
      "[1] Standard Errors assume that the covariance matrix of the errors is correctly specified.\n",
      "[2] The condition number is large, 3.49e+03. This might indicate that there are\n",
      "strong multicollinearity or other numerical problems.\n",
      "Model Score:  1.0\n",
      "RMSE number is:  2.2277979431084332e-13\n"
     ]
    }
   ],
   "source": [
    "# Splitting train and test data\n",
    "X_train, X_test, y_train, y_test = train_test_split(X, y, random_state=1)\n",
    "\n",
    "# Defining LR model\n",
    "linearreg_model = LinearRegression()\n",
    "\n",
    "# Fitting the model to the training\n",
    "linearreg_model.fit(X_train, y_train)\n",
    "print(\"Intercept: \", linearreg_model.intercept_)\n",
    "print(\"Coefficient: \", linearreg_model.coef_)\n",
    "\n",
    "# Displaying regression summary\n",
    "import statsmodels.formula.api as smf\n",
    "lm = smf.ols(formula='price ~ size+age+location_rating', data=df).fit()\n",
    "print(\"Summary: \", lm.summary())\n",
    "\n",
    "# Making prediction based on the testing unit\n",
    "y_predict = linearreg_model.predict(X_test)\n",
    "\n",
    "# Prediction Score\n",
    "print(\"Model Score: \", linearreg_model.score(X_test, y_test))\n",
    "\n",
    "\n",
    "# Calculating the RMSE (root_mean_squared_error) number\n",
    "print(\"RMSE number is: \", np.sqrt(metrics.mean_squared_error(y_test, y_predict)))"
   ]
  },
  {
   "cell_type": "code",
   "execution_count": 14,
   "metadata": {},
   "outputs": [
    {
     "name": "stdout",
     "output_type": "stream",
     "text": [
      "116.5214\n"
     ]
    }
   ],
   "source": [
    "print(159.9364 + 0.1531*500 + -12.8826*15 + 3.6637*20)"
   ]
  },
  {
   "cell_type": "markdown",
   "metadata": {},
   "source": [
    "No. 14 Naive Bayes"
   ]
  },
  {
   "cell_type": "code",
   "execution_count": 29,
   "metadata": {},
   "outputs": [],
   "source": [
    "import pandas as pd\n",
    "from matplotlib import pyplot as plt\n",
    "import numpy as np\n",
    "from sklearn.preprocessing import LabelEncoder\n",
    "from sklearn.preprocessing import StandardScaler\n",
    "from sklearn.naive_bayes import GaussianNB\n",
    "from sklearn.metrics import confusion_matrix, accuracy_score"
   ]
  },
  {
   "cell_type": "code",
   "execution_count": 17,
   "metadata": {},
   "outputs": [
    {
     "data": {
      "text/html": [
       "<div>\n",
       "<style scoped>\n",
       "    .dataframe tbody tr th:only-of-type {\n",
       "        vertical-align: middle;\n",
       "    }\n",
       "\n",
       "    .dataframe tbody tr th {\n",
       "        vertical-align: top;\n",
       "    }\n",
       "\n",
       "    .dataframe thead th {\n",
       "        text-align: right;\n",
       "    }\n",
       "</style>\n",
       "<table border=\"1\" class=\"dataframe\">\n",
       "  <thead>\n",
       "    <tr style=\"text-align: right;\">\n",
       "      <th></th>\n",
       "      <th>Usia Artis</th>\n",
       "      <th>Pengalaman</th>\n",
       "      <th>Rating</th>\n",
       "      <th>Kota</th>\n",
       "      <th>Datang</th>\n",
       "    </tr>\n",
       "  </thead>\n",
       "  <tbody>\n",
       "    <tr>\n",
       "      <th>0</th>\n",
       "      <td>36</td>\n",
       "      <td>10</td>\n",
       "      <td>9</td>\n",
       "      <td>Surabaya</td>\n",
       "      <td>Tidak</td>\n",
       "    </tr>\n",
       "    <tr>\n",
       "      <th>1</th>\n",
       "      <td>42</td>\n",
       "      <td>12</td>\n",
       "      <td>4</td>\n",
       "      <td>Gresik</td>\n",
       "      <td>Tidak</td>\n",
       "    </tr>\n",
       "    <tr>\n",
       "      <th>2</th>\n",
       "      <td>23</td>\n",
       "      <td>4</td>\n",
       "      <td>6</td>\n",
       "      <td>Sidoarjo</td>\n",
       "      <td>Tidak</td>\n",
       "    </tr>\n",
       "    <tr>\n",
       "      <th>3</th>\n",
       "      <td>52</td>\n",
       "      <td>4</td>\n",
       "      <td>4</td>\n",
       "      <td>Gresik</td>\n",
       "      <td>Tidak</td>\n",
       "    </tr>\n",
       "    <tr>\n",
       "      <th>4</th>\n",
       "      <td>43</td>\n",
       "      <td>21</td>\n",
       "      <td>8</td>\n",
       "      <td>Gresik</td>\n",
       "      <td>Ya</td>\n",
       "    </tr>\n",
       "  </tbody>\n",
       "</table>\n",
       "</div>"
      ],
      "text/plain": [
       "   Usia Artis  Pengalaman  Rating      Kota Datang\n",
       "0          36          10       9  Surabaya  Tidak\n",
       "1          42          12       4    Gresik  Tidak\n",
       "2          23           4       6  Sidoarjo  Tidak\n",
       "3          52           4       4    Gresik  Tidak\n",
       "4          43          21       8    Gresik     Ya"
      ]
     },
     "execution_count": 17,
     "metadata": {},
     "output_type": "execute_result"
    }
   ],
   "source": [
    "# Read dataset\n",
    "url = url = \"https://raw.githubusercontent.com/twiradinata/ISB2017-applied-data-science/master/artis.csv\"\n",
    "df = pd.read_csv(url)\n",
    "df.head()"
   ]
  },
  {
   "cell_type": "code",
   "execution_count": 22,
   "metadata": {},
   "outputs": [
    {
     "data": {
      "text/html": [
       "<div>\n",
       "<style scoped>\n",
       "    .dataframe tbody tr th:only-of-type {\n",
       "        vertical-align: middle;\n",
       "    }\n",
       "\n",
       "    .dataframe tbody tr th {\n",
       "        vertical-align: top;\n",
       "    }\n",
       "\n",
       "    .dataframe thead th {\n",
       "        text-align: right;\n",
       "    }\n",
       "</style>\n",
       "<table border=\"1\" class=\"dataframe\">\n",
       "  <thead>\n",
       "    <tr style=\"text-align: right;\">\n",
       "      <th></th>\n",
       "      <th>Usia Artis</th>\n",
       "      <th>Pengalaman</th>\n",
       "      <th>Rating</th>\n",
       "      <th>Kota</th>\n",
       "      <th>Datang</th>\n",
       "    </tr>\n",
       "  </thead>\n",
       "  <tbody>\n",
       "    <tr>\n",
       "      <th>0</th>\n",
       "      <td>36</td>\n",
       "      <td>10</td>\n",
       "      <td>9</td>\n",
       "      <td>2</td>\n",
       "      <td>0</td>\n",
       "    </tr>\n",
       "    <tr>\n",
       "      <th>1</th>\n",
       "      <td>42</td>\n",
       "      <td>12</td>\n",
       "      <td>4</td>\n",
       "      <td>0</td>\n",
       "      <td>0</td>\n",
       "    </tr>\n",
       "    <tr>\n",
       "      <th>2</th>\n",
       "      <td>23</td>\n",
       "      <td>4</td>\n",
       "      <td>6</td>\n",
       "      <td>1</td>\n",
       "      <td>0</td>\n",
       "    </tr>\n",
       "    <tr>\n",
       "      <th>3</th>\n",
       "      <td>52</td>\n",
       "      <td>4</td>\n",
       "      <td>4</td>\n",
       "      <td>0</td>\n",
       "      <td>0</td>\n",
       "    </tr>\n",
       "    <tr>\n",
       "      <th>4</th>\n",
       "      <td>43</td>\n",
       "      <td>21</td>\n",
       "      <td>8</td>\n",
       "      <td>0</td>\n",
       "      <td>1</td>\n",
       "    </tr>\n",
       "  </tbody>\n",
       "</table>\n",
       "</div>"
      ],
      "text/plain": [
       "   Usia Artis  Pengalaman  Rating  Kota  Datang\n",
       "0          36          10       9     2       0\n",
       "1          42          12       4     0       0\n",
       "2          23           4       6     1       0\n",
       "3          52           4       4     0       0\n",
       "4          43          21       8     0       1"
      ]
     },
     "execution_count": 22,
     "metadata": {},
     "output_type": "execute_result"
    }
   ],
   "source": [
    "le = LabelEncoder()\n",
    "df['Kota'] = le.fit_transform(df['Kota'])\n",
    "df['Datang'] = le.fit_transform(df['Datang'])\n",
    "df.head()"
   ]
  },
  {
   "cell_type": "code",
   "execution_count": 23,
   "metadata": {},
   "outputs": [],
   "source": [
    "X = df.iloc[:, :-1].values\n",
    "y = df.iloc[:, -1].values"
   ]
  },
  {
   "cell_type": "code",
   "execution_count": 31,
   "metadata": {},
   "outputs": [
    {
     "name": "stdout",
     "output_type": "stream",
     "text": [
      "[1]\n"
     ]
    }
   ],
   "source": [
    "X_train, X_test, y_train, y_test = train_test_split(X, y, test_size = 0.25, random_state = 0)\n",
    "\n",
    "sc = StandardScaler()\n",
    "X_train = sc.fit_transform(X_train)\n",
    "X_test = sc.transform(X_test)\n",
    "\n",
    "classifier = GaussianNB()\n",
    "classifier.fit(X_train, y_train)\n",
    "\n",
    "y_pred = classifier.predict(X_test)\n",
    "\n",
    "print(classifier.predict(sc.transform([[40, 10, 7, 2]])))"
   ]
  },
  {
   "cell_type": "code",
   "execution_count": null,
   "metadata": {},
   "outputs": [],
   "source": [
    "sc = StandardScaler()\n",
    "dfs = StandardScaler().fit_transform(df)\n",
    "\n",
    "wcss = []\n",
    "for i in range (1,11):\n",
    "    km = KMeans(n_clusters= i,\n",
    "                n_init=5,  # run 5 times with different random inicial centroids\n",
    "                max_iter=500,  # max iteration by run\n",
    "                random_state=1)\n",
    "    km.fit(dfs)\n",
    "    wcss.append(km.inertia_)  # inertia = within-cluster sum-of-squares (WCSS) \n",
    "\n",
    "plt.plot(range(1,11), wcss, marker='o')\n",
    "plt.xlabel('Number of Clusters')\n",
    "plt.ylabel('WCSS')\n",
    "plt.show()\n",
    "\n",
    "km_model = KMeans(n_clusters=5, n_init=5, max_iter= 500, random_state=1)\n",
    "\n",
    "y_kmeans = km_model.fit_predict(dfs)"
   ]
  }
 ],
 "metadata": {
  "kernelspec": {
   "display_name": "Python 3",
   "language": "python",
   "name": "python3"
  },
  "language_info": {
   "codemirror_mode": {
    "name": "ipython",
    "version": 3
   },
   "file_extension": ".py",
   "mimetype": "text/x-python",
   "name": "python",
   "nbconvert_exporter": "python",
   "pygments_lexer": "ipython3",
   "version": "3.7.6"
  }
 },
 "nbformat": 4,
 "nbformat_minor": 4
}
