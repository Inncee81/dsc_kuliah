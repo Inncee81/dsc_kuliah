{
 "cells": [
  {
   "cell_type": "markdown",
   "metadata": {
    "id": "IUnV98BFLEzK"
   },
   "source": [
    "<h1>ISB2017 Applied Data Science<h1>\n",
    "\n",
    "---\n",
    "\n",
    "\n",
    "***Classroom Exercise Week 4 : Python Programming Fundamentals***"
   ]
  },
  {
   "cell_type": "markdown",
   "metadata": {
    "id": "uh1WjE8R3t8f"
   },
   "source": [
    "<h3 align=center>Conditions and Branching</h3>"
   ]
  },
  {
   "cell_type": "markdown",
   "metadata": {
    "id": "ztyyKFD93t8g"
   },
   "source": [
    "Tujuan pembelajaran kita untuk pertemuan ke-empat ini adalah menerapkan teknik pemrograman untuk kondisi dan percabangan, kemudian kita akan melihat berbagai ragam metode perulangan. Selanjutnya kita juga akan mempelajari bagaimana membuat fungsi, mendeklarasikan class dan meng-instansiasi object. Terakhir kita akan belajar bagaimana melakukan exception handling agar ketika terjadi kesalahan, program kita dapat terhindar dari crash dan pesan kesalahan dapat terdeteksi."
   ]
  },
  {
   "cell_type": "markdown",
   "metadata": {
    "id": "O43oynREtglc"
   },
   "source": [
    "<h3 align=\"center\">Percabangan (Conditions)</h3>"
   ]
  },
  {
   "cell_type": "markdown",
   "metadata": {
    "id": "MPCjjw7IURQq"
   },
   "source": [
    "Hasil survey terhadap budget biaya hidup mingguan mahasiswa UC menunjukkan setidaknya diperlukan budget sebesar Rp. 800ribu per minggu untuk hidup layak. Apabila budget diatas Rp. 3juta per minggu, maka dianggap terlalu berlebihan. Buatlah potongan program yang meminta input budget biaya hidup mingguan, lalu dengan perintah percabangan, tentukan apakah budget tersebut: kurang, cukup, atau berlebihan."
   ]
  },
  {
   "cell_type": "code",
   "execution_count": 4,
   "metadata": {
    "id": "hj6MsPMKa7AG"
   },
   "outputs": [
    {
     "name": "stdout",
     "output_type": "stream",
     "text": [
      "Budget biaya hidup mingguan: 50000000\n",
      "berlebihan\n"
     ]
    }
   ],
   "source": [
    "budget = input(\"Budget biaya hidup mingguan: \")\n",
    "\n",
    "if(int(budget) < 800000):\n",
    "    print(\"kurang\")\n",
    "elif(int(budget)>3000000):\n",
    "    print(\"berlebihan\")\n",
    "else:\n",
    "    print(\"cukup\")"
   ]
  },
  {
   "cell_type": "markdown",
   "metadata": {
    "id": "kRr6bdwkiZQe"
   },
   "source": [
    "Bagi mahasiswa yang berasal dari luar kota, ternyata budget Rp 800ribu tidak cukup karena harus ada biaya akomodasi. Estimasi biaya akomodasi di kost adalah Rp. 1juta, di UC apartment adalah Rp. 2juta. Kembangkanlah potongan program di soal sebelum nya untuk menerima 2 input, yaitu: budget biaya hidup dan tempat tinggal (kost atau uc apartment). Manfaatkan operator logika untuk menyelesaikan persoalan ini."
   ]
  },
  {
   "cell_type": "code",
   "execution_count": 7,
   "metadata": {
    "id": "blIVmnt7bGQO"
   },
   "outputs": [
    {
     "name": "stdout",
     "output_type": "stream",
     "text": [
      "Budget biaya hidup mingguan: 7000000\n",
      "Tempat tinggal: kost/apartment/rumahapartement\n",
      "berlebihan\n"
     ]
    }
   ],
   "source": [
    "budget = input(\"Budget biaya hidup mingguan: \")\n",
    "tempat = input(\"Tempat tinggal: kost/apartment/rumah\")\n",
    "\n",
    "def calculate(lower, upper):\n",
    "    if(int(budget) < lower):\n",
    "        print(\"kurang\")\n",
    "    elif(int(budget)>upper):\n",
    "        print(\"berlebihan\")\n",
    "    else:\n",
    "        print(\"cukup\")\n",
    "\n",
    "if(tempat == \"rumah\"):\n",
    "    calculate(800000, 3000000)\n",
    "elif(tempat == \"kost\"):\n",
    "    calculate(1800000, 4000000)\n",
    "else:\n",
    "    calculate(2800000, 5000000)"
   ]
  },
  {
   "cell_type": "markdown",
   "metadata": {
    "id": "DG8zMgoPe5XQ"
   },
   "source": [
    "<h3 align=\"center\">Loops</h3>"
   ]
  },
  {
   "cell_type": "markdown",
   "metadata": {
    "id": "BVCeon2ofC7W"
   },
   "source": [
    "Loops dalam Python secara umum diterapkan menggunakan <code>for</code> dan <code>while</code>. Namun sebelumnya kita coba lihat fungsi `range` karena berkaitan erat dengan perulangan. Range ini memiliki return value berupa deretan angka dari 0 hingga parameter yang diinput, sebagai contoh `range(5)` akan mengembalikan deret angka `0,1,2,3,4`."
   ]
  },
  {
   "cell_type": "code",
   "execution_count": null,
   "metadata": {
    "colab": {
     "base_uri": "https://localhost:8080/",
     "height": 102
    },
    "executionInfo": {
     "elapsed": 1169,
     "status": "ok",
     "timestamp": 1601452739129,
     "user": {
      "displayName": "Trianggoro Wiradinata",
      "photoUrl": "https://lh3.googleusercontent.com/a-/AOh14GhgKTOoW6XFdIeMBRVFEfa9liWzcyFyID5UFKeaRg=s64",
      "userId": "01344150203571826157"
     },
     "user_tz": -420
    },
    "id": "srQYcyFd4hA3",
    "outputId": "027070c5-9132-4bdb-80e2-ae46f6b11f5d"
   },
   "outputs": [
    {
     "name": "stdout",
     "output_type": "stream",
     "text": [
      "0\n",
      "1\n",
      "2\n",
      "3\n",
      "4\n"
     ]
    }
   ],
   "source": [
    "for nilai in range(5):\n",
    "    print(nilai)"
   ]
  },
  {
   "cell_type": "markdown",
   "metadata": {
    "id": "IAarvOuGBkep"
   },
   "source": [
    "Buatlah potongan program dengan for loop dan range untuk menampilkan kelipatan 3 mulai dari 5 sampai 100. "
   ]
  },
  {
   "cell_type": "code",
   "execution_count": 9,
   "metadata": {
    "id": "RQeQDzfQfTQr"
   },
   "outputs": [
    {
     "name": "stdout",
     "output_type": "stream",
     "text": [
      "6\n",
      "9\n",
      "12\n",
      "15\n",
      "18\n",
      "21\n",
      "24\n",
      "27\n",
      "30\n",
      "33\n",
      "36\n",
      "39\n",
      "42\n",
      "45\n",
      "48\n",
      "51\n",
      "54\n",
      "57\n",
      "60\n",
      "63\n",
      "66\n",
      "69\n",
      "72\n",
      "75\n",
      "78\n",
      "81\n",
      "84\n",
      "87\n",
      "90\n",
      "93\n",
      "96\n",
      "99\n"
     ]
    }
   ],
   "source": [
    "for i in range(5, 100):\n",
    "    if(i % 3 == 0):\n",
    "        print(i)"
   ]
  },
  {
   "cell_type": "markdown",
   "metadata": {
    "id": "wYiaaobfCjoY"
   },
   "source": [
    "Perulangan menggunakan `for` notasi nya adalah `for` lalu variabel iterasi diikuti keyword `in` dan collection. Ada dua statement yang dapat digunakan untuk perulangan `for`, yaitu `break` dan `continue` kita menggunakan `break` jika kita ingin keluar dari perulangan secara keseluruhan, namun jika kita hanya ingin keluar dari perulangan saat itu dan melanjutkan perulangan berikut nya kita gunakan `continue`."
   ]
  },
  {
   "cell_type": "markdown",
   "metadata": {
    "id": "PxL3v55gDC8L"
   },
   "source": [
    "Dengan menggunakan `for` loop, lakukan iterasi pada list `mammals` berikut ini. Apabila ditemukan salah satu elemen nya bernilai \"cats\" maka loop berakhir."
   ]
  },
  {
   "cell_type": "code",
   "execution_count": 14,
   "metadata": {
    "id": "mRQ70fZefWVV"
   },
   "outputs": [
    {
     "name": "stdout",
     "output_type": "stream",
     "text": [
      "dogs\n",
      "cats\n"
     ]
    }
   ],
   "source": [
    "mammals = [\"dogs\", \"cats\", \"horses\", \"cows\"]\n",
    "\n",
    "for i in mammals:\n",
    "    if i != \"cats\":\n",
    "        print(i)\n",
    "    else:\n",
    "        print(i)\n",
    "        break"
   ]
  },
  {
   "cell_type": "markdown",
   "metadata": {
    "id": "JZCaAw5DDuwX"
   },
   "source": [
    "Nested `for` loop adalah perulangan dalam perulangan (nested). Dengan menggunakan nested `for` loop, lakukan iterasi antara list `colour` dan `mammals`. Output yang diharapkan format nya: \"colour mammals\"."
   ]
  },
  {
   "cell_type": "code",
   "execution_count": 15,
   "metadata": {
    "id": "U_J_eq2CqBlW"
   },
   "outputs": [
    {
     "name": "stdout",
     "output_type": "stream",
     "text": [
      "white dogs\n",
      "white cats\n",
      "white horses\n",
      "white cows\n",
      "brown dogs\n",
      "brown cats\n",
      "brown horses\n",
      "brown cows\n",
      "black dogs\n",
      "black cats\n",
      "black horses\n",
      "black cows\n"
     ]
    }
   ],
   "source": [
    "colour = [\"white\", \"brown\", \"black\"]\n",
    "mammals = [\"dogs\", \"cats\", \"horses\", \"cows\"]\n",
    "\n",
    "for c in colour:\n",
    "    for m in mammals:\n",
    "        print(c, m)"
   ]
  },
  {
   "cell_type": "markdown",
   "metadata": {
    "id": "rsbj2Wy9EhGG"
   },
   "source": [
    "Keyword `else` dapat pula digunakan untuk perulangan `for`."
   ]
  },
  {
   "cell_type": "code",
   "execution_count": 17,
   "metadata": {
    "colab": {
     "base_uri": "https://localhost:8080/",
     "height": 119
    },
    "executionInfo": {
     "elapsed": 973,
     "status": "ok",
     "timestamp": 1597504824555,
     "user": {
      "displayName": "Trianggoro Wiradinata",
      "photoUrl": "https://lh3.googleusercontent.com/a-/AOh14GhgKTOoW6XFdIeMBRVFEfa9liWzcyFyID5UFKeaRg=s64",
      "userId": "01344150203571826157"
     },
     "user_tz": -420
    },
    "id": "AV9sYj3Cs_LZ",
    "outputId": "56a0319c-9dff-461d-e28e-240e65a0eb37"
   },
   "outputs": [
    {
     "name": "stdout",
     "output_type": "stream",
     "text": [
      "0\n",
      "1\n",
      "2\n",
      "3\n",
      "4\n",
      "End of Line!\n"
     ]
    }
   ],
   "source": [
    "for x in range(5):\n",
    "    print(x)\n",
    "else:\n",
    "    print(\"End of Line!\")"
   ]
  },
  {
   "cell_type": "markdown",
   "metadata": {
    "id": "qIBGqTI_Ew3N"
   },
   "source": [
    "Selain `for` loop, juga ada `while` loop yang perulangannya dijalankan terus, selama kondisi masih terpenuhi. Statement `break` dan `continue` juga dapat digunakan seperti perulangan `for`. Dengan menggunakan `while` loop buatlah potongan program untuk membuat list berisi bilangan prima dari 1 hingga 100."
   ]
  },
  {
   "cell_type": "code",
   "execution_count": 54,
   "metadata": {
    "id": "F9da-oqDE_K2"
   },
   "outputs": [
    {
     "name": "stdout",
     "output_type": "stream",
     "text": [
      "[2, 3, 5, 7, 11, 13, 17, 19, 23, 29, 31, 37, 41, 43, 47, 53, 59, 61, 67, 71, 73, 79, 83, 89, 97]\n"
     ]
    }
   ],
   "source": [
    "# Buatlah list berisi bilangan prima dari 1 sampai 100.\n",
    "counter = 1\n",
    "\n",
    "prima = []\n",
    "while(counter<=100):\n",
    "    factor = 0\n",
    "    for i in range(1, counter+1):\n",
    "        if(counter % i == 0):\n",
    "            factor+=1\n",
    "    if(factor==2):\n",
    "        prima.append(counter)\n",
    "    counter += 1\n",
    "    \n",
    "print(prima)"
   ]
  },
  {
   "cell_type": "markdown",
   "metadata": {
    "id": "m7qUl8NiKHi4"
   },
   "source": [
    "<h3 align=\"center\">Functions<h3>"
   ]
  },
  {
   "cell_type": "markdown",
   "metadata": {
    "id": "bPDpIrTJKRP2"
   },
   "source": [
    "<h4>Function</h4>\n",
    "Fungsi adalah blok kode terorganisir dan dapat digunakan kembali untuk meng-eksekusi sekumpulan perintah. Fungsi menyediakan modularitas yang lebih baik untuk aplikasi Anda dan penggunaan ulang kode. Python memberi kita banyak fungsi bawaan seperti <code>print()</code>, dll. Tetapi kita juga dapat membuat fungsi kita sendiri yang disebut <i>user defined function</i>."
   ]
  },
  {
   "cell_type": "markdown",
   "metadata": {
    "id": "pxnIavuPFyoe"
   },
   "source": [
    "Dengan menggunakan fungsi `my_children()` dan `for` loop tampilkanlah nama lengkap ke-empat anak pak Ciputra yang ada dalam list."
   ]
  },
  {
   "cell_type": "code",
   "execution_count": 18,
   "metadata": {
    "id": "fhuUef8dR91U"
   },
   "outputs": [
    {
     "name": "stdout",
     "output_type": "stream",
     "text": [
      "Rina Ciputra\n",
      "Candra Ciputra\n",
      "Cakra Ciputra\n",
      "Junita Ciputra\n"
     ]
    }
   ],
   "source": [
    "# Buatlah fungsinya\n",
    "def my_children(first_name):\n",
    "    print(first_name + \" \" + \"Ciputra\")\n",
    "\n",
    "children = [\"Rina\", \"Candra\", \"Cakra\", \"Junita\"]\n",
    "for i in children:\n",
    "    my_children(i)"
   ]
  },
  {
   "cell_type": "markdown",
   "metadata": {
    "id": "AieDzqPyKUzW"
   },
   "source": [
    "Arbitrary Argument digunakan jika kita tidak mengetahui secara pasti berapa banyak argumen yang akan dipassing ke fungsi kita, cara nya dengan menambahkan tanda asterisk (*) sebelum parameter. Argumen yang dikirim akan diproses sebagai tuple."
   ]
  },
  {
   "cell_type": "code",
   "execution_count": 19,
   "metadata": {
    "id": "0eoChl1mKTt2"
   },
   "outputs": [
    {
     "name": "stdout",
     "output_type": "stream",
     "text": [
      "Rina Ciputra\n",
      "Candra Ciputra\n",
      "Cakra Ciputra\n",
      "Junita Ciputra\n"
     ]
    }
   ],
   "source": [
    "def my_children(*first_name):\n",
    "    for child in first_name:\n",
    "        print(child + \" Ciputra\")\n",
    "\n",
    "my_children(\"Rina\", \"Candra\", \"Cakra\", \"Junita\")"
   ]
  },
  {
   "cell_type": "markdown",
   "metadata": {
    "id": "eCixmIt-Oflm"
   },
   "source": [
    "Arbitrary argument dengan menggunakan asterisk ganda (**) sebelum parameter artinya mengirimkan argumen dalam bentuk seperti dictionary, jadi setelah dikirim, cara mengakses value dari argumen adalah dengan menggunakan key nya."
   ]
  },
  {
   "cell_type": "code",
   "execution_count": 20,
   "metadata": {
    "id": "1Zm0Y8OhKUtF"
   },
   "outputs": [
    {
     "name": "stdout",
     "output_type": "stream",
     "text": [
      "Rina Ciputra\n"
     ]
    }
   ],
   "source": [
    "def my_children(**full_name):\n",
    "    print(full_name[\"first_name\"]+ \" \" +full_name[\"last_name\"])\n",
    "\n",
    "my_children(first_name = \"Rina\", last_name = \"Ciputra\")"
   ]
  },
  {
   "cell_type": "markdown",
   "metadata": {
    "id": "vBsz6q3_PIkc"
   },
   "source": [
    "Parameter juga dapat diberi default value, sehingga jika tidak disupply argument, maka nilai nya menggunakan default."
   ]
  },
  {
   "cell_type": "code",
   "execution_count": 21,
   "metadata": {
    "id": "G5d8XaRZQOx_"
   },
   "outputs": [
    {
     "name": "stdout",
     "output_type": "stream",
     "text": [
      "Rina\n",
      "Anonymous\n"
     ]
    }
   ],
   "source": [
    "def my_children(first_name = \"Anonymous\"):\n",
    "    print(first_name)\n",
    "\n",
    "my_children(first_name = \"Rina\")\n",
    "my_children()"
   ]
  },
  {
   "cell_type": "markdown",
   "metadata": {
    "id": "rXUVx5sGUGuQ"
   },
   "source": [
    "Buatlah sebuah function yang melakukan konversi satuan ukuran dari inch ke cm dan lbs ke kgs. Fungsi ini mengembalikan return value ganda.\n",
    "*   1 inch = 2.54 cm\n",
    "*   1 lbs = 0.453592 kgs\n",
    "\n"
   ]
  },
  {
   "cell_type": "code",
   "execution_count": 24,
   "metadata": {
    "id": "-1pbdIsNSGTM"
   },
   "outputs": [
    {
     "name": "stdout",
     "output_type": "stream",
     "text": [
      "Height in Inches: 68.89763779527559 and Weight in lbs 330.69366302756663\n"
     ]
    }
   ],
   "source": [
    "# Buatlah fungsi untuk konversi sistem uk ke us\n",
    "def uk_to_us_measurement(height_in_cm, weight_in_kgs):\n",
    "    height_in_inch = height_in_cm / 2.54\n",
    "    weight_in_lbs = weight_in_kgs / 0.453592\n",
    "    return height_in_inch, weight_in_lbs\n",
    "\n",
    "result = uk_to_us_measurement(175, 150)\n",
    "sentence = \"Height in Inches: {} and Weight in lbs {}\"\n",
    "print(sentence.format(result[0], result[1]))"
   ]
  },
  {
   "cell_type": "markdown",
   "metadata": {
    "id": "dwUjNDMhWJ0k"
   },
   "source": [
    "Buatlah fungsi yang menerima input berupa tinggi badan dalam centimeter, lalu konversikan dalam feet dan inch.<br>\n",
    "contoh output: `5 feet 7 inches dalam satuan uk adalah 170.18 cm`"
   ]
  },
  {
   "cell_type": "code",
   "execution_count": 57,
   "metadata": {
    "id": "RJygcdR2UPxl"
   },
   "outputs": [
    {
     "name": "stdout",
     "output_type": "stream",
     "text": [
      "tinggi (cm):170.18\n",
      "5 feet 7 inches dalam satuan uk adalah 170.18 cm\n"
     ]
    }
   ],
   "source": [
    "cm = float(input(\"tinggi (cm):\"))\n",
    "\n",
    "inch = cm/2.54\n",
    "feet = inch//12\n",
    "inch -= feet*12\n",
    "\n",
    "print(\"{} feet {} inches dalam satuan uk adalah {} cm\".format(int(feet), int(inch), cm))"
   ]
  },
  {
   "cell_type": "markdown",
   "metadata": {
    "id": "wzeKEcPXXGG9"
   },
   "source": [
    "<h4>Lambda Function</h4>\n",
    "Lamba function adalah fungsi sederhana tanpa definisi seringkali digunakan untuk melakukan filtering dan data transformation dari suatu collection ke collection yang lain. Perhatikan notasi nya, lambda function dapat menerima beberapa argument, tetapi hanya ada satu expresi."
   ]
  },
  {
   "cell_type": "code",
   "execution_count": 58,
   "metadata": {
    "id": "CRBAFf-jXPvN"
   },
   "outputs": [
    {
     "name": "stdout",
     "output_type": "stream",
     "text": [
      "121\n"
     ]
    }
   ],
   "source": [
    "# Fungsi lambda untuk menambahkan dengan nilai 100\n",
    "add_with_ahundred = lambda a : a + 100\n",
    "print(add_with_ahundred(21))"
   ]
  },
  {
   "cell_type": "markdown",
   "metadata": {
    "id": "xs9jOwqUXnQe"
   },
   "source": [
    "Buatlah sebuah lambda function yang menerima 2 argument dan mengembalikan nilai perkalian dari kedua argument ini."
   ]
  },
  {
   "cell_type": "code",
   "execution_count": 59,
   "metadata": {
    "id": "YdwGy5_6X0pN"
   },
   "outputs": [
    {
     "name": "stdout",
     "output_type": "stream",
     "text": [
      "6\n"
     ]
    }
   ],
   "source": [
    "# Fungsi lambda untuk mengembalikan hasil kali dua argument\n",
    "multiply = lambda a, b: a*b\n",
    "print(multiply(2, 3))"
   ]
  },
  {
   "cell_type": "markdown",
   "metadata": {
    "id": "agxQz2maW6r4"
   },
   "source": [
    "<h3 align=\"center\">Object Oriented Programming</h3>\n",
    "Python juga mendukung Object Oeriented programming. Mari kita buat sebuah class dan menciptakan beberapa object dari class tersebut. Class adalah blueprint yang terdiri dari properties dan methods. Mari perhatikan di slide ini ada Classs Student dengan 4 properties, yaitu name, age, color, and sex, Class ini juga memiliki 3 methods, yaitu canEat(), canDrink(), dan canRun(). Seluruh object yang diciptakan dari class Students akan memiliki 4 properties dan 3 methods ini. Sebagai contoh, yaitu John, Sophia, dan Lily."
   ]
  },
  {
   "cell_type": "code",
   "execution_count": 26,
   "metadata": {
    "id": "mPo_QxizW4Bg"
   },
   "outputs": [
    {
     "name": "stdout",
     "output_type": "stream",
     "text": [
      "Lily\n"
     ]
    }
   ],
   "source": [
    "class Student:\n",
    "  name = \"\"\n",
    "  age = 0\n",
    "  color = \"\"\n",
    "  sex = \"\"\n",
    "\n",
    "  def __init__(self, name, age, color, sex):\n",
    "    self.name = name\n",
    "    self.age = age\n",
    "    self.color = color\n",
    "    self.sex = sex\n",
    "\n",
    "  def canEat():\n",
    "    return True\n",
    "  def canDrink():\n",
    "    return True\n",
    "  def canRun():\n",
    "    return True\n",
    "\n",
    "john = Student(\"John\", 12, \"Fair\", \"Male\")\n",
    "sophia = Student(\"Sophia\", 10, \"Fair\", \"Female\")\n",
    "lily = Student(\"Lily\", 11, \"Dark\", \"Female\")"
   ]
  },
  {
   "cell_type": "markdown",
   "metadata": {
    "id": "zcmZnWvEYOPg"
   },
   "source": [
    "Buatlah sebuah class Cars dengan tiga properties, yaitu: `brand`, `speed`, `volume`. class ini juga memiliki 2 methods, yaitu: `canAccelerate()` dan `canBrake()`. Ciptakan 2 instance, yaitu: yaris (dengan brand = \"Toyota\", speed = 110, volume = 1495) dan jazz (dengan brand = \"Honda\", speed = 106, volume = 1499). Method `canAccelerate()` akan menambah speed sebanyak 10, method `canBrake()` akan mengurangi speed sebanyak 5."
   ]
  },
  {
   "cell_type": "code",
   "execution_count": 34,
   "metadata": {
    "id": "bSZisW1g2B51"
   },
   "outputs": [
    {
     "name": "stdout",
     "output_type": "stream",
     "text": [
      "116\n"
     ]
    }
   ],
   "source": [
    "class Cars:\n",
    "    brand = \"\"\n",
    "    speed = 0\n",
    "    volume = 0\n",
    "    \n",
    "    def __init__(self, brand, speed, volume):\n",
    "        self.brand = brand\n",
    "        self.speed = speed\n",
    "        self.volume = volume\n",
    "        \n",
    "    def canAccelerate(self):\n",
    "        return self.speed + 10\n",
    "    def canBrake(self):\n",
    "        return self.speed - 5\n",
    "    \n",
    "yaris = Cars(\"Toyota\", 110, 1495)\n",
    "jazz = Cars(\"Honda\", 106, 1499)\n",
    "\n",
    "print(jazz.canAccelerate())"
   ]
  },
  {
   "cell_type": "markdown",
   "metadata": {
    "id": "wQzu4DsGuJgK"
   },
   "source": [
    "<h3 align=\"center\">Exception Handling</h3>\n",
    "Prinsip exception handling adalah mencoba mengeksekusi sebuah potongan code, namun jika terjadi error, program dengan cepat beralih menjalankan potongan code yang lain sehingga program tidak error."
   ]
  },
  {
   "cell_type": "markdown",
   "metadata": {
    "id": "SfO91UlfuQVz"
   },
   "source": [
    "Dalam exception handling kita ada 4 blok coding, yaitu try, except, else, dan finally. Try digunakan untuk handling critical operation yang berpotensi untuk raise exception. Kemudian blok exception ini adalah kumpulan statement yang akan dijalankan jika terjadi exception. Blok else dijalankan jika tidak terjadi exception, sementara blok finally selalu dijalankan baik terjadi exception maupun tidak."
   ]
  },
  {
   "cell_type": "code",
   "execution_count": 40,
   "metadata": {
    "colab": {
     "base_uri": "https://localhost:8080/",
     "height": 87
    },
    "executionInfo": {
     "elapsed": 53028,
     "status": "ok",
     "timestamp": 1597589497814,
     "user": {
      "displayName": "Trianggoro Wiradinata",
      "photoUrl": "https://lh3.googleusercontent.com/a-/AOh14GhgKTOoW6XFdIeMBRVFEfa9liWzcyFyID5UFKeaRg=s64",
      "userId": "01344150203571826157"
     },
     "user_tz": -420
    },
    "id": "xriGOdRAuUgb",
    "outputId": "b4233859-c5b8-47de-9714-4556390e4550"
   },
   "outputs": [
    {
     "name": "stdout",
     "output_type": "stream",
     "text": [
      "Press Ctrl+C or Interrupt the Kernel:\n",
      "\n",
      "Caught KeyboardInterrupt\n",
      "No matter what happen, I always be printed\n"
     ]
    }
   ],
   "source": [
    "try:\n",
    "    print(\"Press Ctrl+C or Interrupt the Kernel:\")\n",
    "    get_input = input()\n",
    "except KeyboardInterrupt:\n",
    "    print(\"Caught KeyboardInterrupt\")\n",
    "else:\n",
    "    print(\"No exception occurred\")\n",
    "finally:\n",
    "    print(\"No matter what happen, I always be printed\")"
   ]
  },
  {
   "cell_type": "markdown",
   "metadata": {
    "id": "KFsL4mTpa9up"
   },
   "source": [
    "Buatlah sebuah fungsi bernama `hasil_bagi()` dengan dua parameter (pembilang dan penyebut) yang melakukan operasi pembagian, namun gunakan exception handling untuk mencegah error apabila penyebut nya adalah 0 (nol)."
   ]
  },
  {
   "cell_type": "code",
   "execution_count": 62,
   "metadata": {
    "id": "7zmcfjlkBt93"
   },
   "outputs": [
    {
     "name": "stdout",
     "output_type": "stream",
     "text": [
      "tidak boleh dibagi 0\n"
     ]
    }
   ],
   "source": [
    "def hasil_bagi(pembilang, penyebut):\n",
    "    try:\n",
    "        print(pembilang/penyebut)\n",
    "    except ZeroDivisionError:\n",
    "        print(\"tidak boleh dibagi 0\")\n",
    "\n",
    "hasil_bagi(6, 0)"
   ]
  },
  {
   "cell_type": "markdown",
   "metadata": {
    "id": "NplBVTFPSFAz"
   },
   "source": [
    "<h3 align=\"center\">Additional Challenge (Optional)</h3>\n",
    "Buatlah mystery_number berupa bilangan bulat secara acak dari 1 sampai 40. Anda akan memiliki 5 kesempatan untuk menebak nomor misterinya sampai Anda menemukannya. Setiap kali Anda menebak, komputer akan memberi tahu Anda jika tebakan Anda terlalu tinggi atau terlalu rendah. Ketika Anda dapat menebak nomor misterinya, permainan berakhir, jika tidak, setelah 5 peluang Anda kehilangan kesempatan, permainan berhenti, dan komputer akan memberi tahu Anda nomor misterinya."
   ]
  },
  {
   "cell_type": "code",
   "execution_count": 71,
   "metadata": {
    "id": "-8sYbv92ShU7"
   },
   "outputs": [
    {
     "name": "stdout",
     "output_type": "stream",
     "text": [
      "39\n",
      "Tebak angka: 35\n",
      "Terlalu kecil\n",
      "Tebak angka: 40\n",
      "Terlalu besar\n",
      "Tebak angka: 39\n",
      "Mystery number: 39\n"
     ]
    }
   ],
   "source": [
    "import random\n",
    "\n",
    "mystery_number = random.randint(1, 40)\n",
    "print(mystery_number)\n",
    "for i in range(0, 5):\n",
    "    n = int(input(\"Tebak angka: \"))\n",
    "    if(n>mystery_number):\n",
    "        print(\"Terlalu besar\")\n",
    "    elif(n<mystery_number):\n",
    "        print(\"Terlalu kecil\")\n",
    "    else:\n",
    "        print(\"Mystery number:\", mystery_number)\n",
    "        break\n",
    "    if(i == 4):\n",
    "        print(\"Kesempatan habis, mystery number:\", mystery_number)"
   ]
  },
  {
   "cell_type": "markdown",
   "metadata": {
    "id": "4uROHmy_XTaD"
   },
   "source": [
    "<h3 align=\"center\">Additional Challenge (Optional)</h3>\n",
    "Uji-z satu sampel digunakan untuk menguji apakah rata-rata populasi lebih besar dari, kurang dari, atau tidak sama dengan nilai tertentu. Karena distribusi normal standar digunakan untuk menghitung nilai kritis untuk pengujian, pengujian ini sering disebut uji-z satu sampel. Uji-z mengasumsikan bahwa deviasi standar populasi diketahui.\n",
    "<p>Buatlah sebuah fungsi untuk menghitung z-value berdasarkan rumus dibawah, lalu membandingkan dengan z-table untuk memutuskan apakah H0 ditolak atau tidak. Parameter dari fungsi dapat ditentukan sendiri apa saja yang dibutuhkan."
   ]
  },
  {
   "cell_type": "markdown",
   "metadata": {
    "id": "TTUqa9H5ekCl"
   },
   "source": [
    "![Difference.jpg](data:image/jpeg;base64,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)"
   ]
  },
  {
   "cell_type": "code",
   "execution_count": null,
   "metadata": {},
   "outputs": [],
   "source": [
    "def "
   ]
  },
  {
   "cell_type": "code",
   "execution_count": 2,
   "metadata": {
    "id": "g66ztCE6a1Pg"
   },
   "outputs": [
    {
     "name": "stdout",
     "output_type": "stream",
     "text": [
      "0.4252344766418411\n",
      "accept null hypothesis\n"
     ]
    }
   ],
   "source": [
    "import scipy.stats as stats\n",
    "from statsmodels.stats import weightstats as stests\n",
    "\n",
    "sistole = [82, 86, 78, 76, 72, 82, 86, 76, 74, 80, 75, 77, 76, 69, 72, 86, 92, 83, 80, 80, 78, 85, 81, 75, 85, 79, 81, 79, 75, 78]\n",
    "ztest ,pval = stests.ztest(sistole, x2=None, value=80)\n",
    "print(float(pval))\n",
    "if pval<0.05:\n",
    "    print(\"reject null hypothesis\")\n",
    "else:\n",
    "    print(\"accept null hypothesis\")"
   ]
  }
 ],
 "metadata": {
  "colab": {
   "collapsed_sections": [],
   "name": "Week 4 – Python Programming Fundamentals.ipynb",
   "provenance": [
    {
     "file_id": "1T5-apLMIQ32qmwyr9qvk3YFyEp6c1pU4",
     "timestamp": 1597466350314
    },
    {
     "file_id": "1vzitVsfUTplmqat6Km7ccIdKISzSD6wP",
     "timestamp": 1597046412329
    }
   ]
  },
  "kernelspec": {
   "display_name": "Python 3",
   "language": "python",
   "name": "python3"
  },
  "language_info": {
   "codemirror_mode": {
    "name": "ipython",
    "version": 3
   },
   "file_extension": ".py",
   "mimetype": "text/x-python",
   "name": "python",
   "nbconvert_exporter": "python",
   "pygments_lexer": "ipython3",
   "version": "3.7.6"
  }
 },
 "nbformat": 4,
 "nbformat_minor": 1
}
