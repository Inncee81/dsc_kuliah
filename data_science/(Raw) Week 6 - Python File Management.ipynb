{
 "cells": [
  {
   "cell_type": "markdown",
   "metadata": {
    "id": "IUnV98BFLEzK"
   },
   "source": [
    "<h1>ISB2017 Applied Data Science<h1>\n",
    "\n",
    "---\n",
    "\n",
    "\n",
    "***Classroom Exercise Week 6: Python File Management***"
   ]
  },
  {
   "cell_type": "markdown",
   "metadata": {
    "id": "uh1WjE8R3t8f"
   },
   "source": [
    "<h3 align=center>Reading and Writing File using open function</h3>"
   ]
  },
  {
   "cell_type": "markdown",
   "metadata": {
    "id": "ztyyKFD93t8g"
   },
   "source": [
    "Python menyediakan fungsi dan metode dasar yang diperlukan untuk memanipulasi file secara default. Anda dapat melakukan sebagian besar manipulasi file menggunakan objek file.\n",
    "<h4>Menggunakan Fungsi <code>open()</code></h4>\n",
    "\n",
    "Sebelum Anda dapat membaca atau menulis file, Anda harus membukanya menggunakan fungsi `open()` bawaan Python. Fungsi ini membuat objek file, yang akan digunakan untuk memanggil fungsi lain yang terkait dengan manajemen file."
   ]
  },
  {
   "cell_type": "markdown",
   "metadata": {
    "id": "Jl7SFhulBm-J"
   },
   "source": [
    "Pada pertemuan ke-enam ini kita akan mempelajari bagaimana mengelola file csv pada google drive, sekaligus memanfaatkan google sheet yang merupakan komplemen google colab yang sangat powerful."
   ]
  },
  {
   "cell_type": "code",
   "execution_count": null,
   "metadata": {
    "id": "T-ENS2QEpcth"
   },
   "outputs": [],
   "source": [
    "from google.colab import drive\n",
    "\n",
    "# Mount folder drive (Google Drive)\n",
    "drive.mount(\"/content/drive\")"
   ]
  },
  {
   "cell_type": "code",
   "execution_count": null,
   "metadata": {
    "id": "FdjoemXWCy97"
   },
   "outputs": [],
   "source": [
    "# Trying to open file which does not exist. FileNotFoundError will be raised\n",
    "file_name = \"/content/drive/My Drive/Colab Notebooks/sumpah_pemuda.csv\"\n",
    "with open(file_name, \"r\") as my_file:\n",
    "    FileContent = my_file.read()\n",
    "    print(FileContent)"
   ]
  },
  {
   "cell_type": "code",
   "execution_count": null,
   "metadata": {
    "id": "2XT38iq6KOoz"
   },
   "outputs": [],
   "source": [
    "# Membuka file dengan Exception Handling\n",
    "file_name = \"/content/drive/My Drive/Colab Notebooks/sumpah_pemuda.txt\"\n",
    "try:\n",
    "    with open(file_name, \"r\") as my_file:\n",
    "    FileContent = my_file.read()\n",
    "    print(FileContent)\n",
    "except (FileNotFoundError, IOError):\n",
    "    print(\"Sorry the file you are trying to access could not be found!\")\n",
    "finally:\n",
    "    my_file.close"
   ]
  },
  {
   "cell_type": "markdown",
   "metadata": {
    "id": "4_EuTn-imCLr"
   },
   "source": [
    "<h4>Menambahkan konten pada File</h4>\n",
    "*   Memberikan argumen \"a\" pada fungsi open - Append - akan menambahkan konten pada end of the file.<br>\n",
    "*   Memberikan argumen \"w\" pada fungsi open - Write - akan menimpa konten yang ada pada file.<br>\n",
    "*   Memberikan argumen \"x\" pada fungsi open - Create - akan membuat file baru, jika file belum ada."
   ]
  },
  {
   "cell_type": "code",
   "execution_count": null,
   "metadata": {
    "id": "UL-zekFsnDwt"
   },
   "outputs": [],
   "source": [
    "my_file = open(file_name, \"a\")\n",
    "my_file.write(\"Merdeka!\")\n",
    "my_file.close()"
   ]
  },
  {
   "cell_type": "code",
   "execution_count": null,
   "metadata": {
    "id": "zY4yf_jLv3OW"
   },
   "outputs": [],
   "source": [
    "f = open(\"temp_file_from_python.txt\", \"x\")\n",
    "f = open(file_name, \"a\")\n",
    "f.write(\"Line 1\")\n",
    "f.close()"
   ]
  },
  {
   "cell_type": "markdown",
   "metadata": {
    "id": "BzDhjKiWuJW-"
   },
   "source": [
    "Buatlah file text berisi kelima sila dari Pancasila dengan menggunakan perintah Python. Simpan hasil nya dengan nama \"pancasila.txt\" di dalam folder Google Drive atau local folder anda."
   ]
  },
  {
   "cell_type": "code",
   "execution_count": null,
   "metadata": {
    "id": "AFFS_so9u_Ok"
   },
   "outputs": [],
   "source": []
  },
  {
   "cell_type": "markdown",
   "metadata": {
    "id": "dbQ9H5iVtC6y"
   },
   "source": [
    "<h4>JSON File</h4>\n",
    "JSON adalah JavaScript Object Notation yang merupakan format file standar terbuka, dan format pertukaran data, yang menggunakan teks yang dapat dibaca manusia untuk menyimpan dan mengirimkan objek data yang terdiri dari pasangan atribut-nilai dan tipe data array."
   ]
  },
  {
   "cell_type": "code",
   "execution_count": 1,
   "metadata": {
    "colab": {
     "base_uri": "https://localhost:8080/",
     "height": 71
    },
    "executionInfo": {
     "elapsed": 2063,
     "status": "ok",
     "timestamp": 1602840067575,
     "user": {
      "displayName": "Trianggoro Wiradinata",
      "photoUrl": "https://lh3.googleusercontent.com/a-/AOh14GhgKTOoW6XFdIeMBRVFEfa9liWzcyFyID5UFKeaRg=s64",
      "userId": "01344150203571826157"
     },
     "user_tz": -420
    },
    "id": "wATd9Rt9nu7P",
    "outputId": "fa38faed-2ec3-48a4-b89f-269b8fb00819"
   },
   "outputs": [
    {
     "name": "stdout",
     "output_type": "stream",
     "text": [
      "<Response [200]>\n",
      "dict_values([{'numFound': 5283, 'start': 0, 'maxScore': 6.5090313, 'docs': [{'id': '10.1371/journal.pone.0000290', 'journal': 'PLoS ONE', 'eissn': '1932-6203', 'publication_date': '2007-03-14T00:00:00Z', 'article_type': 'Research Article', 'author_display': ['Rayna I. Kraeva', 'Dragomir B. Krastev', 'Assen Roguev', 'Anna Ivanova', 'Marina N. Nedelcheva-Veleva', 'Stoyno S. Stoynov'], 'abstract': ['Nucleic acids, due to their structural and chemical properties, can form double-stranded secondary structures that assist the transfer of genetic information and can modulate gene expression. However, the nucleotide sequence alone is insufficient in explaining phenomena like intron-exon recognition during RNA processing. This raises the question whether nucleic acids are endowed with other attributes that can contribute to their biological functions. In this work, we present a calculation of thermodynamic stability of DNA/DNA and mRNA/DNA duplexes across the genomes of four species in the genus Saccharomyces by nearest-neighbor method. The results show that coding regions are more thermodynamically stable than introns, 3′-untranslated regions and intergenic sequences. Furthermore, open reading frames have more stable sense mRNA/DNA duplexes than the potential antisense duplexes, a property that can aid gene discovery. The lower stability of the DNA/DNA and mRNA/DNA duplexes of 3′-untranslated regions and the higher stability of genes correlates with increased mRNA level. These results suggest that the thermodynamic stability of DNA/DNA and mRNA/DNA duplexes affects mRNA transcription.'], 'title_display': 'Stability of mRNA/DNA and DNA/DNA Duplexes Affects mRNA Transcription', 'score': 6.5090313}, {'id': '10.1371/journal.pone.0154785', 'journal': 'PLOS ONE', 'eissn': '1932-6203', 'publication_date': '2016-05-04T00:00:00Z', 'article_type': 'Research Article', 'author_display': ['Choon Seok Oh', 'Jean Sippy', 'Bridget Charbonneau', 'Jennifer Crow Hutchinson', 'Olga Esther Mejia-Romero', 'Michael Barton', 'Priyal Patel', 'Rachel Sippy', 'Michael Feiss'], 'abstract': ['\\nDuring progeny assembly, viruses selectively package virion genomes from a nucleic acid pool that includes host nucleic acids. For large dsDNA viruses, including tailed bacteriophages and herpesviruses, immature viral DNA is recognized and translocated into a preformed icosahedral shell, the prohead. Recognition involves specific interactions between the viral packaging enzyme, terminase, and viral DNA recognition sites. Generally, viral DNA is recognized by terminase’s small subunit (TerS). The large terminase subunit (TerL) contains translocation ATPase and endonuclease domains. In phage lambda, TerS binds a sequence repeated three times in cosB, the recognition site. TerS binding to cosB positions TerL to cut the concatemeric DNA at the adjacent nicking site, cosN. TerL introduces staggered nicks in cosN, generating twelve bp cohesive ends. Terminase separates the cohesive ends and remains bound to the cosB-containing end, in a nucleoprotein structure called Complex I. Complex I docks on the prohead’s portal vertex and translocation ensues. DNA topology plays a role in the TerSλ-cosBλ interaction. Here we show that a site, I2, located between cosN and cosB, is critically important for an early DNA packaging step. I2 contains a complex static bend. I2 mutations block DNA packaging. I2 mutant DNA is cut by terminase at cosN in vitro, but in vivo, no cos cleavage is detected, nor is there evidence for Complex I. Models for what packaging step might be blocked by I2 mutations are presented.\\n'], 'title_display': 'DNA Topology and the Initiation of Virus DNA Packaging', 'score': 6.273857}, {'id': '10.1371/journal.pone.0047101', 'journal': 'PLoS ONE', 'eissn': '1932-6203', 'publication_date': '2012-11-08T00:00:00Z', 'article_type': 'Research Article', 'author_display': ['Sheng-Yu Wang', 'Yueh-Luen Lee', 'Yi-Hua Lai', 'Jeremy J. W. Chen', 'Wen-Lin Wu', 'Jeu-Ming P. Yuann', 'Wang-Lin Su', 'Show-Mei Chuang', 'Ming-Hon Hou'], 'abstract': ['\\n        The anticancer activity of DNA intercalators is related to their ability to intercalate into the DNA duplex with high affinity, thereby interfering with DNA replication and transcription. Polyamines (spermine in particular) are almost exclusively bound to nucleic acids and are involved in many cellular processes that require nucleic acids. Until now, the effects of polyamines on DNA intercalator activities have remained unclear because intercalation is the most important mechanism employed by DNA-binding drugs. Herein, using actinomycin D (ACTD) as a model, we have attempted to elucidate the effects of spermine on the action of ACTD, including its DNA-binding ability, RNA and DNA polymerase interference, and its role in the transcription and replication inhibition of ACTD within cells. We found that spermine interfered with the binding and stabilization of ACTD to DNA. The presence of increasing concentrations of spermine enhanced the transcriptional and replication activities of RNA and DNA polymerases, respectively, in vitro treated with ActD. Moreover, a decrease in intracellular polyamine concentrations stimulated by methylglyoxal-bis(guanylhydrazone) (MGBG) enhanced the ACTD-induced inhibition of c-myc transcription and DNA replication in several cancer cell lines. The results indicated that spermine attenuates ACTD binding to DNA and its inhibition of transcription and DNA replication both in vitro and within cells. Finally, a synergistic antiproliferative effect of MGBG and ACTD was observed in a cell viability assay. Our findings will be of significant relevance to future developments in combination with cancer therapy by enhancing the anticancer activity of DNA interactors through polyamine depletion.\\n      '], 'title_display': 'Spermine Attenuates the Action of the DNA Intercalator, Actinomycin D, on DNA Binding and the Inhibition of Transcription and DNA Replication', 'score': 6.1496205}, {'id': '10.1371/journal.pbio.0020173', 'journal': 'PLoS Biology', 'eissn': '1545-7885', 'publication_date': '2004-06-22T00:00:00Z', 'article_type': 'Research Article', 'author_display': ['David R Halpin', 'Pehr B Harbury'], 'abstract': ['\\n        Recently reported technologies for DNA-directed organic synthesis and for DNA computing rely on routing DNA populations through complex networks. The reduction of these ideas to practice has been limited by a lack of practical experimental tools. Here we describe a modular design for DNA routing genes, and routing machinery made from oligonucleotides and commercially available chromatography resins. The routing machinery partitions nanomole quantities of DNA into physically distinct subpools based on sequence. Partitioning steps can be iterated indefinitely, with worst-case yields of 85% per step. These techniques facilitate DNA-programmed chemical synthesis, and thus enable a materials biology that could revolutionize drug discovery.\\n      \\n        Resin-linked oligonucleotides are described that efficiently partition subpools of DNA based on sequence, enabling DNA- programmed chemical synthesis.\\n      '], 'title_display': 'DNA Display I. Sequence-Encoded Routing of DNA Populations', 'score': 6.1019864}, {'id': '10.1371/journal.pgen.0030110', 'journal': 'PLoS Genetics', 'eissn': '1553-7404', 'publication_date': '2007-07-06T00:00:00Z', 'article_type': 'Research Article', 'author_display': ['Concetta Cuozzo', 'Antonio Porcellini', 'Tiziana Angrisano', 'Annalisa Morano', 'Bongyong Lee', 'Alba Di Pardo', 'Samantha Messina', 'Rodolfo Iuliano', 'Alfredo Fusco', 'Maria R Santillo', 'Mark T Muller', 'Lorenzo Chiariotti', 'Max E Gottesman', 'Enrico V Avvedimento'], 'abstract': ['To explore the link between DNA damage and gene silencing, we induced a DNA double-strand break in the genome of Hela or mouse embryonic stem (ES) cells using I-SceI restriction endonuclease. The I-SceI site lies within one copy of two inactivated tandem repeated green fluorescent protein (GFP) genes (DR-GFP). A total of 2%–4% of the cells generated a functional GFP by homology-directed repair (HR) and gene conversion. However, ~50% of these recombinants expressed GFP poorly. Silencing was rapid and associated with HR and DNA methylation of the recombinant gene, since it was prevented in Hela cells by 5-aza-2′-deoxycytidine. ES cells deficient in DNA methyl transferase 1 yielded as many recombinants as wild-type cells, but most of these recombinants expressed GFP robustly. Half of the HR DNA molecules were de novo methylated, principally downstream to the double-strand break, and half were undermethylated relative to the uncut DNA. Methylation of the repaired gene was independent of the methylation status of the converting template. The methylation pattern of recombinant molecules derived from pools of cells carrying DR-GFP at different loci, or from an individual clone carrying DR-GFP at a single locus, was comparable. ClustalW analysis of the sequenced GFP molecules in Hela and ES cells distinguished recombinant and nonrecombinant DNA solely on the basis of their methylation profile and indicated that HR superimposed novel methylation profiles on top of the old patterns. Chromatin immunoprecipitation and RNA analysis revealed that DNA methyl transferase 1 was bound specifically to HR GFP DNA and that methylation of the repaired segment contributed to the silencing of GFP expression. Taken together, our data support a mechanistic link between HR and DNA methylation and suggest that DNA methylation in eukaryotes marks homologous recombined segments.: Genomic DNA can be modified by cytosine methylation. This epigenetic modification is layered on the primary genetic information and can silence the affected gene. Epigenetic modification has been implicated in cancer and aging. To date, the primary cause and the mechanism leading to DNA methylation are not known. By using a sophisticated genetic system, we have induced a single break in the double helix of the genomes of mouse or human cells. This rupture was repaired by a very precise mechanism: the damaged chromosome pairs and retrieves genetic information from an undamaged and homologous DNA partner. This homology-directed repair was marked in half of the repaired molecules by de novo methylation of cytosines flanking the cut. As a direct consequence, the gene in these repaired molecules was silenced. In the remaining molecules, the recombinant DNA was undermethylated and expressed the reconstituted gene. Since homology-directed repair may duplicate or delete genetic information, epigenetic modification of repaired DNA represents a powerful evolutionary force. If the expression of the repaired gene is harmful, only cells inheriting the silenced copy will survive. Conversely, if the function of the repaired gene is beneficial, cells inheriting the under-methylated copy will have a selective advantage. '], 'title_display': 'DNA Damage, Homology-Directed Repair, and DNA Methylation', 'score': 6.1019864}, {'id': '10.1371/annotation/254cef67-ab0e-43f6-af62-8f7df7c3677c', 'journal': 'PLoS ONE', 'eissn': '1932-6203', 'publication_date': '2013-05-15T00:00:00Z', 'article_type': 'Correction', 'author_display': ['Sheng-Yu Wang', 'Alan Yueh-Luen Lee', 'Yi-Hua Lai', 'Jeremy J. W. Chen', 'Wen-Lin Wu', 'Jeu-Ming P. Yuann', 'Wang-Lin Su', 'Show-Mei Chuang', 'Ming-Hon Hou'], 'abstract': [''], 'title_display': 'Correction: Spermine Attenuates the Action of the DNA Intercalator, Actinomycin D, on DNA Binding and the Inhibition of Transcription and DNA Replication', 'score': 6.038478}, {'id': '10.1371/journal.pone.0180798', 'journal': 'PLOS ONE', 'eissn': '1932-6203', 'publication_date': '2017-07-12T00:00:00Z', 'article_type': 'Research Article', 'author_display': ['Lukas Nejdl', 'Jiri Kudr', 'Amitava Moulick', 'Dagmar Hegerova', 'Branislav Ruttkay-Nedecky', 'Jaromir Gumulec', 'Kristyna Cihalova', 'Kristyna Smerkova', 'Simona Dostalova', 'Sona Krizkova', 'Marie Novotna', 'Pavel Kopel', 'Vojtech Adam'], 'abstract': ['\\nSparsely tested group of platinum nanoparticles (PtNPs) may have a comparable effect as complex platinum compounds. The aim of this study was to observe the effect of PtNPs in in vitro amplification of DNA fragment of phage λ, on the bacterial cultures (Staphylococcus aureus), human foreskin fibroblasts and erythrocytes. In vitro synthesized PtNPs were characterized by dynamic light scattering (PtNPs size range 4.8–11.7 nm), zeta potential measurements (-15 mV at pH 7.4), X-ray fluorescence, UV/vis spectrophotometry and atomic absorption spectrometry. The PtNPs inhibited the DNA replication and affected the secondary structure of DNA at higher concentrations, which was confirmed by polymerase chain reaction, DNA sequencing and DNA denaturation experiments. Further, cisplatin (CisPt), as traditional chemotherapy agent, was used in all parallel experiments. Moreover, the encapsulation of PtNPs in liposomes (LipoPtNPs) caused an approximately 2.4x higher of DNA damage in comparison with CisPt, LipoCisPt and PtNPs. The encapsulation of PtNPs in liposomes also increased their antibacterial, cytostatic and cytotoxic effect, which was determined by the method of growth curves on S. aureus and HFF cells. In addition, both the bare and encapsulated PtNPs caused lower oxidative stress (determined by GSH/GSSG ratio) in the human erythrocytes compared to the bare and encapsulated CisPt. CisPt was used in all parallel experiments as traditional chemotherapy agent.\\n'], 'title_display': 'Platinum nanoparticles induce damage to DNA and inhibit DNA replication', 'score': 5.939281}, {'id': '10.1371/journal.pgen.1006605', 'journal': 'PLOS Genetics', 'eissn': '1553-7404', 'publication_date': '2017-02-10T00:00:00Z', 'article_type': 'Correction', 'author_display': ['Concetta Cuozzo', 'Antonio Porcellini', 'Tiziana Angrisano', 'Annalisa Morano', 'Bongyong Lee', 'Alba Di Pardo', 'Samantha Messina', 'Rodolfo Iuliano', 'Alfredo Fusco', 'Maria R. Santillo', 'Mark T. Muller', 'Lorenzo Chiariotti', 'Max E. Gottesman', 'Enrico V. Avvedimento'], 'abstract': [''], 'title_display': 'Correction: DNA Damage, Homology-Directed Repair, and DNA Methylation', 'score': 5.939281}, {'id': '10.1371/journal.pone.0177147', 'journal': 'PLOS ONE', 'eissn': '1932-6203', 'publication_date': '2017-05-03T00:00:00Z', 'article_type': 'Research Article', 'author_display': ['Irina Bruck', 'Nalini Dhingra', 'Matthew P. Martinez', 'Daniel L. Kaplan'], 'abstract': ['\\nDpb11 is required for the initiation of DNA replication in budding yeast. We found that Dpb11 binds tightly to single-stranded DNA (ssDNA) or branched DNA structures, while its human homolog, TopBP1, binds tightly to branched-DNA structures. We also found that Dpb11 binds stably to CDK-phosphorylated RPA, the eukaryotic ssDNA binding protein, in the presence of branched DNA. A Dpb11 mutant specifically defective for DNA binding did not exhibit tight binding to RPA in the presence of DNA, suggesting that Dpb11-interaction with DNA may promote the recruitment of RPA to melted DNA. We then characterized a mutant of Dpb11 that is specifically defective in DNA binding in budding yeast cells. Expression of dpb11-m1,2,3,5,ΔC results in a substantial decrease in RPA recruitment to origins, suggesting that Dpb11 interaction with DNA may be required for RPA recruitment to origins. Expression of dpb11-m1,2,3,5,ΔC also results in diminished GINS interaction with Mcm2-7 during S phase, while Cdc45 interaction with Mcm2-7 is like wild-type. The reduced GINS interaction with Mcm2-7 may be an indirect consequence of diminished origin melting. We propose that the tight interaction between Dpb11, CDK-phosphorylated RPA, and branched-DNA may be required for the essential function of stabilizing melted origin DNA in vivo. We also propose an alternative model, wherein Dpb11-DNA interaction is required for some other function in DNA replication initiation, such as helicase activation.\\n'], 'title_display': 'Dpb11 may function with RPA and DNA to initiate DNA replication', 'score': 5.939281}, {'id': '10.1371/journal.pgen.1007006', 'journal': 'PLOS Genetics', 'eissn': '1553-7404', 'publication_date': '2017-09-15T00:00:00Z', 'article_type': 'Research Article', 'author_display': ['Devika Salim', 'William D. Bradford', 'Amy Freeland', 'Gillian Cady', 'Jianmin Wang', 'Steven C. Pruitt', 'Jennifer L. Gerton'], 'abstract': ['\\nRibosomal RNAs (rRNAs) in budding yeast are encoded by ~100–200 repeats of a 9.1kb sequence arranged in tandem on chromosome XII, the ribosomal DNA (rDNA) locus. Copy number of rDNA repeat units in eukaryotic cells is maintained far in excess of the requirement for ribosome biogenesis. Despite the importance of the repeats for both ribosomal and non-ribosomal functions, it is currently not known how “normal” copy number is determined or maintained. To identify essential genes involved in the maintenance of rDNA copy number, we developed a droplet digital PCR based assay to measure rDNA copy number in yeast and used it to screen a yeast conditional temperature-sensitive mutant collection of essential genes. Our screen revealed that low rDNA copy number is associated with compromised DNA replication. Further, subculturing yeast under two separate conditions of DNA replication stress selected for a contraction of the rDNA array independent of the replication fork blocking protein, Fob1. Interestingly, cells with a contracted array grew better than their counterparts with normal copy number under conditions of DNA replication stress. Our data indicate that DNA replication stresses select for a smaller rDNA array. We speculate that this liberates scarce replication factors for use by the rest of the genome, which in turn helps cells complete DNA replication and continue to propagate. Interestingly, tumors from mini chromosome maintenance 2 (MCM2)-deficient mice also show a loss of rDNA repeats. Our data suggest that a reduction in rDNA copy number may indicate a history of DNA replication stress, and that rDNA array size could serve as a diagnostic marker for replication stress. Taken together, these data begin to suggest the selective pressures that combine to yield a “normal” rDNA copy number.\\nAuthor summary: Eukaryotic genomes contain many copies of ribosomal DNA (rDNA) genes, usually far in excess of the requirement for cellular ribosome biogenesis. rDNA array size is highly variable, both within and across species. Although it is becoming increasingly evident that the rDNA locus serves extra-coding functions, and several pathways that contribute to maintenance of normal rDNA copy number have been discovered, the mechanisms that determine optimal rDNA array size in a cell remain unknown. Here we identify DNA replication stress as one factor that restricts rDNA copy number. We present evidence suggesting that DNA replication stress selects for cells with smaller rDNA arrays, and that contraction of the rDNA array provides a selective advantage to cells under conditions of DNA replication stress. Loss of rDNA copies may be a useful indicator of a history of replication stress, as observed in a mouse model for cancer. '], 'title_display': 'DNA replication stress restricts ribosomal DNA copy number', 'score': 5.939281}]}])\n"
     ]
    }
   ],
   "source": [
    "import requests\n",
    "import json\n",
    "\n",
    "url = \"http://api.plos.org/search?q=title:DNA\"\n",
    "response = requests.get(url)\n",
    "print(response)\n",
    "\n",
    "data = json.loads(response.text)\n",
    "print(data.values())"
   ]
  },
  {
   "cell_type": "markdown",
   "metadata": {
    "id": "NsmfFpvmA01U"
   },
   "source": [
    "<h3 align=\"center\">OS Module</h3>\n",
    "Modul OS di python menyediakan fungsi untuk berinteraksi dengan sistem operasi. Modul OS berada di bawah modul utilitas standar Python. Modul ini menyediakan cara portabel untuk menggunakan fungsionalitas yang bergantung pada sistem operasi."
   ]
  },
  {
   "cell_type": "code",
   "execution_count": null,
   "metadata": {
    "id": "Hp22WMRPBTdZ"
   },
   "outputs": [],
   "source": [
    "import os\n",
    "\n",
    "print(\"Nama Operating System: \", os.name)\n",
    "print(\"Current Working Directory: \", os.getcwd())\n",
    "\n",
    "# Melihat isi folder pada CWD\n",
    "os.listdir(\".\")"
   ]
  },
  {
   "cell_type": "code",
   "execution_count": null,
   "metadata": {
    "id": "cXEt1dwcJL8F"
   },
   "outputs": [],
   "source": [
    "# Memindah Current Working Directory\n",
    "os.chdir(\"/content/drive/My Drive\")\n",
    "\n",
    "# Melihat isi folder pada CWD\n",
    "os.listdir(\".\")"
   ]
  },
  {
   "cell_type": "code",
   "execution_count": null,
   "metadata": {
    "id": "1iGTwK5ONuKz"
   },
   "outputs": [],
   "source": [
    "import glob\n",
    "\n",
    "# Apabila hanya ingin menampilkan file pada CWD dengan extension tertentu\n",
    "fileList = glob.glob(\"./*.pdf\")\n",
    "\n",
    "# Menampilkan apa saja file nya\n",
    "for my_files in fileList:\n",
    "    print(my_files)"
   ]
  },
  {
   "cell_type": "markdown",
   "metadata": {
    "id": "DQuapoaMOwTP"
   },
   "source": [
    "<h3 align=\"center\">Pandas Library</h3>\n",
    "Pandas adalah library Python yang menyediakan struktur data yang cepat, fleksibel, dan ekspresif yang dirancang untuk bekerja dengan data terstruktur (tabular, multidimensi, heterogen) dan deret waktu. Pandas bertujuan untuk menyediakan tools analisis data dunia nyata yang praktis dengan Python."
   ]
  },
  {
   "cell_type": "markdown",
   "metadata": {
    "id": "3RqwsdfQZaex"
   },
   "source": [
    "Ada dua struktur data penting didalam pandas, yaitu Series dan DataFrame. Kita menggunakan Series jika hanya memerlukan 1 dimensi, biasanya utk univariate analysis, sementara DataFrame digunakan jika kita memakai dua atau lebih dimensi untuk bivariate atau multivariate analysis. Jika dimensi nya dua, maka membayang kan DataFrame akan lebih mudah jika dipahami seperti excel worksheet.\n",
    "\n",
    "Additional Link: https://thispointer.com/data-analysis-in-python-using-pandas"
   ]
  },
  {
   "cell_type": "code",
   "execution_count": null,
   "metadata": {
    "id": "KQnIR_tqbDHC"
   },
   "outputs": [],
   "source": [
    "import pandas as pd"
   ]
  },
  {
   "cell_type": "markdown",
   "metadata": {
    "id": "sze-mTl8Zzq4"
   },
   "source": [
    "Mari kita lihat struktur data **Series**, membayangkan nya mudah sekali seperti array 1 dimensi namun dengan lebih banyak fitur.\n"
   ]
  },
  {
   "cell_type": "code",
   "execution_count": null,
   "metadata": {
    "id": "mJVk4bSKZiB6"
   },
   "outputs": [],
   "source": [
    "my_series = pd.Series([1,2,3,4,5,6,7,8,9])\n",
    "\n",
    "# Dimensi dari Series\n",
    "my_series.shape\n",
    "\n",
    "# Value dari Series pada lokasi index tertentu\n",
    "my_series.iloc[2]"
   ]
  },
  {
   "cell_type": "markdown",
   "metadata": {
    "id": "QYRlxIfYcKYI"
   },
   "source": [
    "Buatlah Series yang berisi kata-kata dari kalimat \"Creating World Class Entrepreneur\", kemudian tampilkan isi Series pada index ke 3."
   ]
  },
  {
   "cell_type": "code",
   "execution_count": null,
   "metadata": {
    "id": "3KMJJUI1dPVK"
   },
   "outputs": [],
   "source": []
  },
  {
   "cell_type": "markdown",
   "metadata": {
    "id": "Ca9MjwqieYj4"
   },
   "source": [
    "Sekarang kita lihat DataFrame yang merupakan memiliki array dua dimensi, dapat dibayangkan sebagai dictionary dimana key nya adalah header column dan value adalah Series. Perhatikan contoh di slide ini, variabel uc_schools memiliki 2 keys, yaitu: SID dan School, dimana SID memiliki values berupa series dengan elemen FTI, FMB, FIK sementara School memiliki elemen Fakultas Teknologi Informasi, Fakultas Manajemen dan Bisnis, Fakultas Industri Kreatif. Semoga contoh ini dapat memberikan gambaran mengenai struktur dari DataFrame."
   ]
  },
  {
   "cell_type": "code",
   "execution_count": null,
   "metadata": {
    "id": "0GL7Askqegjs"
   },
   "outputs": [],
   "source": [
    "# Membuat DataFrame dari Dictionary\n",
    "uc_schools = {\"SID\" :[\"FTI\",\"FMB\",\"FIK\"],\n",
    "              \"School\" :[\"Fakultas Teknologi Informasi\",\"Fakultas Manajemen dan Bisnis\",\"Fakultas Industri Kreatif\"]}  \n",
    "df_uc = pd.DataFrame(uc_schools)\n",
    "\n",
    "# Dimensi dari DataFrame\n",
    "print(\"Dimensi DataFrame adalah:\", df_uc.shape)\n",
    "\n",
    "# Value dari DataFrame pada lokasi index tertentu\n",
    "print(\"Value pada lokasi index kedua adalah:\\n\", df_uc.iloc[2])\n",
    "\n",
    "# Menampilkan lima record teratas\n",
    "df_uc.head()"
   ]
  },
  {
   "cell_type": "markdown",
   "metadata": {
    "id": "RHBaBKgbi7z2"
   },
   "source": [
    "Buatlah DataFrame untuk menampung kode, nama, dan sks dari mata kuliah yang anda tempuh semester ini dengan menggunakan dictionary."
   ]
  },
  {
   "cell_type": "code",
   "execution_count": null,
   "metadata": {
    "id": "YWBw7_MKjOeH"
   },
   "outputs": [],
   "source": []
  },
  {
   "cell_type": "markdown",
   "metadata": {
    "id": "9Sb4PwVXitfY"
   },
   "source": [
    "Pada penerapan di dunia industry umumnya data yang akan dianalisis sudah berupa file dengan format tertentu seperti comma-separated values (csv), tab-separated values (tsv), microsoft excel, json, ataupun hasil query dari database. Pada perkuliahan ini kita akan menggunakan file format csv. Mari kita coba lihat contoh berikut ini, yaitu kita menggunakan pandas untuk membaca file liga Inggris dengan format csv yang disimpan di Google Drive. Alternatif nya cobalah menyimpan file ddalam Github anda, lalu mengaksesnya."
   ]
  },
  {
   "cell_type": "code",
   "execution_count": null,
   "metadata": {
    "id": "xkLvCMyGF6-p"
   },
   "outputs": [],
   "source": [
    "# Load dataset Football\n",
    "df = pd.read_csv(\"/content/drive/My Drive/Colab Notebooks/football.txt\")"
   ]
  },
  {
   "cell_type": "code",
   "execution_count": null,
   "metadata": {
    "id": "D2aPOi2Yk2gy"
   },
   "outputs": [],
   "source": [
    "# Apabila kita ingin mengolah sebagian fitur (kolom) saja, maka DataFrame dapat kita copy ke DataFrame baru\n",
    "new_df = df[[\"Team\", \"Wins\", \"Losses\", \"Draws\"]]\n",
    "\n",
    "# Dimensi dari DataFrame\n",
    "print(\"Dimensi DataFrame adalah:\", new_df.shape)"
   ]
  },
  {
   "cell_type": "code",
   "execution_count": null,
   "metadata": {
    "id": "rDnNuTbsqCEA"
   },
   "outputs": [],
   "source": [
    "# Tampilkan statistik deskriptif dari new_df diatas\n"
   ]
  },
  {
   "cell_type": "markdown",
   "metadata": {
    "id": "LDxxyhVDvjMv"
   },
   "source": [
    "Buatlah Box Plot dari data new_df diatas (Optional)"
   ]
  },
  {
   "cell_type": "code",
   "execution_count": null,
   "metadata": {
    "id": "cRYTuYYTvvc_"
   },
   "outputs": [],
   "source": []
  },
  {
   "cell_type": "markdown",
   "metadata": {
    "id": "VN27Uu-Sr5BS"
   },
   "source": [
    "<h3 align=\"center\">Menggunakan Google Sheet</h3>\n",
    "Kita dapat melakukan kombinasi antara Google Colab dengan Google Sheet sebagai komplemen yang saling melengkapi."
   ]
  },
  {
   "cell_type": "code",
   "execution_count": null,
   "metadata": {
    "id": "CqlHKcDFRUPe"
   },
   "outputs": [],
   "source": [
    "from google.colab import auth\n",
    "auth.authenticate_user()\n",
    "\n",
    "# import data di Google Sheets dilakukan dengan modul gspread\n",
    "import gspread\n",
    "from oauth2client.client import GoogleCredentials\n",
    "gc = gspread.authorize(GoogleCredentials.get_application_default())"
   ]
  },
  {
   "cell_type": "code",
   "execution_count": null,
   "metadata": {
    "id": "CZ3_u2sOosuq"
   },
   "outputs": [],
   "source": [
    "url = \"https://docs.google.com/spreadsheets/d/1lB1qfBkOHYOkpBGK6kW5mCDMvmZ9icSrkgp1sEHk1LA/edit?usp=sharing\"\n",
    "work_book = gc.open_by_url(url)\n",
    "work_sheet = work_book.worksheet(\"result\")\n",
    "data = work_sheet.get_all_records()\n",
    "\n",
    "df = pd.DataFrame(data)\n",
    "df.head()"
   ]
  },
  {
   "cell_type": "code",
   "execution_count": null,
   "metadata": {
    "id": "Vql0EkdYHj9-"
   },
   "outputs": [],
   "source": [
    "# Melihat fitur (kolom) apa saja yang ada dalam dataset ini\n",
    "df.columns"
   ]
  },
  {
   "cell_type": "code",
   "execution_count": null,
   "metadata": {
    "id": "xIhaJmq8UDwY"
   },
   "outputs": [],
   "source": [
    "# Buatlah DataFrame baru dengan fitur (kolom) tertentu saja\n",
    "selected_df = df[['player_name', 'team_abbreviation', 'age', 'player_height', 'player_weight', 'country']]\n",
    "\n",
    "# Tampilkan 15 data pertama\n",
    "selected_df.iloc[0:15]"
   ]
  },
  {
   "cell_type": "markdown",
   "metadata": {
    "id": "LkD7Xh0OWXQB"
   },
   "source": [
    "Untuk setiap team, tampilkan nilai minimum, maximum, dan rata untuk age, height, dan player (Optional)"
   ]
  },
  {
   "cell_type": "code",
   "execution_count": null,
   "metadata": {
    "id": "4VN4PSEw49fR"
   },
   "outputs": [],
   "source": []
  },
  {
   "cell_type": "markdown",
   "metadata": {
    "id": "QQ8mJ6iPX8Z6"
   },
   "source": [
    "Import data pada Github dapat menggunakan raw file nya"
   ]
  },
  {
   "cell_type": "code",
   "execution_count": null,
   "metadata": {
    "id": "eXu_paD-5BcG"
   },
   "outputs": [],
   "source": [
    "# Software carpentry url untuk data gapminder\n",
    "github_url = \"https://raw.githubusercontent.com/resbaz/r-novice-gapminder-files/master/data/gapminder-FiveYearData.csv\"\n",
    "\n",
    "# load data straight forward\n",
    "gapminder = pd.read_csv(github_url)\n",
    "gapminder.head()"
   ]
  },
  {
   "cell_type": "code",
   "execution_count": null,
   "metadata": {
    "id": "kwDeHGxV-sjd"
   },
   "outputs": [],
   "source": [
    "# Menampilkan info DataFrame dengan Kolom, Non_Null Count, dan Tipe datanya\n",
    "print(gapminder.info())"
   ]
  },
  {
   "cell_type": "code",
   "execution_count": null,
   "metadata": {
    "id": "gVh5Bml7-xJQ"
   },
   "outputs": [],
   "source": [
    "# Menampilkan data unik\n",
    "# Alt-1: Dengan fungsi unique()\n",
    "gapminder['continent'].unique()\n",
    "\n",
    "# Alt-2: Dengan set \n",
    "set(gapminder['continent'])"
   ]
  },
  {
   "cell_type": "markdown",
   "metadata": {
    "id": "r918cTbmZ3mL"
   },
   "source": [
    "Tampilkan negara yang ada dalam data ini secara unik, tampilkan berapa rata-rata lifeExp nya? (Optional)"
   ]
  },
  {
   "cell_type": "code",
   "execution_count": null,
   "metadata": {
    "id": "MJcJgZfC-8yN"
   },
   "outputs": [],
   "source": [
    "gapminder.groupby(\"country\").agg({\"lifeExp\":\"mean\"})"
   ]
  },
  {
   "cell_type": "markdown",
   "metadata": {
    "id": "uDB6h0RycepK"
   },
   "source": [
    "Buatlah DataFrame yang berisi record yang berasal dari Indonesia saja."
   ]
  },
  {
   "cell_type": "code",
   "execution_count": null,
   "metadata": {
    "id": "RoEJ5DjBBwdZ"
   },
   "outputs": [],
   "source": [
    "# selecting only record in Indonesia\n",
    "df_only_indo = gapminder[gapminder[\"country\"] == \"Indonesia\"]\n",
    "df_only_indo "
   ]
  },
  {
   "cell_type": "markdown",
   "metadata": {
    "id": "GbhTe2xKeoP1"
   },
   "source": [
    "Untuk menyimpan file csv, gunakan fungsi `to_csv()`"
   ]
  },
  {
   "cell_type": "code",
   "execution_count": null,
   "metadata": {
    "id": "wYpZjnZaDkyk"
   },
   "outputs": [],
   "source": [
    "# writing selected records to our google drive\n",
    "df_only_indo.to_csv(\"/content/drive/My Drive/Colab Notebooks/gapminder_indonesia.csv\")"
   ]
  },
  {
   "cell_type": "markdown",
   "metadata": {
    "id": "B0qZ4d6dexBR"
   },
   "source": [
    "<h3 align=\"center\">Additional Challenge (Optional)</h3>\n",
    "File “english_premier.csv” berisi hasil dari Liga Utama Inggris. Kolom berlabel <i>Goals</i> dan <i>Goals Allowed</i> berisi jumlah total gol yang dicetak dan total jumlah gol yang kemasukan dari lawan pada musim itu (jadi Arsenal mencetak 79 gol melawan lawan dan 36 gol dicetak melawan mereka). Tulis program untuk membaca file, lalu buatlah sebuah kolom baru dengan nama <i>Goal Diff</i> yang berisi selisih dari <i>Goals</i> dan <i>Goals Allowed</i>. Setelah itu simpanlah file dengan nama “english_premier_modified.csv” dalam folder Google Drive atau folder lokal anda."
   ]
  },
  {
   "cell_type": "code",
   "execution_count": null,
   "metadata": {
    "id": "056iDNzZD-s7"
   },
   "outputs": [],
   "source": [
    "# Download this csv file and save it in your GDrive or Local folder\n",
    "dataset_url = \"https://raw.githubusercontent.com/twiradinata/ISB2017-applied-data-science/master/english_premier.csv\"\n",
    "\n"
   ]
  }
 ],
 "metadata": {
  "colab": {
   "collapsed_sections": [],
   "name": "Week 6 - Python File Management.ipynb",
   "provenance": [
    {
     "file_id": "1umXolaI1Vv4udZCKVGPhYZgePv11N7r3",
     "timestamp": 1597731785708
    },
    {
     "file_id": "1T5-apLMIQ32qmwyr9qvk3YFyEp6c1pU4",
     "timestamp": 1597466350314
    },
    {
     "file_id": "1vzitVsfUTplmqat6Km7ccIdKISzSD6wP",
     "timestamp": 1597046412329
    }
   ]
  },
  "kernelspec": {
   "display_name": "Python 3",
   "language": "python",
   "name": "python3"
  },
  "language_info": {
   "codemirror_mode": {
    "name": "ipython",
    "version": 3
   },
   "file_extension": ".py",
   "mimetype": "text/x-python",
   "name": "python",
   "nbconvert_exporter": "python",
   "pygments_lexer": "ipython3",
   "version": "3.7.6"
  }
 },
 "nbformat": 4,
 "nbformat_minor": 1
}
