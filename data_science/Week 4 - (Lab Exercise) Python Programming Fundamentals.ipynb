{
 "cells": [
  {
   "cell_type": "markdown",
   "metadata": {
    "colab_type": "text",
    "id": "IUnV98BFLEzK"
   },
   "source": [
    "<h1>ISB2017 Applied Data Science<h1>\n",
    "\n",
    "---\n",
    "\n",
    "\n",
    "***Lab Exercise Week 4: Python Programming Fundamentals***"
   ]
  },
  {
   "cell_type": "markdown",
   "metadata": {
    "colab_type": "text",
    "id": "5gfh0oDcgBb2"
   },
   "source": [
    "1. Buatlah program untuk menyelesaikan masalah berikut. Program akan menerima masukan berupa kode, jenis dan harga, dengan jenis adalah \"A\", \"B\", dan \"C\". Untuk setiap jenis, masing-masing akan diberikan diskon sebesar 10% untuk A, 15% untuk B, dan 20% untuk C.\n",
    "\n",
    "  Program akan menghitung berapa harga setelah didiskon.\n",
    "  \n",
    "  Contoh input :\n",
    "  \n",
    "  Jenis = B\n",
    "\n",
    "  Kode = 10\n",
    "\n",
    "  Harga = 10000\n",
    "\n",
    "  Contoh output :\n",
    "  \n",
    "  Jenis barang B mendapat diskon = 15%, maka harga setelah didiskon = 8500."
   ]
  },
  {
   "cell_type": "code",
   "execution_count": 6,
   "metadata": {
    "colab": {},
    "colab_type": "code",
    "id": "aqXifbtCgD8D"
   },
   "outputs": [
    {
     "name": "stdout",
     "output_type": "stream",
     "text": [
      "Jenis:D\n",
      "Kode:10\n",
      "Harga:122000\n"
     ]
    }
   ],
   "source": [
    "jenis = input(\"Jenis:\")\n",
    "kode = input(\"Kode:\")\n",
    "harga = input(\"Harga:\")\n",
    "diskon = ''\n",
    "output = 0\n",
    "\n",
    "if(jenis == \"A\"):\n",
    "    diskon = '10%'\n",
    "    output = float(harga) * 0.9\n",
    "elif(jenis == \"B\"):\n",
    "    diskon = '15%'\n",
    "    output = float(harga) * 0.85\n",
    "elif(jenis == \"C\"):\n",
    "    diskon = '20%'\n",
    "    output = float(harga) * 0.8\n",
    "\n",
    "if(output != 0):\n",
    "    print(\"Jenis barang {} mendapat diskon {}, maka harga setelah diskon = {}\".format(jenis, diskon, int(output)))"
   ]
  },
  {
   "cell_type": "markdown",
   "metadata": {
    "colab_type": "text",
    "id": "2gQFi7XdHZwI"
   },
   "source": [
    "2. Sebuah acara wisata digunakan minibus kapasitas 7 penumpang permobil. Apabila terjadi kelebihan penumpang (walaupun cuma 1), maka minibus yang digunakan ditambah 1. Tulis program untuk menghitung jumlah minibus yang diperlukan, bila jumlah pesertanya diinput."
   ]
  },
  {
   "cell_type": "code",
   "execution_count": 9,
   "metadata": {},
   "outputs": [],
   "source": [
    "import math"
   ]
  },
  {
   "cell_type": "code",
   "execution_count": 13,
   "metadata": {
    "colab": {},
    "colab_type": "code",
    "id": "tlSkRXQdICJM"
   },
   "outputs": [
    {
     "name": "stdout",
     "output_type": "stream",
     "text": [
      "Jumlah peserta:8\n",
      "Jumlah minibus yang diperlukan: 2\n"
     ]
    }
   ],
   "source": [
    "peserta = input(\"Jumlah peserta:\")\n",
    "print(\"Jumlah minibus yang diperlukan: {}\".format(math.ceil(int(peserta)/7)))"
   ]
  },
  {
   "cell_type": "markdown",
   "metadata": {
    "colab_type": "text",
    "id": "9Mj0SoCKId_o"
   },
   "source": [
    "3. PLN menerapkan pemba9aran listrik perumahan dengan cara perhitungan sebagai berikut:\n",
    "\n",
    "- untuk golongan 1 tarif : Rp1000/kWh\n",
    "- untuk golongan 2 tarif : Rp2000/kWh\n",
    "\n",
    "  Dengan syarat penghitungan:\n",
    "\n",
    "  Minimum pembayaran adalah 100 kWh sedangkan untuk pemakaian 1000 kWh dan seterusnya tarifnya ditambah 10% dari total pembayaran."
   ]
  },
  {
   "cell_type": "code",
   "execution_count": 27,
   "metadata": {
    "colab": {},
    "colab_type": "code",
    "id": "9NrNL3hlJlB4"
   },
   "outputs": [
    {
     "name": "stdout",
     "output_type": "stream",
     "text": [
      "Pemakaian listrik:3000\n",
      "Golongan:2\n",
      "6600000\n"
     ]
    }
   ],
   "source": [
    "listrik = int(input(\"Pemakaian listrik:\"))\n",
    "golongan = int(input(\"Golongan:\"))\n",
    "\n",
    "def harga(tarif, listrik):\n",
    "    if(listrik>=100 and listrik<1000):\n",
    "        kembali = tarif*listrik\n",
    "    elif(listrik>=1000):\n",
    "        kembali = int(tarif*listrik*1.1)\n",
    "    return kembali\n",
    "    \n",
    "if(golongan==1 and listrik>=100):\n",
    "    print(harga(1000, listrik))\n",
    "elif(golongan==2 and listrik>=100):\n",
    "    print(harga(2000, listrik))\n",
    "else:\n",
    "    print(\"Minimum pembayaran 100kWh\")"
   ]
  },
  {
   "cell_type": "markdown",
   "metadata": {
    "colab_type": "text",
    "id": "06QP3bG0JxGr"
   },
   "source": [
    "4. Buatlah program untuk menghitung nilai faktorial suatu bilangan yang diinputkan oleh user.\n",
    "\n",
    "  Rumus faktorial adalah sebagai berikut :\n",
    "\n",
    "  n! = n*(n-1)*(n-2)*...*(n-(n-1))\n",
    "\n",
    "  n merupakan inputan dari user.\n",
    "\n",
    "  Boleh menggunakan struktur pengulangan manapun."
   ]
  },
  {
   "cell_type": "code",
   "execution_count": 33,
   "metadata": {
    "colab": {},
    "colab_type": "code",
    "id": "-Ptv2ro7Kxmc"
   },
   "outputs": [
    {
     "name": "stdout",
     "output_type": "stream",
     "text": [
      "masukkan bilangan: -4\n",
      "-24\n"
     ]
    }
   ],
   "source": [
    "n = inputan = int(input(\"masukkan bilangan: \"))\n",
    "hasil = 1\n",
    "\n",
    "if(n<0):\n",
    "    n *= -1\n",
    "while(n>0):\n",
    "    hasil *= n\n",
    "    n-=1\n",
    "if(inputan<0):\n",
    "    hasil *= -1\n",
    "\n",
    "print(hasil)"
   ]
  },
  {
   "cell_type": "markdown",
   "metadata": {
    "colab_type": "text",
    "id": "P8LfI3GdjZSh"
   },
   "source": [
    "5. Buatlah sebuah program untuk menghitung gaji n karyawan, n merupakan sebuah bilangan bulat yang akan diinputkan oleh user, kemudian akan dihitung gaji perkaryawan dengan ketentuan sebagai berikut :\n",
    "\n",
    "  Gaji per jam : Rp10.000,-\n",
    "\n",
    "  Bila jam kerja >7 jam, maka sisa jam kerja dihitung sebagai lembur yang besarnya 1,5 * gaji per jam\n",
    "\n",
    "  Kemudian ditampilkan total gaji karyawan yang harus dibayarkan oleh perusahaan. \n",
    "  Jumlah jam kerja tiap karyawan akan diinputkan oleh user"
   ]
  },
  {
   "cell_type": "code",
   "execution_count": 3,
   "metadata": {
    "colab": {},
    "colab_type": "code",
    "id": "A75hCcrAj8Pf"
   },
   "outputs": [
    {
     "name": "stdout",
     "output_type": "stream",
     "text": [
      "input n: 4\n",
      "jam kerja pegawai ke-1: 5\n",
      "jam kerja pegawai ke-2: 6\n",
      "jam kerja pegawai ke-3: 7\n",
      "jam kerja pegawai ke-4: 9\n",
      "280000\n"
     ]
    }
   ],
   "source": [
    "n = int(input(\"input n: \"))\n",
    "total=0\n",
    "\n",
    "for i in range(n):\n",
    "    jam = float(input(\"jam kerja pegawai ke-{}: \".format(i+1)))\n",
    "    if(jam>7):\n",
    "        gaji = (7+(jam-7)*1.5)*10000\n",
    "    else:\n",
    "        gaji = jam * 10000\n",
    "    total += gaji\n",
    "\n",
    "print(int(total))"
   ]
  }
 ],
 "metadata": {
  "colab": {
   "collapsed_sections": [],
   "name": "Week 4 - (Lab Exercise) Python Programming Fundamentals.ipynb",
   "provenance": []
  },
  "kernelspec": {
   "display_name": "Python 3",
   "language": "python",
   "name": "python3"
  },
  "language_info": {
   "codemirror_mode": {
    "name": "ipython",
    "version": 3
   },
   "file_extension": ".py",
   "mimetype": "text/x-python",
   "name": "python",
   "nbconvert_exporter": "python",
   "pygments_lexer": "ipython3",
   "version": "3.7.6"
  }
 },
 "nbformat": 4,
 "nbformat_minor": 1
}
