{
 "cells": [
  {
   "cell_type": "markdown",
   "metadata": {
    "colab_type": "text",
    "id": "IUnV98BFLEzK"
   },
   "source": [
    "<h1>ISB2017 Applied Data Science<h1>\n",
    "\n",
    "---\n",
    "\n",
    "\n",
    "***Classroom Exercise Week 1: Introduction to Python***"
   ]
  },
  {
   "cell_type": "markdown",
   "metadata": {
    "colab_type": "text",
    "id": "uh1WjE8R3t8f"
   },
   "source": [
    "<h3 align=center>Hello World</h3>"
   ]
  },
  {
   "cell_type": "markdown",
   "metadata": {
    "colab_type": "text",
    "id": "ztyyKFD93t8g"
   },
   "source": [
    "Mari kita mulai belajar Python dengan tradisi dunia IT, yaitu <code>PRINT</code> statement. Contoh: <code>print(\"Hello World\")</code>. Mari kita bersama mencoba print statement pada cell dibawah ini. Setelahnya tekan tombol <kbd>shift</kdb>+<kbd>command</kbd> untuk menjalankan perintah:"
   ]
  },
  {
   "cell_type": "code",
   "execution_count": 1,
   "metadata": {
    "colab": {},
    "colab_type": "code",
    "id": "U4oQ8dbV3t8h"
   },
   "outputs": [
    {
     "name": "stdout",
     "output_type": "stream",
     "text": [
      "Hello World\n"
     ]
    }
   ],
   "source": [
    "print(\"Hello World\")"
   ]
  },
  {
   "cell_type": "markdown",
   "metadata": {
    "colab_type": "text",
    "id": "0JnPgnPB3t8k"
   },
   "source": [
    "<h3 align=center>Menuliskan Hello World pada dua baris terpisah</h3> "
   ]
  },
  {
   "cell_type": "markdown",
   "metadata": {
    "colab_type": "text",
    "id": "naNpd4Ve3t8l"
   },
   "source": [
    "Mari kita cetak Hello World namun dalam dua baris terpisah. Hint: menambahkan \\n diantara dua kata akan membuat kata berikutnya pindah ke baris baru. Contoh: <code>print(\"baris 1\\nbaris 2\")</code>. Silahkan dicoba mencetak Hello World dalam dua baris. Jangan lupa setelahnya tekan tombol shift+command untuk menjalankan perintah:"
   ]
  },
  {
   "cell_type": "code",
   "execution_count": 4,
   "metadata": {
    "colab": {},
    "colab_type": "code",
    "id": "Eq8vGdH43t8m"
   },
   "outputs": [
    {
     "name": "stdout",
     "output_type": "stream",
     "text": [
      "Hello\n",
      "World\n"
     ]
    }
   ],
   "source": [
    "print(\"Hello\\nWorld\")"
   ]
  },
  {
   "cell_type": "markdown",
   "metadata": {
    "colab_type": "text",
    "id": "JRBYI1JM3t8q"
   },
   "source": [
    "<h3 align=center>Comments berguna sekali untuk memahami struktur coding</h3> "
   ]
  },
  {
   "cell_type": "markdown",
   "metadata": {
    "colab_type": "text",
    "id": "D_ooyBsI3t8q"
   },
   "source": [
    "Pada python, comments diciptakan dengan hash tag <code>#</code> didepan kalimat yang merupakan comment. Contoh: <code># ini adalah comment</code>"
   ]
  },
  {
   "cell_type": "code",
   "execution_count": 5,
   "metadata": {
    "colab": {},
    "colab_type": "code",
    "id": "n4azh8iz3t8r"
   },
   "outputs": [],
   "source": [
    "#ini adalah comment"
   ]
  },
  {
   "cell_type": "markdown",
   "metadata": {
    "colab_type": "text",
    "id": "sUPOJGL3Yysg"
   },
   "source": [
    "<h3 align=\"center\">Memeriksa Versi Python</h3>"
   ]
  },
  {
   "cell_type": "markdown",
   "metadata": {
    "colab_type": "text",
    "id": "d-40p3xdZA0S"
   },
   "source": [
    "<p align = \"justify\">Ada dua versi populer dari bahasa pemrograman Python yang digunakan saat ini, yaitu Python 2 dan Python 3. Komunitas Python telah memutuskan untuk pindah dari Python 2 ke Python 3, dan banyak library populer telah mengumumkan bahwa mereka akan beralih pula ke Python 3. Oleh karena itu dalam kuliah ini kita akan menggunakan Python 3.\n",
    "\n",
    "<p align = \"justify\">Bagaimana kita tahu bahwa notebook kita dieksekusi oleh runtime Python 3? Pada Jupyter Notebook kita dapat melihat di sudut kanan atas ada tulisan \"Python 3\", pada Google Colab anda dapat hover mouse anda ke menu bar Ram/Disk (Connect/Hubungkan terlebih dahulu).\n",
    "\n",
    "Anda dapat juga dapat menjalankan code langsung di Python. Coba jalankan kode berikut:<br>\n",
    "<code># Check the Python Version<br>\n",
    "import sys<br>\n",
    "print(sys.version)</code>"
   ]
  },
  {
   "cell_type": "code",
   "execution_count": 6,
   "metadata": {
    "colab": {},
    "colab_type": "code",
    "id": "Puq3zpDFbc64"
   },
   "outputs": [
    {
     "name": "stdout",
     "output_type": "stream",
     "text": [
      "3.7.6 (default, Jan  8 2020, 20:23:39) [MSC v.1916 64 bit (AMD64)]\n"
     ]
    }
   ],
   "source": [
    "import sys\n",
    "print(sys.version)"
   ]
  },
  {
   "cell_type": "markdown",
   "metadata": {
    "colab_type": "text",
    "id": "NOXxIiZpgbX4"
   },
   "source": [
    "<h3 align=\"center\">Melihat Tanggal dan Waktu</h3>"
   ]
  },
  {
   "cell_type": "markdown",
   "metadata": {
    "colab_type": "text",
    "id": "LuURUoC_gbtT"
   },
   "source": [
    "Modul datetime menyediakan kelas untuk memanipulasi tanggal dan waktu dengan cara yang sederhana. `datetime.now()` memberikan tanggal dan waktu server saat ini. Contoh:<br>\n",
    "<code>import datetime<br>\n",
    "now = datetime.datetime.now()<br>\n",
    "print(\"Current date and time : \")<br>\n",
    "print(now)</code>\n"
   ]
  },
  {
   "cell_type": "code",
   "execution_count": 7,
   "metadata": {
    "colab": {},
    "colab_type": "code",
    "id": "HSt9cvd8gdta"
   },
   "outputs": [
    {
     "name": "stdout",
     "output_type": "stream",
     "text": [
      "Current date and time:\n",
      "2020-09-14 17:05:44.626540\n"
     ]
    }
   ],
   "source": [
    "import datetime\n",
    "now = datetime.datetime.now()\n",
    "print(\"Current date and time:\")\n",
    "print(now)"
   ]
  },
  {
   "cell_type": "markdown",
   "metadata": {
    "colab_type": "text",
    "id": "rNzcseffcgbl"
   },
   "source": [
    "<h3 align=\"center\">Error pada Python</h3>"
   ]
  },
  {
   "cell_type": "markdown",
   "metadata": {
    "colab_type": "text",
    "id": "DYHczZQncq91"
   },
   "source": [
    "Setiap orang membuat Error :D. Untuk error yang terjadi, Python akan memberi tahu pesan kesalahan agar kita memahami di mana kita membuat kesalahan dan bagaimana cara memperbaikinya.\n",
    "\n",
    "Misalnya, jika Anda mengeja <code>print</code> sebagai <code>prind</code>, Python akan menampilkan pesan error. Cobalah:"
   ]
  },
  {
   "cell_type": "code",
   "execution_count": 8,
   "metadata": {
    "colab": {},
    "colab_type": "code",
    "id": "4XBgwM9ccrfi"
   },
   "outputs": [
    {
     "ename": "NameError",
     "evalue": "name 'prind' is not defined",
     "output_type": "error",
     "traceback": [
      "\u001b[1;31m---------------------------------------------------------------------------\u001b[0m",
      "\u001b[1;31mNameError\u001b[0m                                 Traceback (most recent call last)",
      "\u001b[1;32m<ipython-input-8-3dd813ecec90>\u001b[0m in \u001b[0;36m<module>\u001b[1;34m\u001b[0m\n\u001b[1;32m----> 1\u001b[1;33m \u001b[0mprind\u001b[0m\u001b[1;33m(\u001b[0m\u001b[1;34m\"Hello World\"\u001b[0m\u001b[1;33m)\u001b[0m\u001b[1;33m\u001b[0m\u001b[1;33m\u001b[0m\u001b[0m\n\u001b[0m",
      "\u001b[1;31mNameError\u001b[0m: name 'prind' is not defined"
     ]
    }
   ],
   "source": [
    "prind(\"Hello World\")"
   ]
  },
  {
   "cell_type": "markdown",
   "metadata": {
    "colab_type": "text",
    "id": "CYArE2RHd5du"
   },
   "source": [
    "Terkadang kita juga membuat error yang berkaitan dengan syntax, contohnya: <code>print(\"Hello World)</code> dimana kita lupa memberi tanda **\"**"
   ]
  },
  {
   "cell_type": "markdown",
   "metadata": {
    "colab_type": "text",
    "id": "Ixkg2EgDfvZF"
   },
   "source": [
    "<h3 align=center>Mencoba fitur grafis Python</h3>\n",
    "Python memiliki modul grafis yang lengkap untuk visualisasi data. Silahkan ketikkan code berikut ini:\n",
    "<code>\n",
    "<pre>import matplotlib.pyplot as plt \n",
    "anggaran = [150, 127, 178, 130, 115] \n",
    "realisasi = [128, 132, 142, 156, 131]\n",
    "plt.plot(anggaran)\n",
    "plt.plot(realisasi)\n",
    "plt.show()</pre>\n",
    "</code>"
   ]
  },
  {
   "cell_type": "code",
   "execution_count": 10,
   "metadata": {
    "colab": {},
    "colab_type": "code",
    "executionInfo": {
     "elapsed": 1253,
     "status": "ok",
     "timestamp": 1596683316741,
     "user": {
      "displayName": "Trianggoro Wiradinata",
      "photoUrl": "https://lh3.googleusercontent.com/a-/AOh14GhgKTOoW6XFdIeMBRVFEfa9liWzcyFyID5UFKeaRg=s64",
      "userId": "01344150203571826157"
     },
     "user_tz": -420
    },
    "id": "gRTAA0e_iQte"
   },
   "outputs": [
    {
     "data": {
      "image/png": "[encoded data removed]",
      "text/plain": [
       "<Figure size 432x288 with 1 Axes>"
      ]
     },
     "metadata": {
      "needs_background": "light"
     },
     "output_type": "display_data"
    }
   ],
   "source": [
    "import matplotlib.pyplot as plt \n",
    "anggaran = [150, 127, 178, 130, 115] \n",
    "realisasi = [128, 132, 142, 156, 131]\n",
    "plt.plot(anggaran)\n",
    "plt.plot(realisasi)\n",
    "plt.show()"
   ]
  },
  {
   "cell_type": "markdown",
   "metadata": {
    "colab_type": "text",
    "id": "zeO29geA9a_s"
   },
   "source": [
    "<h3 align=center>Additional Challenge (Optional)</h3>"
   ]
  },
  {
   "cell_type": "markdown",
   "metadata": {
    "colab_type": "text",
    "id": "fLB9rIfu9mgX"
   },
   "source": [
    "Buatlah sebuah potongan program yang mencetak Hello dan Nama Depan anda dengan menggunakan fungsi <code>input</code>. Namun apabila saat meminta input tidak diisi apapun, maka akan tampil Hello World."
   ]
  },
  {
   "cell_type": "code",
   "execution_count": 14,
   "metadata": {
    "colab": {},
    "colab_type": "code",
    "id": "-2Icn5jP-OZP"
   },
   "outputs": [
    {
     "name": "stdout",
     "output_type": "stream",
     "text": [
      "Hello, Priscil\n"
     ]
    }
   ],
   "source": [
    "def cetak(nama = \"World\"):\n",
    "    return \"Hello, \"+nama\n",
    "\n",
    "print(cetak(\"Priscil\"))"
   ]
  },
  {
   "cell_type": "markdown",
   "metadata": {
    "colab_type": "text",
    "id": "BIFDklbdLL-n"
   },
   "source": [
    "<i>End of Exercise. See you next week.</i>\n"
   ]
  }
 ],
 "metadata": {
  "colab": {
   "collapsed_sections": [],
   "name": "Week 1 - Introduction to Python.ipynb",
   "provenance": []
  },
  "kernelspec": {
   "display_name": "Python 3",
   "language": "python",
   "name": "python3"
  },
  "language_info": {
   "codemirror_mode": {
    "name": "ipython",
    "version": 3
   },
   "file_extension": ".py",
   "mimetype": "text/x-python",
   "name": "python",
   "nbconvert_exporter": "python",
   "pygments_lexer": "ipython3",
   "version": "3.7.6"
  }
 },
 "nbformat": 4,
 "nbformat_minor": 1
}
