{
 "cells": [
  {
   "cell_type": "code",
   "execution_count": 1,
   "metadata": {},
   "outputs": [],
   "source": [
    "from scrapy.crawler import CrawlerProcess\n",
    "from scrapy.spiders import CrawlSpider, Rule #CrawlSpider: crawlernya, Rule: untuk ngatur rule yg akan diterapkan pada crawler\n",
    "from scrapy.linkextractors import LinkExtractor\n",
    "from scrapy.exceptions import CloseSpider\n",
    "import json"
   ]
  },
  {
   "cell_type": "code",
   "execution_count": 3,
   "metadata": {},
   "outputs": [
    {
     "name": "stderr",
     "output_type": "stream",
     "text": [
      "Unhandled error in Deferred:\n",
      "2020-10-21 20:33:19 [twisted] CRITICAL: Unhandled error in Deferred:\n",
      "\n",
      "Traceback (most recent call last):\n",
      "  File \"D:\\anaconda3\\lib\\site-packages\\scrapy\\crawler.py\", line 192, in crawl\n",
      "    return self._crawl(crawler, *args, **kwargs)\n",
      "  File \"D:\\anaconda3\\lib\\site-packages\\scrapy\\crawler.py\", line 196, in _crawl\n",
      "    d = crawler.crawl(*args, **kwargs)\n",
      "  File \"D:\\anaconda3\\lib\\site-packages\\twisted\\internet\\defer.py\", line 1613, in unwindGenerator\n",
      "    return _cancellableInlineCallbacks(gen)\n",
      "  File \"D:\\anaconda3\\lib\\site-packages\\twisted\\internet\\defer.py\", line 1529, in _cancellableInlineCallbacks\n",
      "    _inlineCallbacks(None, g, status)\n",
      "--- <exception caught here> ---\n",
      "  File \"D:\\anaconda3\\lib\\site-packages\\twisted\\internet\\defer.py\", line 1418, in _inlineCallbacks\n",
      "    result = g.send(result)\n",
      "  File \"D:\\anaconda3\\lib\\site-packages\\scrapy\\crawler.py\", line 86, in crawl\n",
      "    self.spider = self._create_spider(*args, **kwargs)\n",
      "  File \"D:\\anaconda3\\lib\\site-packages\\scrapy\\crawler.py\", line 98, in _create_spider\n",
      "    return self.spidercls.from_crawler(self, *args, **kwargs)\n",
      "  File \"D:\\anaconda3\\lib\\site-packages\\scrapy\\spiders\\crawl.py\", line 137, in from_crawler\n",
      "    spider = super().from_crawler(crawler, *args, **kwargs)\n",
      "  File \"D:\\anaconda3\\lib\\site-packages\\scrapy\\spiders\\__init__.py\", line 50, in from_crawler\n",
      "    spider = cls(*args, **kwargs)\n",
      "builtins.TypeError: __init__() missing 1 required positional argument: 'start_urls'\n",
      "\n",
      "2020-10-21 20:33:19 [twisted] CRITICAL: \n",
      "Traceback (most recent call last):\n",
      "  File \"D:\\anaconda3\\lib\\site-packages\\twisted\\internet\\defer.py\", line 1418, in _inlineCallbacks\n",
      "    result = g.send(result)\n",
      "  File \"D:\\anaconda3\\lib\\site-packages\\scrapy\\crawler.py\", line 86, in crawl\n",
      "    self.spider = self._create_spider(*args, **kwargs)\n",
      "  File \"D:\\anaconda3\\lib\\site-packages\\scrapy\\crawler.py\", line 98, in _create_spider\n",
      "    return self.spidercls.from_crawler(self, *args, **kwargs)\n",
      "  File \"D:\\anaconda3\\lib\\site-packages\\scrapy\\spiders\\crawl.py\", line 137, in from_crawler\n",
      "    spider = super().from_crawler(crawler, *args, **kwargs)\n",
      "  File \"D:\\anaconda3\\lib\\site-packages\\scrapy\\spiders\\__init__.py\", line 50, in from_crawler\n",
      "    spider = cls(*args, **kwargs)\n",
      "TypeError: __init__() missing 1 required positional argument: 'start_urls'\n",
      "2020-10-21 20:33:19 [scrapy.utils.log] INFO: Scrapy 2.4.0 started (bot: scrapybot)\n",
      "2020-10-21 20:33:19 [scrapy.utils.log] INFO: Versions: lxml 4.6.1.0, libxml2 2.9.5, cssselect 1.1.0, parsel 1.6.0, w3lib 1.22.0, Twisted 20.3.0, Python 3.7.6 (default, Jan  8 2020, 20:23:39) [MSC v.1916 64 bit (AMD64)], pyOpenSSL 19.1.0 (OpenSSL 1.1.1h  22 Sep 2020), cryptography 3.1.1, Platform Windows-10-10.0.18362-SP0\n",
      "2020-10-21 20:33:19 [scrapy.utils.log] DEBUG: Using reactor: twisted.internet.selectreactor.SelectReactor\n",
      "2020-10-21 20:33:19 [scrapy.crawler] INFO: Overridden settings:\n",
      "{'CLOSESPIDER_TIMEOUT': 300, 'DEPTH_LIMIT': '3', 'ROBOTSTXT_OBEY': 'True'}\n",
      "2020-10-21 20:33:19 [scrapy.extensions.telnet] INFO: Telnet Password: 7626cf2ee8875a5a\n",
      "2020-10-21 20:33:19 [scrapy.middleware] INFO: Enabled extensions:\n",
      "['scrapy.extensions.corestats.CoreStats',\n",
      " 'scrapy.extensions.telnet.TelnetConsole',\n",
      " 'scrapy.extensions.closespider.CloseSpider',\n",
      " 'scrapy.extensions.logstats.LogStats']\n"
     ]
    },
    {
     "name": "stdout",
     "output_type": "stream",
     "text": [
      "after\n"
     ]
    }
   ],
   "source": [
    "class webflow(CrawlSpider): #kelas crawler inherit CrawlSpider\n",
    "    item = \"https://webflow.com/\"\n",
    "    name = \"webflow\"\n",
    "#     allowed_domains = []\n",
    "    start_urls = [\"https://webflow.com/\"]\n",
    "    e = []\n",
    "    custom_settings = {\n",
    "        'DEPTH_LIMIT':'3',\n",
    "        'ROBOTSTXT_OBEY':'True',\n",
    "        'CLOSESPIDER_TIMEOUT':300\n",
    "         \n",
    "    }\n",
    "    rules = [Rule(LinkExtractor(allow=\"\"),\n",
    "                  callback='parse_item', follow=True)]\n",
    "    \n",
    "    def __init__(name, start_urls):\n",
    "        self.name = name\n",
    "#         self.allowed_domains = allowed_domains\n",
    "        self.start_urls = start_urls\n",
    "        self.item = start_urls[0]\n",
    "        self.count = 1\n",
    "        self.d = {1: self.item}\n",
    "        self.e = []\n",
    "    \n",
    "    def parse_item(self, response):\n",
    "        asalIndex = len(d)\n",
    "        with open(\"d_e.txt\",'w',encoding=\"utf-8\") as f:\n",
    "            f.write(json.dumps(self.d)+\"\\n\"+json.dumps(self.e))\n",
    "        with open(\"name/\"+self.item+\".txt\",'w',encoding=\"utf-8\") as f:\n",
    "            f.write(response.css(\"html\").get())\n",
    "        self.d[len(d)+1]=response.url\n",
    "        tujuanIndex = len(d)\n",
    "        e.append(asalIndex+\", \"+tujuanIndex)\n",
    "        self.item=response.url\n",
    "\n",
    "#run crawler\n",
    "process = CrawlerProcess()\n",
    "process.crawl(kotlin)\n",
    "    # the script will block here until the crawling is finished\n",
    "process.start() \n",
    "print(\"after\")"
   ]
  },
  {
   "cell_type": "code",
   "execution_count": null,
   "metadata": {},
   "outputs": [],
   "source": []
  }
 ],
 "metadata": {
  "kernelspec": {
   "display_name": "Python 3",
   "language": "python",
   "name": "python3"
  },
  "language_info": {
   "codemirror_mode": {
    "name": "ipython",
    "version": 3
   },
   "file_extension": ".py",
   "mimetype": "text/x-python",
   "name": "python",
   "nbconvert_exporter": "python",
   "pygments_lexer": "ipython3",
   "version": "3.7.6"
  }
 },
 "nbformat": 4,
 "nbformat_minor": 4
}
