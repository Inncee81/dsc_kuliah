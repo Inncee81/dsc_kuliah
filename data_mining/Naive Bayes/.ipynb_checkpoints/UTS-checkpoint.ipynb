{
 "cells": [
  {
   "cell_type": "markdown",
   "metadata": {},
   "source": [
    "# Import Library"
   ]
  },
  {
   "cell_type": "code",
   "execution_count": 2,
   "metadata": {},
   "outputs": [],
   "source": [
    "import numpy\n",
    "from scipy.stats import entropy\n",
    "from pandas import DataFrame, read_csv\n",
    "import matplotlib.pyplot as plotLib\n",
    "import pandas as pd\n",
    "import pprint"
   ]
  },
  {
   "cell_type": "markdown",
   "metadata": {},
   "source": [
    "# Preparing Dataset"
   ]
  },
  {
   "cell_type": "markdown",
   "metadata": {},
   "source": [
    "## Load Dataset from xls"
   ]
  },
  {
   "cell_type": "code",
   "execution_count": 3,
   "metadata": {},
   "outputs": [
    {
     "data": {
      "text/html": [
       "<div>\n",
       "<style scoped>\n",
       "    .dataframe tbody tr th:only-of-type {\n",
       "        vertical-align: middle;\n",
       "    }\n",
       "\n",
       "    .dataframe tbody tr th {\n",
       "        vertical-align: top;\n",
       "    }\n",
       "\n",
       "    .dataframe thead th {\n",
       "        text-align: right;\n",
       "    }\n",
       "</style>\n",
       "<table border=\"1\" class=\"dataframe\">\n",
       "  <thead>\n",
       "    <tr style=\"text-align: right;\">\n",
       "      <th></th>\n",
       "      <th>EXPENSE</th>\n",
       "      <th>SALARY</th>\n",
       "      <th>RELATIONSHIP</th>\n",
       "      <th>WORKTIME</th>\n",
       "      <th>WELLBEING</th>\n",
       "    </tr>\n",
       "  </thead>\n",
       "  <tbody>\n",
       "    <tr>\n",
       "      <th>0</th>\n",
       "      <td>low</td>\n",
       "      <td>high</td>\n",
       "      <td>married</td>\n",
       "      <td>normal</td>\n",
       "      <td>yes</td>\n",
       "    </tr>\n",
       "    <tr>\n",
       "      <th>1</th>\n",
       "      <td>low</td>\n",
       "      <td>high</td>\n",
       "      <td>married</td>\n",
       "      <td>overtime</td>\n",
       "      <td>yes</td>\n",
       "    </tr>\n",
       "    <tr>\n",
       "      <th>2</th>\n",
       "      <td>moderate</td>\n",
       "      <td>high</td>\n",
       "      <td>married</td>\n",
       "      <td>overtime</td>\n",
       "      <td>yes</td>\n",
       "    </tr>\n",
       "    <tr>\n",
       "      <th>3</th>\n",
       "      <td>high</td>\n",
       "      <td>high</td>\n",
       "      <td>married</td>\n",
       "      <td>overtime</td>\n",
       "      <td>yes</td>\n",
       "    </tr>\n",
       "    <tr>\n",
       "      <th>4</th>\n",
       "      <td>high</td>\n",
       "      <td>low</td>\n",
       "      <td>single</td>\n",
       "      <td>overtime</td>\n",
       "      <td>yes</td>\n",
       "    </tr>\n",
       "    <tr>\n",
       "      <th>5</th>\n",
       "      <td>moderate</td>\n",
       "      <td>low</td>\n",
       "      <td>single</td>\n",
       "      <td>overtime</td>\n",
       "      <td>no</td>\n",
       "    </tr>\n",
       "    <tr>\n",
       "      <th>6</th>\n",
       "      <td>low</td>\n",
       "      <td>moderate</td>\n",
       "      <td>married</td>\n",
       "      <td>overtime</td>\n",
       "      <td>yes</td>\n",
       "    </tr>\n",
       "    <tr>\n",
       "      <th>7</th>\n",
       "      <td>low</td>\n",
       "      <td>low</td>\n",
       "      <td>single</td>\n",
       "      <td>overtime</td>\n",
       "      <td>no</td>\n",
       "    </tr>\n",
       "    <tr>\n",
       "      <th>8</th>\n",
       "      <td>high</td>\n",
       "      <td>moderate</td>\n",
       "      <td>single</td>\n",
       "      <td>overtime</td>\n",
       "      <td>no</td>\n",
       "    </tr>\n",
       "    <tr>\n",
       "      <th>9</th>\n",
       "      <td>low</td>\n",
       "      <td>moderate</td>\n",
       "      <td>single</td>\n",
       "      <td>overtime</td>\n",
       "      <td>no</td>\n",
       "    </tr>\n",
       "    <tr>\n",
       "      <th>10</th>\n",
       "      <td>moderate</td>\n",
       "      <td>moderate</td>\n",
       "      <td>married</td>\n",
       "      <td>overtime</td>\n",
       "      <td>yes</td>\n",
       "    </tr>\n",
       "    <tr>\n",
       "      <th>11</th>\n",
       "      <td>moderate</td>\n",
       "      <td>high</td>\n",
       "      <td>single</td>\n",
       "      <td>overtime</td>\n",
       "      <td>no</td>\n",
       "    </tr>\n",
       "    <tr>\n",
       "      <th>12</th>\n",
       "      <td>high</td>\n",
       "      <td>moderate</td>\n",
       "      <td>married</td>\n",
       "      <td>overtime</td>\n",
       "      <td>yes</td>\n",
       "    </tr>\n",
       "  </tbody>\n",
       "</table>\n",
       "</div>"
      ],
      "text/plain": [
       "     EXPENSE    SALARY RELATIONSHIP  WORKTIME WELLBEING\n",
       "0        low      high      married    normal       yes\n",
       "1        low      high      married  overtime       yes\n",
       "2   moderate      high      married  overtime       yes\n",
       "3       high      high      married  overtime       yes\n",
       "4       high       low       single  overtime       yes\n",
       "5   moderate       low       single  overtime        no\n",
       "6        low  moderate      married  overtime       yes\n",
       "7        low       low       single  overtime        no\n",
       "8       high  moderate       single  overtime        no\n",
       "9        low  moderate       single  overtime        no\n",
       "10  moderate  moderate      married  overtime       yes\n",
       "11  moderate      high       single  overtime        no\n",
       "12      high  moderate      married  overtime       yes"
      ]
     },
     "execution_count": 3,
     "metadata": {},
     "output_type": "execute_result"
    }
   ],
   "source": [
    "df = pd.read_excel(\"../sources/dataset-wellbeing.xlsx\")\n",
    "df"
   ]
  },
  {
   "cell_type": "markdown",
   "metadata": {},
   "source": [
    "## Get Input Attributes"
   ]
  },
  {
   "cell_type": "code",
   "execution_count": 11,
   "metadata": {},
   "outputs": [],
   "source": [
    "selectedInput = ['OUTLOOK', 'TEMPERATURE', 'HUMIDITY', 'WIND']\n",
    "inputAttributes = df[selectedInput]"
   ]
  },
  {
   "cell_type": "markdown",
   "metadata": {},
   "source": [
    "## Get Input Attributes' values"
   ]
  },
  {
   "cell_type": "code",
   "execution_count": 12,
   "metadata": {},
   "outputs": [],
   "source": [
    "outlookValues = inputAttributes.OUTLOOK.unique()\n",
    "temperatureValues = inputAttributes.TEMPERATURE.unique()\n",
    "humidityValues = inputAttributes.HUMIDITY.unique()\n",
    "windValues = inputAttributes.WIND.unique()"
   ]
  },
  {
   "cell_type": "markdown",
   "metadata": {},
   "source": [
    "## Get target attributes"
   ]
  },
  {
   "cell_type": "code",
   "execution_count": 13,
   "metadata": {},
   "outputs": [],
   "source": [
    "selectedTarget = ['PLAY']\n",
    "targetAttribute = df[selectedTarget]"
   ]
  },
  {
   "cell_type": "markdown",
   "metadata": {},
   "source": [
    "## Get target attributes' values"
   ]
  },
  {
   "cell_type": "code",
   "execution_count": 14,
   "metadata": {},
   "outputs": [],
   "source": [
    "targetValues = targetAttribute.PLAY.unique()"
   ]
  },
  {
   "cell_type": "markdown",
   "metadata": {},
   "source": [
    "## Count Instances and Target Distribution"
   ]
  },
  {
   "cell_type": "code",
   "execution_count": 15,
   "metadata": {},
   "outputs": [],
   "source": [
    "targetDataFrame = df['PLAY'].value_counts()\n",
    "totalInstance = df['PLAY'].value_counts().sum()"
   ]
  },
  {
   "cell_type": "markdown",
   "metadata": {},
   "source": [
    "# Preparing attributes impurity"
   ]
  },
  {
   "cell_type": "markdown",
   "metadata": {},
   "source": [
    "## Get OUTLOOK and its values"
   ]
  },
  {
   "cell_type": "code",
   "execution_count": 8,
   "metadata": {},
   "outputs": [],
   "source": [
    "getOvercast = df.loc[df[\"OUTLOOK\"] == \"overcast\"]\n",
    "getRain = df.loc[df[\"OUTLOOK\"] == \"rain\"]\n",
    "getSunny = df.loc[df[\"OUTLOOK\"] == \"sunny\"]"
   ]
  },
  {
   "cell_type": "code",
   "execution_count": 10,
   "metadata": {},
   "outputs": [],
   "source": [
    "targetOvercast = getOvercast.PLAY.value_counts()\n",
    "targetRain = getRain.PLAY.value_counts()\n",
    "targetSunny = getSunny.PLAY.value_counts()"
   ]
  },
  {
   "cell_type": "code",
   "execution_count": 17,
   "metadata": {},
   "outputs": [],
   "source": [
    "getOvercastSum = targetOvercast.sum()\n",
    "getRainSum = targetRain.sum()\n",
    "getSunnySum = targetSunny.sum()"
   ]
  },
  {
   "cell_type": "markdown",
   "metadata": {},
   "source": [
    "## Get TEMPERATURE and its values"
   ]
  },
  {
   "cell_type": "code",
   "execution_count": 18,
   "metadata": {},
   "outputs": [],
   "source": [
    "getHot = df.loc[df['TEMPERATURE']==\"hot\"]\n",
    "getMild = df.loc[df['TEMPERATURE']==\"mild\"]\n",
    "getCool = df.loc[df['TEMPERATURE']==\"cool\"]"
   ]
  },
  {
   "cell_type": "code",
   "execution_count": 19,
   "metadata": {},
   "outputs": [],
   "source": [
    "targetHot = getHot.PLAY.value_counts()\n",
    "targetMild = getMild.PLAY.value_counts()\n",
    "targetCool = getCool.PLAY.value_counts()"
   ]
  },
  {
   "cell_type": "code",
   "execution_count": 20,
   "metadata": {},
   "outputs": [],
   "source": [
    "getHotSum = targetHot.sum()\n",
    "getMildSum = targetMild.sum()\n",
    "getCoolSum = targetCool.sum()"
   ]
  },
  {
   "cell_type": "markdown",
   "metadata": {},
   "source": [
    "## Get HUMIDITY and its values"
   ]
  },
  {
   "cell_type": "code",
   "execution_count": 21,
   "metadata": {},
   "outputs": [],
   "source": [
    "getNormal = df.loc[df['HUMIDITY']==\"normal\"]\n",
    "getHigh = df.loc[df['HUMIDITY']==\"high\"]"
   ]
  },
  {
   "cell_type": "code",
   "execution_count": 22,
   "metadata": {},
   "outputs": [],
   "source": [
    "targetNormal = getNormal.PLAY.value_counts()\n",
    "targetHigh = getHigh.PLAY.value_counts()"
   ]
  },
  {
   "cell_type": "code",
   "execution_count": 23,
   "metadata": {},
   "outputs": [],
   "source": [
    "getNormalSum = targetNormal.sum()\n",
    "getHighSum = targetHigh.sum()"
   ]
  },
  {
   "cell_type": "markdown",
   "metadata": {},
   "source": [
    "## Get WINDY and its values"
   ]
  },
  {
   "cell_type": "code",
   "execution_count": 24,
   "metadata": {},
   "outputs": [],
   "source": [
    "getWeak = df.loc[df['WIND']==\"weak\"]\n",
    "getStrong = df.loc[df['WIND']==\"strong\"]"
   ]
  },
  {
   "cell_type": "code",
   "execution_count": 25,
   "metadata": {},
   "outputs": [],
   "source": [
    "targetWeak = getWeak.PLAY.value_counts()\n",
    "targetStrong = getStrong.PLAY.value_counts()"
   ]
  },
  {
   "cell_type": "code",
   "execution_count": 26,
   "metadata": {},
   "outputs": [],
   "source": [
    "getWeakSum = targetWeak.sum()\n",
    "getStrongSum = targetStrong.sum()"
   ]
  },
  {
   "cell_type": "markdown",
   "metadata": {},
   "source": [
    "# Let's Loop it"
   ]
  },
  {
   "cell_type": "code",
   "execution_count": 27,
   "metadata": {},
   "outputs": [
    {
     "data": {
      "text/plain": [
       "yes    9\n",
       "no     5\n",
       "Name: PLAY, dtype: int64"
      ]
     },
     "execution_count": 27,
     "metadata": {},
     "output_type": "execute_result"
    }
   ],
   "source": [
    "targetDataFrame"
   ]
  },
  {
   "cell_type": "markdown",
   "metadata": {},
   "source": [
    "## Gini Function"
   ]
  },
  {
   "cell_type": "code",
   "execution_count": 28,
   "metadata": {},
   "outputs": [],
   "source": [
    "def Gini(p, q):\n",
    "    result = 1 - ((p**2)+(q**2))\n",
    "    return result"
   ]
  },
  {
   "cell_type": "markdown",
   "metadata": {},
   "source": [
    "## Calculate DF's base entropy and gini"
   ]
  },
  {
   "cell_type": "code",
   "execution_count": 29,
   "metadata": {},
   "outputs": [
    {
     "name": "stdout",
     "output_type": "stream",
     "text": [
      "Base Entropy: 0.940285958670631\n",
      "Base Gini: 0.4591836734693877\n"
     ]
    }
   ],
   "source": [
    "p = targetDataFrame[0]/totalInstance\n",
    "q = targetDataFrame[1]/totalInstance\n",
    "\n",
    "baseEntropy = entropy([p,q], base=2)\n",
    "baseGini = Gini(p, q)\n",
    "\n",
    "print(\"Base Entropy:\", baseEntropy)\n",
    "print(\"Base Gini:\", baseGini)"
   ]
  },
  {
   "cell_type": "markdown",
   "metadata": {},
   "source": [
    "## Loop each attribute and loop each value"
   ]
  },
  {
   "cell_type": "code",
   "execution_count": 30,
   "metadata": {},
   "outputs": [
    {
     "name": "stdout",
     "output_type": "stream",
     "text": [
      "Attribute:  OUTLOOK\n",
      "Value:  sunny  , Total:  5  of  14  Instances\n",
      "      0\n",
      "PLAY   \n",
      "no    3\n",
      "yes   2\n",
      "Value:  overcast  , Total:  4  of  14  Instances\n",
      "      0\n",
      "PLAY   \n",
      "yes   4\n",
      "Value:  rain  , Total:  5  of  14  Instances\n",
      "      0\n",
      "PLAY   \n",
      "yes   3\n",
      "no    2\n",
      "Attribute:  TEMPERATURE\n",
      "Value:  hot  , Total:  4  of  14  Instances\n",
      "      0\n",
      "PLAY   \n",
      "yes   2\n",
      "no    2\n",
      "Value:  mild  , Total:  6  of  14  Instances\n",
      "      0\n",
      "PLAY   \n",
      "yes   4\n",
      "no    2\n",
      "Value:  cool  , Total:  4  of  14  Instances\n",
      "      0\n",
      "PLAY   \n",
      "yes   3\n",
      "no    1\n",
      "Attribute:  HUMIDITY\n",
      "Value:  high  , Total:  7  of  14  Instances\n",
      "      0\n",
      "PLAY   \n",
      "no    4\n",
      "yes   3\n",
      "Value:  normal  , Total:  7  of  14  Instances\n",
      "      0\n",
      "PLAY   \n",
      "yes   6\n",
      "no    1\n",
      "Attribute:  WIND\n",
      "Value:  weak  , Total:  8  of  14  Instances\n",
      "      0\n",
      "PLAY   \n",
      "yes   6\n",
      "no    2\n",
      "Value:  strong  , Total:  6  of  14  Instances\n",
      "      0\n",
      "PLAY   \n",
      "yes   3\n",
      "no    3\n"
     ]
    }
   ],
   "source": [
    "for attribute in selectedInput:\n",
    "    print(\"Attribute: \", attribute)\n",
    "    attributeValues = df[attribute].unique()\n",
    "    #\n",
    "    sumEntropy = 0\n",
    "    sumGini = 0\n",
    "    for value in attributeValues:\n",
    "        subDataFrame = df.loc[df[attribute]==value]\n",
    "        sumDataFrame = subDataFrame[selectedTarget].value_counts().sum()\n",
    "        #\n",
    "        print(\"Value: \", value, \" , Total: \", sumDataFrame, \" of \", totalInstance, \" Instances\")\n",
    "        print(subDataFrame[selectedTarget].value_counts().to_frame())\n",
    "        #\n",
    "        totalIndex = subDataFrame[selectedTarget].value_counts().count()\n",
    "        p = subDataFrame[selectedTarget].value_counts()[0]/sumDataFrame\n",
    "        if(totalIndex == 1):\n",
    "            q = 0\n",
    "        else:\n",
    "            q = subDataFrame[selectedTarget].value_counts()[1]/sumDataFrame\n",
    "        #\n",
    "        valueEntropy = (sumDataFrame/totalInstance)*(entropy([p,q], base=2))\n",
    "        sumEntropy += valueEntropy"
   ]
  },
  {
   "cell_type": "markdown",
   "metadata": {},
   "source": [
    "# Let's recursive it!"
   ]
  },
  {
   "cell_type": "markdown",
   "metadata": {},
   "source": [
    "## Function to calculate Parent's entropy"
   ]
  },
  {
   "cell_type": "code",
   "execution_count": 31,
   "metadata": {},
   "outputs": [],
   "source": [
    "def getParentEntropy(df, target):\n",
    "    targetDataFrame = df[target].value_counts()\n",
    "    totalInstance = df[target].value_counts().sum()\n",
    "    #\n",
    "    p = targetDataFrame[0]/totalInstance\n",
    "    q = targetDataFrame[1]/totalInstance\n",
    "    #\n",
    "    baseEntropy = entropy([p,q], base=2)\n",
    "    baseGini = Gini(p, q)\n",
    "    #\n",
    "    result = baseEntropy\n",
    "    return result"
   ]
  },
  {
   "cell_type": "markdown",
   "metadata": {},
   "source": [
    "## Function to Calculate Children's entropy"
   ]
  },
  {
   "cell_type": "code",
   "execution_count": 15,
   "metadata": {},
   "outputs": [],
   "source": [
    "def getChildEntropy(df, target, attribute):\n",
    "    totalInstance = df[target].value_counts().sum()\n",
    "    attributeValues = df[attribute].unique()\n",
    "    #\n",
    "    sumEntropy = 0\n",
    "    sumGini = 0\n",
    "    for value in attributeValues:\n",
    "        subDataFrame = df.loc[df[attribute]==value]\n",
    "        sumDataFrame = subDataFrame[selectedTarget].value_counts().sum()\n",
    "        #\n",
    "        valueEntropy = 0\n",
    "        valueGini = 0\n",
    "        #\n",
    "        totalIndex = subDataFrame[selectedTarget].value_counts().count()\n",
    "        if(totalIndex <1):\n",
    "            p=0\n",
    "            q=0\n",
    "        else:\n",
    "            p = subDataFrame[selectedTarget].value_counts()[0]/sumDataFrame\n",
    "            if(totalIndex == 1):\n",
    "                q = 0\n",
    "            else:\n",
    "                q = subDataFrame[selectedTarget].value_counts()[1]/sumDataFrame\n",
    "            #\n",
    "            valueEntropy = (sumDataFrame/totalInstance)*(entropy([p,q], base=2))\n",
    "            valueGini = (sumDataFrame/totalInstance)*(Gini(p,q))\n",
    "        #\n",
    "        sumEntropy += valueEntropy\n",
    "        sumGini += valueGini\n",
    "    result = sumEntropy\n",
    "    return abs(result)"
   ]
  },
  {
   "cell_type": "markdown",
   "metadata": {},
   "source": [
    "## Function to find best attribute"
   ]
  },
  {
   "cell_type": "code",
   "execution_count": 33,
   "metadata": {},
   "outputs": [],
   "source": [
    "def findBestAttribute(df, target):\n",
    "    gainList = []\n",
    "    #\n",
    "    parentEntropy = getParentEntropy(df, target)\n",
    "    for attribute in df.keys()[:-1]:\n",
    "        childEntropy = getChildEntropy(df, target, attribute)\n",
    "        gain = parentEntropy - childEntropy\n",
    "        gainList.append(gain)\n",
    "        \n",
    "    result = df.keys()[numpy.argmax(gainList)]\n",
    "    return result"
   ]
  },
  {
   "cell_type": "markdown",
   "metadata": {},
   "source": [
    "## Function to Split Dataset"
   ]
  },
  {
   "cell_type": "code",
   "execution_count": 34,
   "metadata": {},
   "outputs": [],
   "source": [
    "def getSubBranch(df, attribute, value):\n",
    "    return df[df[attribute]==value].reset_index(drop=True)"
   ]
  },
  {
   "cell_type": "markdown",
   "metadata": {},
   "source": [
    "## Function Recursive ID3"
   ]
  },
  {
   "cell_type": "code",
   "execution_count": 35,
   "metadata": {},
   "outputs": [],
   "source": [
    "def ID3(df, tree=None):\n",
    "    selectedTarget = ['PLAY']\n",
    "    bestAttribute = findBestAttribute(df, selectedTarget)\n",
    "    bestAttValues = df[bestAttribute].unique()\n",
    "    if tree is None:\n",
    "        tree = {}\n",
    "        tree[bestAttribute] = {}\n",
    "    for value in bestAttValues:\n",
    "        nextBranch = getSubBranch(df, bestAttribute, value)\n",
    "        nextBranchValue, nextBranchCounts = numpy.unique(nextBranch[selectedTarget], return_counts=True)\n",
    "        if len(nextBranchCounts)==1:\n",
    "            tree[bestAttribute][value] = nextBranchValue[0]\n",
    "        else:\n",
    "            tree[bestAttribute][value] = ID3(nextBranch)\n",
    "            \n",
    "    result = tree\n",
    "    return result"
   ]
  },
  {
   "cell_type": "markdown",
   "metadata": {},
   "source": [
    "# Let's Run Our ID3"
   ]
  },
  {
   "cell_type": "code",
   "execution_count": 37,
   "metadata": {},
   "outputs": [
    {
     "name": "stdout",
     "output_type": "stream",
     "text": [
      "{'OUTLOOK': {'overcast': 'yes',\n",
      "             'rain': {'WIND': {'strong': 'no', 'weak': 'yes'}},\n",
      "             'sunny': {'HUMIDITY': {'high': 'no', 'normal': 'yes'}}}}\n"
     ]
    }
   ],
   "source": [
    "myTree = ID3(df)\n",
    "pprint.pprint(myTree)"
   ]
  }
 ],
 "metadata": {
  "kernelspec": {
   "display_name": "Python 3",
   "language": "python",
   "name": "python3"
  },
  "language_info": {
   "codemirror_mode": {
    "name": "ipython",
    "version": 3
   },
   "file_extension": ".py",
   "mimetype": "text/x-python",
   "name": "python",
   "nbconvert_exporter": "python",
   "pygments_lexer": "ipython3",
   "version": "3.7.6"
  }
 },
 "nbformat": 4,
 "nbformat_minor": 4
}
