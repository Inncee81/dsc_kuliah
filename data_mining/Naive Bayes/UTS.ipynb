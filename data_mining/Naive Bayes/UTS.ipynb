{
 "cells": [
  {
   "cell_type": "markdown",
   "metadata": {},
   "source": [
    "# Import Library"
   ]
  },
  {
   "cell_type": "code",
   "execution_count": 1,
   "metadata": {},
   "outputs": [],
   "source": [
    "import numpy\n",
    "from scipy.stats import entropy\n",
    "from pandas import DataFrame, read_csv\n",
    "import matplotlib.pyplot as plotLib\n",
    "import pandas as pd\n",
    "import pprint"
   ]
  },
  {
   "cell_type": "markdown",
   "metadata": {},
   "source": [
    "# Preparing Dataset"
   ]
  },
  {
   "cell_type": "markdown",
   "metadata": {},
   "source": [
    "## Load Dataset from xls"
   ]
  },
  {
   "cell_type": "code",
   "execution_count": 2,
   "metadata": {},
   "outputs": [
    {
     "data": {
      "text/html": [
       "<div>\n",
       "<style scoped>\n",
       "    .dataframe tbody tr th:only-of-type {\n",
       "        vertical-align: middle;\n",
       "    }\n",
       "\n",
       "    .dataframe tbody tr th {\n",
       "        vertical-align: top;\n",
       "    }\n",
       "\n",
       "    .dataframe thead th {\n",
       "        text-align: right;\n",
       "    }\n",
       "</style>\n",
       "<table border=\"1\" class=\"dataframe\">\n",
       "  <thead>\n",
       "    <tr style=\"text-align: right;\">\n",
       "      <th></th>\n",
       "      <th>EXPENSE</th>\n",
       "      <th>SALARY</th>\n",
       "      <th>RELATIONSHIP</th>\n",
       "      <th>WORKTIME</th>\n",
       "      <th>WELLBEING</th>\n",
       "    </tr>\n",
       "  </thead>\n",
       "  <tbody>\n",
       "    <tr>\n",
       "      <th>0</th>\n",
       "      <td>low</td>\n",
       "      <td>high</td>\n",
       "      <td>married</td>\n",
       "      <td>normal</td>\n",
       "      <td>yes</td>\n",
       "    </tr>\n",
       "    <tr>\n",
       "      <th>1</th>\n",
       "      <td>low</td>\n",
       "      <td>high</td>\n",
       "      <td>married</td>\n",
       "      <td>overtime</td>\n",
       "      <td>yes</td>\n",
       "    </tr>\n",
       "    <tr>\n",
       "      <th>2</th>\n",
       "      <td>moderate</td>\n",
       "      <td>high</td>\n",
       "      <td>married</td>\n",
       "      <td>overtime</td>\n",
       "      <td>yes</td>\n",
       "    </tr>\n",
       "    <tr>\n",
       "      <th>3</th>\n",
       "      <td>high</td>\n",
       "      <td>high</td>\n",
       "      <td>married</td>\n",
       "      <td>overtime</td>\n",
       "      <td>yes</td>\n",
       "    </tr>\n",
       "    <tr>\n",
       "      <th>4</th>\n",
       "      <td>high</td>\n",
       "      <td>low</td>\n",
       "      <td>single</td>\n",
       "      <td>overtime</td>\n",
       "      <td>yes</td>\n",
       "    </tr>\n",
       "    <tr>\n",
       "      <th>5</th>\n",
       "      <td>moderate</td>\n",
       "      <td>low</td>\n",
       "      <td>single</td>\n",
       "      <td>overtime</td>\n",
       "      <td>no</td>\n",
       "    </tr>\n",
       "    <tr>\n",
       "      <th>6</th>\n",
       "      <td>low</td>\n",
       "      <td>moderate</td>\n",
       "      <td>married</td>\n",
       "      <td>overtime</td>\n",
       "      <td>yes</td>\n",
       "    </tr>\n",
       "    <tr>\n",
       "      <th>7</th>\n",
       "      <td>low</td>\n",
       "      <td>low</td>\n",
       "      <td>single</td>\n",
       "      <td>overtime</td>\n",
       "      <td>no</td>\n",
       "    </tr>\n",
       "    <tr>\n",
       "      <th>8</th>\n",
       "      <td>high</td>\n",
       "      <td>moderate</td>\n",
       "      <td>single</td>\n",
       "      <td>overtime</td>\n",
       "      <td>no</td>\n",
       "    </tr>\n",
       "    <tr>\n",
       "      <th>9</th>\n",
       "      <td>low</td>\n",
       "      <td>moderate</td>\n",
       "      <td>single</td>\n",
       "      <td>overtime</td>\n",
       "      <td>no</td>\n",
       "    </tr>\n",
       "    <tr>\n",
       "      <th>10</th>\n",
       "      <td>moderate</td>\n",
       "      <td>moderate</td>\n",
       "      <td>married</td>\n",
       "      <td>overtime</td>\n",
       "      <td>yes</td>\n",
       "    </tr>\n",
       "    <tr>\n",
       "      <th>11</th>\n",
       "      <td>moderate</td>\n",
       "      <td>high</td>\n",
       "      <td>single</td>\n",
       "      <td>overtime</td>\n",
       "      <td>no</td>\n",
       "    </tr>\n",
       "    <tr>\n",
       "      <th>12</th>\n",
       "      <td>high</td>\n",
       "      <td>moderate</td>\n",
       "      <td>married</td>\n",
       "      <td>overtime</td>\n",
       "      <td>yes</td>\n",
       "    </tr>\n",
       "  </tbody>\n",
       "</table>\n",
       "</div>"
      ],
      "text/plain": [
       "     EXPENSE    SALARY RELATIONSHIP  WORKTIME WELLBEING\n",
       "0        low      high      married    normal       yes\n",
       "1        low      high      married  overtime       yes\n",
       "2   moderate      high      married  overtime       yes\n",
       "3       high      high      married  overtime       yes\n",
       "4       high       low       single  overtime       yes\n",
       "5   moderate       low       single  overtime        no\n",
       "6        low  moderate      married  overtime       yes\n",
       "7        low       low       single  overtime        no\n",
       "8       high  moderate       single  overtime        no\n",
       "9        low  moderate       single  overtime        no\n",
       "10  moderate  moderate      married  overtime       yes\n",
       "11  moderate      high       single  overtime        no\n",
       "12      high  moderate      married  overtime       yes"
      ]
     },
     "execution_count": 2,
     "metadata": {},
     "output_type": "execute_result"
    }
   ],
   "source": [
    "df = pd.read_excel(\"../sources/dataset-wellbeing.xlsx\")\n",
    "df"
   ]
  },
  {
   "cell_type": "markdown",
   "metadata": {},
   "source": [
    "## Get Input Attributes"
   ]
  },
  {
   "cell_type": "code",
   "execution_count": 3,
   "metadata": {},
   "outputs": [],
   "source": [
    "selectedInput = ['EXPENSE', 'SALARY', 'RELATIONSHIP', 'WORKTIME']\n",
    "inputAttributes = df[selectedInput]"
   ]
  },
  {
   "cell_type": "markdown",
   "metadata": {},
   "source": [
    "## Get Input Attributes' values"
   ]
  },
  {
   "cell_type": "code",
   "execution_count": 4,
   "metadata": {},
   "outputs": [
    {
     "name": "stdout",
     "output_type": "stream",
     "text": [
      "['low' 'moderate' 'high']\n",
      "['high' 'low' 'moderate']\n",
      "['married' 'single']\n",
      "['normal' 'overtime']\n"
     ]
    }
   ],
   "source": [
    "expenseValues = inputAttributes.EXPENSE.unique()\n",
    "salaryValues = inputAttributes.SALARY.unique()\n",
    "relationshipValues = inputAttributes.RELATIONSHIP.unique()\n",
    "worktimeValues = inputAttributes.WORKTIME.unique()\n",
    "\n",
    "print(expenseValues)\n",
    "print(salaryValues)\n",
    "print(relationshipValues)\n",
    "print(worktimeValues)"
   ]
  },
  {
   "cell_type": "markdown",
   "metadata": {},
   "source": [
    "## Get target attributes"
   ]
  },
  {
   "cell_type": "code",
   "execution_count": 5,
   "metadata": {},
   "outputs": [],
   "source": [
    "selectedTarget = ['WELLBEING']\n",
    "targetAttribute = df[selectedTarget]"
   ]
  },
  {
   "cell_type": "markdown",
   "metadata": {},
   "source": [
    "## Get target attributes' values"
   ]
  },
  {
   "cell_type": "code",
   "execution_count": 6,
   "metadata": {},
   "outputs": [
    {
     "name": "stdout",
     "output_type": "stream",
     "text": [
      "['yes' 'no']\n"
     ]
    }
   ],
   "source": [
    "targetValues = targetAttribute.WELLBEING.unique()\n",
    "print(targetValues)"
   ]
  },
  {
   "cell_type": "markdown",
   "metadata": {},
   "source": [
    "## Count Instances and Target Distribution"
   ]
  },
  {
   "cell_type": "code",
   "execution_count": 7,
   "metadata": {},
   "outputs": [
    {
     "name": "stdout",
     "output_type": "stream",
     "text": [
      "yes    8\n",
      "no     5\n",
      "Name: WELLBEING, dtype: int64\n"
     ]
    }
   ],
   "source": [
    "targetDataFrame = df['WELLBEING'].value_counts()\n",
    "totalInstance = df['WELLBEING'].value_counts().sum()\n",
    "print(targetDataFrame)"
   ]
  },
  {
   "cell_type": "markdown",
   "metadata": {},
   "source": [
    "## Loop each attribute and loop each value"
   ]
  },
  {
   "cell_type": "code",
   "execution_count": 8,
   "metadata": {},
   "outputs": [
    {
     "name": "stdout",
     "output_type": "stream",
     "text": [
      "Attribute:  EXPENSE\n",
      "Value:  low  , Total:  5  of  13  Instances\n",
      "           0\n",
      "WELLBEING   \n",
      "yes        3\n",
      "no         2\n",
      "Value:  moderate  , Total:  4  of  13  Instances\n",
      "           0\n",
      "WELLBEING   \n",
      "yes        2\n",
      "no         2\n",
      "Value:  high  , Total:  4  of  13  Instances\n",
      "           0\n",
      "WELLBEING   \n",
      "yes        3\n",
      "no         1\n",
      "Attribute:  SALARY\n",
      "Value:  high  , Total:  5  of  13  Instances\n",
      "           0\n",
      "WELLBEING   \n",
      "yes        4\n",
      "no         1\n",
      "Value:  low  , Total:  3  of  13  Instances\n",
      "           0\n",
      "WELLBEING   \n",
      "no         2\n",
      "yes        1\n",
      "Value:  moderate  , Total:  5  of  13  Instances\n",
      "           0\n",
      "WELLBEING   \n",
      "yes        3\n",
      "no         2\n",
      "Attribute:  RELATIONSHIP\n",
      "Value:  married  , Total:  7  of  13  Instances\n",
      "           0\n",
      "WELLBEING   \n",
      "yes        7\n",
      "Value:  single  , Total:  6  of  13  Instances\n",
      "           0\n",
      "WELLBEING   \n",
      "no         5\n",
      "yes        1\n",
      "Attribute:  WORKTIME\n",
      "Value:  normal  , Total:  1  of  13  Instances\n",
      "           0\n",
      "WELLBEING   \n",
      "yes        1\n",
      "Value:  overtime  , Total:  12  of  13  Instances\n",
      "           0\n",
      "WELLBEING   \n",
      "yes        7\n",
      "no         5\n"
     ]
    }
   ],
   "source": [
    "for attribute in selectedInput:\n",
    "    print(\"Attribute: \", attribute)\n",
    "    attributeValues = df[attribute].unique()\n",
    "    #\n",
    "    sumEntropy = 0\n",
    "    sumGini = 0\n",
    "    for value in attributeValues:\n",
    "        subDataFrame = df.loc[df[attribute]==value]\n",
    "        sumDataFrame = subDataFrame[selectedTarget].value_counts().sum()\n",
    "        #\n",
    "        print(\"Value: \", value, \" , Total: \", sumDataFrame, \" of \", totalInstance, \" Instances\")\n",
    "        print(subDataFrame[selectedTarget].value_counts().to_frame())\n",
    "        #\n",
    "        totalIndex = subDataFrame[selectedTarget].value_counts().count()\n",
    "        p = subDataFrame[selectedTarget].value_counts()[0]/sumDataFrame\n",
    "        if(totalIndex == 1):\n",
    "            q = 0\n",
    "        else:\n",
    "            q = subDataFrame[selectedTarget].value_counts()[1]/sumDataFrame\n",
    "        #\n",
    "        valueEntropy = (sumDataFrame/totalInstance)*(entropy([p,q], base=2))\n",
    "        sumEntropy += valueEntropy"
   ]
  }
 ],
 "metadata": {
  "kernelspec": {
   "display_name": "Python 3",
   "language": "python",
   "name": "python3"
  },
  "language_info": {
   "codemirror_mode": {
    "name": "ipython",
    "version": 3
   },
   "file_extension": ".py",
   "mimetype": "text/x-python",
   "name": "python",
   "nbconvert_exporter": "python",
   "pygments_lexer": "ipython3",
   "version": "3.7.6"
  }
 },
 "nbformat": 4,
 "nbformat_minor": 4
}
