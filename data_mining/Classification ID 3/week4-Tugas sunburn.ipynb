{
 "cells": [
  {
   "cell_type": "markdown",
   "metadata": {},
   "source": [
    "# Import Library"
   ]
  },
  {
   "cell_type": "code",
   "execution_count": 2,
   "metadata": {},
   "outputs": [],
   "source": [
    "import numpy\n",
    "from scipy.stats import entropy\n",
    "from pandas import DataFrame, read_csv\n",
    "import matplotlib.pyplot as plotLib\n",
    "import pandas as pd\n",
    "import pprint"
   ]
  },
  {
   "cell_type": "markdown",
   "metadata": {},
   "source": [
    "# Preparing Dataset"
   ]
  },
  {
   "cell_type": "markdown",
   "metadata": {},
   "source": [
    "## Load Dataset from xls"
   ]
  },
  {
   "cell_type": "code",
   "execution_count": 3,
   "metadata": {},
   "outputs": [
    {
     "data": {
      "text/html": [
       "<div>\n",
       "<style scoped>\n",
       "    .dataframe tbody tr th:only-of-type {\n",
       "        vertical-align: middle;\n",
       "    }\n",
       "\n",
       "    .dataframe tbody tr th {\n",
       "        vertical-align: top;\n",
       "    }\n",
       "\n",
       "    .dataframe thead th {\n",
       "        text-align: right;\n",
       "    }\n",
       "</style>\n",
       "<table border=\"1\" class=\"dataframe\">\n",
       "  <thead>\n",
       "    <tr style=\"text-align: right;\">\n",
       "      <th></th>\n",
       "      <th>Hair</th>\n",
       "      <th>Height</th>\n",
       "      <th>Weight</th>\n",
       "      <th>Lotion</th>\n",
       "      <th>Result</th>\n",
       "    </tr>\n",
       "  </thead>\n",
       "  <tbody>\n",
       "    <tr>\n",
       "      <th>0</th>\n",
       "      <td>blonde</td>\n",
       "      <td>average</td>\n",
       "      <td>light</td>\n",
       "      <td>no</td>\n",
       "      <td>sunburned</td>\n",
       "    </tr>\n",
       "    <tr>\n",
       "      <th>1</th>\n",
       "      <td>blonde</td>\n",
       "      <td>tall</td>\n",
       "      <td>average</td>\n",
       "      <td>yes</td>\n",
       "      <td>none</td>\n",
       "    </tr>\n",
       "    <tr>\n",
       "      <th>2</th>\n",
       "      <td>brown</td>\n",
       "      <td>short</td>\n",
       "      <td>average</td>\n",
       "      <td>yes</td>\n",
       "      <td>none</td>\n",
       "    </tr>\n",
       "    <tr>\n",
       "      <th>3</th>\n",
       "      <td>blonde</td>\n",
       "      <td>short</td>\n",
       "      <td>average</td>\n",
       "      <td>no</td>\n",
       "      <td>sunburned</td>\n",
       "    </tr>\n",
       "    <tr>\n",
       "      <th>4</th>\n",
       "      <td>red</td>\n",
       "      <td>average</td>\n",
       "      <td>heavy</td>\n",
       "      <td>no</td>\n",
       "      <td>sunburned</td>\n",
       "    </tr>\n",
       "    <tr>\n",
       "      <th>5</th>\n",
       "      <td>brown</td>\n",
       "      <td>tall</td>\n",
       "      <td>heavy</td>\n",
       "      <td>no</td>\n",
       "      <td>none</td>\n",
       "    </tr>\n",
       "    <tr>\n",
       "      <th>6</th>\n",
       "      <td>brown</td>\n",
       "      <td>average</td>\n",
       "      <td>heavy</td>\n",
       "      <td>no</td>\n",
       "      <td>none</td>\n",
       "    </tr>\n",
       "    <tr>\n",
       "      <th>7</th>\n",
       "      <td>blonde</td>\n",
       "      <td>short</td>\n",
       "      <td>light</td>\n",
       "      <td>yes</td>\n",
       "      <td>none</td>\n",
       "    </tr>\n",
       "  </tbody>\n",
       "</table>\n",
       "</div>"
      ],
      "text/plain": [
       "     Hair   Height   Weight Lotion     Result\n",
       "0  blonde  average    light     no  sunburned\n",
       "1  blonde     tall  average    yes       none\n",
       "2   brown    short  average    yes       none\n",
       "3  blonde    short  average     no  sunburned\n",
       "4     red  average    heavy     no  sunburned\n",
       "5   brown     tall    heavy     no       none\n",
       "6   brown  average    heavy     no       none\n",
       "7  blonde    short    light    yes       none"
      ]
     },
     "execution_count": 3,
     "metadata": {},
     "output_type": "execute_result"
    }
   ],
   "source": [
    "df = pd.read_excel(\"sources/sunburn.xlsx\")\n",
    "del df['Name']\n",
    "df"
   ]
  },
  {
   "cell_type": "markdown",
   "metadata": {},
   "source": [
    "## Get Input Attributes"
   ]
  },
  {
   "cell_type": "code",
   "execution_count": 4,
   "metadata": {},
   "outputs": [],
   "source": [
    "selectedInput = ['Hair', 'Height', 'Weight', 'Lotion']\n",
    "inputAttributes = df[selectedInput]"
   ]
  },
  {
   "cell_type": "markdown",
   "metadata": {},
   "source": [
    "## Get Input Attributes' values"
   ]
  },
  {
   "cell_type": "code",
   "execution_count": 5,
   "metadata": {},
   "outputs": [
    {
     "name": "stdout",
     "output_type": "stream",
     "text": [
      "['blonde' 'brown' 'red']\n",
      "['average' 'tall' 'short']\n",
      "['light' 'average' 'heavy']\n",
      "['no' 'yes']\n"
     ]
    }
   ],
   "source": [
    "hairValues = inputAttributes.Hair.unique()\n",
    "heightValues = inputAttributes.Height.unique()\n",
    "weightValues = inputAttributes.Weight.unique()\n",
    "lotionValues = inputAttributes.Lotion.unique()\n",
    "\n",
    "print(hairValues)\n",
    "print(heightValues)\n",
    "print(weightValues)\n",
    "print(lotionValues)"
   ]
  },
  {
   "cell_type": "markdown",
   "metadata": {},
   "source": [
    "## Get target attributes"
   ]
  },
  {
   "cell_type": "code",
   "execution_count": 6,
   "metadata": {},
   "outputs": [],
   "source": [
    "selectedTarget = ['Result']\n",
    "targetAttribute = df[selectedTarget]"
   ]
  },
  {
   "cell_type": "markdown",
   "metadata": {},
   "source": [
    "## Get target attributes' values"
   ]
  },
  {
   "cell_type": "code",
   "execution_count": 7,
   "metadata": {},
   "outputs": [],
   "source": [
    "targetValues = targetAttribute.Result.unique()"
   ]
  },
  {
   "cell_type": "markdown",
   "metadata": {},
   "source": [
    "## Count Instances and Target Distribution"
   ]
  },
  {
   "cell_type": "code",
   "execution_count": 8,
   "metadata": {},
   "outputs": [],
   "source": [
    "targetDataFrame = df['Result'].value_counts()\n",
    "totalInstance = df['Result'].value_counts().sum()"
   ]
  },
  {
   "cell_type": "markdown",
   "metadata": {},
   "source": [
    "# Preparing attributes impurity"
   ]
  },
  {
   "cell_type": "markdown",
   "metadata": {},
   "source": [
    "## Get Hair and its values"
   ]
  },
  {
   "cell_type": "code",
   "execution_count": 9,
   "metadata": {},
   "outputs": [],
   "source": [
    "getBlonde = df.loc[df[\"Hair\"] == \"blonde\"]\n",
    "getBrown = df.loc[df[\"Hair\"] == \"brown\"]\n",
    "getRed = df.loc[df[\"Hair\"] == \"red\"]"
   ]
  },
  {
   "cell_type": "code",
   "execution_count": 10,
   "metadata": {},
   "outputs": [],
   "source": [
    "targetBlonde = getBlonde.Result.value_counts()\n",
    "targetBrown = getBrown.Result.value_counts()\n",
    "targetRed = getRed.Result.value_counts()"
   ]
  },
  {
   "cell_type": "code",
   "execution_count": 11,
   "metadata": {},
   "outputs": [],
   "source": [
    "getBlondeSum = targetBlonde.sum()\n",
    "getBrownSum = targetBrown.sum()\n",
    "getRedSum = targetRed.sum()"
   ]
  },
  {
   "cell_type": "markdown",
   "metadata": {},
   "source": [
    "## Get Height and its values"
   ]
  },
  {
   "cell_type": "code",
   "execution_count": 12,
   "metadata": {},
   "outputs": [],
   "source": [
    "getAverage = df.loc[df['Height']==\"average\"]\n",
    "getTall = df.loc[df['Height']==\"tall\"]\n",
    "getShort = df.loc[df['Height']==\"short\"]"
   ]
  },
  {
   "cell_type": "code",
   "execution_count": 13,
   "metadata": {},
   "outputs": [],
   "source": [
    "targetAverage = getAverage.Result.value_counts()\n",
    "targetTall = getTall.Result.value_counts()\n",
    "targetShort = getShort.Result.value_counts()"
   ]
  },
  {
   "cell_type": "code",
   "execution_count": 14,
   "metadata": {},
   "outputs": [],
   "source": [
    "getAverageSum = targetAverage.sum()\n",
    "getTallSum = targetTall.sum()\n",
    "getShortSum = targetShort.sum()"
   ]
  },
  {
   "cell_type": "markdown",
   "metadata": {},
   "source": [
    "## Get Weight and its values"
   ]
  },
  {
   "cell_type": "code",
   "execution_count": 15,
   "metadata": {},
   "outputs": [],
   "source": [
    "getLight = df.loc[df['Weight']==\"light\"]\n",
    "getAverage = df.loc[df['Weight']==\"average\"]\n",
    "getHeavy = df.loc[df['Weight']==\"heavy\"]"
   ]
  },
  {
   "cell_type": "code",
   "execution_count": 16,
   "metadata": {},
   "outputs": [],
   "source": [
    "targetLight = getLight.Result.value_counts()\n",
    "targetAverage = getAverage.Result.value_counts()\n",
    "targetHeavy = getHeavy.Result.value_counts()"
   ]
  },
  {
   "cell_type": "code",
   "execution_count": 17,
   "metadata": {},
   "outputs": [],
   "source": [
    "getLightSum = targetLight.sum()\n",
    "getAverageSum = targetAverage.sum()\n",
    "getHeavySum = targetHeavy.sum()"
   ]
  },
  {
   "cell_type": "markdown",
   "metadata": {},
   "source": [
    "## Get Lotion and its values"
   ]
  },
  {
   "cell_type": "code",
   "execution_count": 18,
   "metadata": {},
   "outputs": [],
   "source": [
    "getNo = df.loc[df['Lotion']==\"no\"]\n",
    "getYes = df.loc[df['Lotion']==\"yes\"]"
   ]
  },
  {
   "cell_type": "code",
   "execution_count": 19,
   "metadata": {},
   "outputs": [],
   "source": [
    "targetNo = getNo.Result.value_counts()\n",
    "targetYes = getYes.Result.value_counts()"
   ]
  },
  {
   "cell_type": "code",
   "execution_count": 20,
   "metadata": {},
   "outputs": [],
   "source": [
    "getNoSum = targetNo.sum()\n",
    "getYesSum = targetYes.sum()"
   ]
  },
  {
   "cell_type": "markdown",
   "metadata": {},
   "source": [
    "# Let's Loop it"
   ]
  },
  {
   "cell_type": "code",
   "execution_count": 21,
   "metadata": {},
   "outputs": [
    {
     "data": {
      "text/plain": [
       "none         5\n",
       "sunburned    3\n",
       "Name: Result, dtype: int64"
      ]
     },
     "execution_count": 21,
     "metadata": {},
     "output_type": "execute_result"
    }
   ],
   "source": [
    "targetDataFrame"
   ]
  },
  {
   "cell_type": "markdown",
   "metadata": {},
   "source": [
    "## Gini Function"
   ]
  },
  {
   "cell_type": "code",
   "execution_count": 22,
   "metadata": {},
   "outputs": [],
   "source": [
    "def Gini(p, q):\n",
    "    result = 1 - ((p**2)+(q**2))\n",
    "    return result"
   ]
  },
  {
   "cell_type": "markdown",
   "metadata": {},
   "source": [
    "## Calculate DF's base entropy and gini"
   ]
  },
  {
   "cell_type": "code",
   "execution_count": 23,
   "metadata": {},
   "outputs": [
    {
     "name": "stdout",
     "output_type": "stream",
     "text": [
      "Base Entropy: 0.954434002924965\n",
      "Base Gini: 0.46875\n"
     ]
    }
   ],
   "source": [
    "p = targetDataFrame[0]/totalInstance\n",
    "q = targetDataFrame[1]/totalInstance\n",
    "\n",
    "baseEntropy = entropy([p,q], base=2)\n",
    "baseGini = Gini(p, q)\n",
    "\n",
    "print(\"Base Entropy:\", baseEntropy)\n",
    "print(\"Base Gini:\", baseGini)"
   ]
  },
  {
   "cell_type": "markdown",
   "metadata": {},
   "source": [
    "## Loop each attribute and loop each value"
   ]
  },
  {
   "cell_type": "code",
   "execution_count": 24,
   "metadata": {},
   "outputs": [
    {
     "name": "stdout",
     "output_type": "stream",
     "text": [
      "Attribute:  Hair\n",
      "Value:  blonde  , Total:  4  of  8  Instances\n",
      "           0\n",
      "Result      \n",
      "sunburned  2\n",
      "none       2\n",
      "Value:  brown  , Total:  3  of  8  Instances\n",
      "        0\n",
      "Result   \n",
      "none    3\n",
      "Value:  red  , Total:  1  of  8  Instances\n",
      "           0\n",
      "Result      \n",
      "sunburned  1\n",
      "Attribute:  Height\n",
      "Value:  average  , Total:  3  of  8  Instances\n",
      "           0\n",
      "Result      \n",
      "sunburned  2\n",
      "none       1\n",
      "Value:  tall  , Total:  2  of  8  Instances\n",
      "        0\n",
      "Result   \n",
      "none    2\n",
      "Value:  short  , Total:  3  of  8  Instances\n",
      "           0\n",
      "Result      \n",
      "none       2\n",
      "sunburned  1\n",
      "Attribute:  Weight\n",
      "Value:  light  , Total:  2  of  8  Instances\n",
      "           0\n",
      "Result      \n",
      "sunburned  1\n",
      "none       1\n",
      "Value:  average  , Total:  3  of  8  Instances\n",
      "           0\n",
      "Result      \n",
      "none       2\n",
      "sunburned  1\n",
      "Value:  heavy  , Total:  3  of  8  Instances\n",
      "           0\n",
      "Result      \n",
      "none       2\n",
      "sunburned  1\n",
      "Attribute:  Lotion\n",
      "Value:  no  , Total:  5  of  8  Instances\n",
      "           0\n",
      "Result      \n",
      "sunburned  3\n",
      "none       2\n",
      "Value:  yes  , Total:  3  of  8  Instances\n",
      "        0\n",
      "Result   \n",
      "none    3\n"
     ]
    }
   ],
   "source": [
    "for attribute in selectedInput:\n",
    "    print(\"Attribute: \", attribute)\n",
    "    attributeValues = df[attribute].unique()\n",
    "    #\n",
    "    sumEntropy = 0\n",
    "    sumGini = 0\n",
    "    for value in attributeValues:\n",
    "        subDataFrame = df.loc[df[attribute]==value]\n",
    "        sumDataFrame = subDataFrame[selectedTarget].value_counts().sum()\n",
    "        #\n",
    "        print(\"Value: \", value, \" , Total: \", sumDataFrame, \" of \", totalInstance, \" Instances\")\n",
    "        print(subDataFrame[selectedTarget].value_counts().to_frame())\n",
    "        #\n",
    "        totalIndex = subDataFrame[selectedTarget].value_counts().count()\n",
    "        p = subDataFrame[selectedTarget].value_counts()[0]/sumDataFrame\n",
    "        if(totalIndex == 1):\n",
    "            q = 0\n",
    "        else:\n",
    "            q = subDataFrame[selectedTarget].value_counts()[1]/sumDataFrame\n",
    "        #\n",
    "        valueEntropy = (sumDataFrame/totalInstance)*(entropy([p,q], base=2))\n",
    "        sumEntropy += valueEntropy"
   ]
  },
  {
   "cell_type": "markdown",
   "metadata": {},
   "source": [
    "# Let's recursive it!"
   ]
  },
  {
   "cell_type": "markdown",
   "metadata": {},
   "source": [
    "## Function to calculate Parent's entropy"
   ]
  },
  {
   "cell_type": "code",
   "execution_count": 25,
   "metadata": {},
   "outputs": [],
   "source": [
    "def getParentEntropy(df, target):\n",
    "    targetDataFrame = df[target].value_counts()\n",
    "    totalInstance = df[target].value_counts().sum()\n",
    "    #\n",
    "    p = targetDataFrame[0]/totalInstance\n",
    "    q = targetDataFrame[1]/totalInstance\n",
    "    #\n",
    "    baseEntropy = entropy([p,q], base=2)\n",
    "    baseGini = Gini(p, q)\n",
    "    #\n",
    "    result = baseEntropy\n",
    "    return result"
   ]
  },
  {
   "cell_type": "markdown",
   "metadata": {},
   "source": [
    "## Function to Calculate Children's entropy"
   ]
  },
  {
   "cell_type": "code",
   "execution_count": 26,
   "metadata": {},
   "outputs": [],
   "source": [
    "def getChildEntropy(df, target, attribute):\n",
    "    totalInstance = df[target].value_counts().sum()\n",
    "    attributeValues = df[attribute].unique()\n",
    "    #\n",
    "    sumEntropy = 0\n",
    "    sumGini = 0\n",
    "    for value in attributeValues:\n",
    "        subDataFrame = df.loc[df[attribute]==value]\n",
    "        sumDataFrame = subDataFrame[selectedTarget].value_counts().sum()\n",
    "        #\n",
    "        valueEntropy = 0\n",
    "        valueGini = 0\n",
    "        #\n",
    "        totalIndex = subDataFrame[selectedTarget].value_counts().count()\n",
    "        if(totalIndex <1):\n",
    "            p=0\n",
    "            q=0\n",
    "        else:\n",
    "            p = subDataFrame[selectedTarget].value_counts()[0]/sumDataFrame\n",
    "            if(totalIndex == 1):\n",
    "                q = 0\n",
    "            else:\n",
    "                q = subDataFrame[selectedTarget].value_counts()[1]/sumDataFrame\n",
    "            #\n",
    "            valueEntropy = (sumDataFrame/totalInstance)*(entropy([p,q], base=2))\n",
    "            valueGini = (sumDataFrame/totalInstance)*(Gini(p,q))\n",
    "        #\n",
    "        sumEntropy += valueEntropy\n",
    "        sumGini += valueGini\n",
    "    result = sumEntropy\n",
    "    return abs(result)"
   ]
  },
  {
   "cell_type": "markdown",
   "metadata": {},
   "source": [
    "## Function to find best attribute"
   ]
  },
  {
   "cell_type": "code",
   "execution_count": 27,
   "metadata": {},
   "outputs": [],
   "source": [
    "def findBestAttribute(df, target):\n",
    "    gainList = []\n",
    "    #\n",
    "    parentEntropy = getParentEntropy(df, target)\n",
    "    for attribute in df.keys()[:-1]:\n",
    "        childEntropy = getChildEntropy(df, target, attribute)\n",
    "        gain = parentEntropy - childEntropy\n",
    "        gainList.append(gain)\n",
    "        \n",
    "    result = df.keys()[numpy.argmax(gainList)]\n",
    "    return result"
   ]
  },
  {
   "cell_type": "markdown",
   "metadata": {},
   "source": [
    "## Function to Split Dataset"
   ]
  },
  {
   "cell_type": "code",
   "execution_count": 28,
   "metadata": {},
   "outputs": [],
   "source": [
    "def getSubBranch(df, attribute, value):\n",
    "    return df[df[attribute]==value].reset_index(drop=True)"
   ]
  },
  {
   "cell_type": "markdown",
   "metadata": {},
   "source": [
    "## Function Recursive ID3"
   ]
  },
  {
   "cell_type": "code",
   "execution_count": 29,
   "metadata": {},
   "outputs": [],
   "source": [
    "def ID3(df, tree=None):\n",
    "    selectedTarget = ['Result']\n",
    "    bestAttribute = findBestAttribute(df, selectedTarget)\n",
    "    bestAttValues = df[bestAttribute].unique()\n",
    "    if tree is None:\n",
    "        tree = {}\n",
    "        tree[bestAttribute] = {}\n",
    "    for value in bestAttValues:\n",
    "        nextBranch = getSubBranch(df, bestAttribute, value)\n",
    "        nextBranchValue, nextBranchCounts = numpy.unique(nextBranch[selectedTarget], return_counts=True)\n",
    "        if len(nextBranchCounts)==1:\n",
    "            tree[bestAttribute][value] = nextBranchValue[0]\n",
    "        else:\n",
    "            tree[bestAttribute][value] = ID3(nextBranch)\n",
    "            \n",
    "    result = tree\n",
    "    return result"
   ]
  },
  {
   "cell_type": "markdown",
   "metadata": {},
   "source": [
    "# Let's Run Our ID3"
   ]
  },
  {
   "cell_type": "code",
   "execution_count": 30,
   "metadata": {},
   "outputs": [
    {
     "name": "stdout",
     "output_type": "stream",
     "text": [
      "{'Hair': {'blonde': {'Lotion': {'no': 'sunburned', 'yes': 'none'}},\n",
      "          'brown': 'none',\n",
      "          'red': 'sunburned'}}\n"
     ]
    }
   ],
   "source": [
    "myTree = ID3(df)\n",
    "pprint.pprint(myTree)"
   ]
  }
 ],
 "metadata": {
  "kernelspec": {
   "display_name": "Python 3",
   "language": "python",
   "name": "python3"
  },
  "language_info": {
   "codemirror_mode": {
    "name": "ipython",
    "version": 3
   },
   "file_extension": ".py",
   "mimetype": "text/x-python",
   "name": "python",
   "nbconvert_exporter": "python",
   "pygments_lexer": "ipython3",
   "version": "3.7.6"
  }
 },
 "nbformat": 4,
 "nbformat_minor": 4
}
