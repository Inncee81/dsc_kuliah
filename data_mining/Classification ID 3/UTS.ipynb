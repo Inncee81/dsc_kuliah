{
 "cells": [
  {
   "cell_type": "markdown",
   "metadata": {},
   "source": [
    "# Import Library"
   ]
  },
  {
   "cell_type": "code",
   "execution_count": 1,
   "metadata": {},
   "outputs": [],
   "source": [
    "import numpy\n",
    "from scipy import stats as st\n",
    "from scipy.stats import entropy\n",
    "from pandas import DataFrame, read_csv\n",
    "import matplotlib.pyplot as plotLib\n",
    "import pandas as pd\n",
    "import pprint"
   ]
  },
  {
   "cell_type": "markdown",
   "metadata": {},
   "source": [
    "# Preparing Dataset"
   ]
  },
  {
   "cell_type": "markdown",
   "metadata": {},
   "source": [
    "## Load Dataset from xls"
   ]
  },
  {
   "cell_type": "code",
   "execution_count": 2,
   "metadata": {},
   "outputs": [
    {
     "data": {
      "text/html": [
       "<div>\n",
       "<style scoped>\n",
       "    .dataframe tbody tr th:only-of-type {\n",
       "        vertical-align: middle;\n",
       "    }\n",
       "\n",
       "    .dataframe tbody tr th {\n",
       "        vertical-align: top;\n",
       "    }\n",
       "\n",
       "    .dataframe thead th {\n",
       "        text-align: right;\n",
       "    }\n",
       "</style>\n",
       "<table border=\"1\" class=\"dataframe\">\n",
       "  <thead>\n",
       "    <tr style=\"text-align: right;\">\n",
       "      <th></th>\n",
       "      <th>milk</th>\n",
       "      <th>aquatic</th>\n",
       "      <th>fins</th>\n",
       "      <th>breathes</th>\n",
       "      <th>legs</th>\n",
       "      <th>toothed</th>\n",
       "      <th>class_type</th>\n",
       "    </tr>\n",
       "  </thead>\n",
       "  <tbody>\n",
       "    <tr>\n",
       "      <th>0</th>\n",
       "      <td>1</td>\n",
       "      <td>0</td>\n",
       "      <td>0</td>\n",
       "      <td>1</td>\n",
       "      <td>4</td>\n",
       "      <td>1</td>\n",
       "      <td>mammal</td>\n",
       "    </tr>\n",
       "    <tr>\n",
       "      <th>1</th>\n",
       "      <td>1</td>\n",
       "      <td>0</td>\n",
       "      <td>0</td>\n",
       "      <td>1</td>\n",
       "      <td>4</td>\n",
       "      <td>1</td>\n",
       "      <td>mammal</td>\n",
       "    </tr>\n",
       "    <tr>\n",
       "      <th>2</th>\n",
       "      <td>0</td>\n",
       "      <td>1</td>\n",
       "      <td>1</td>\n",
       "      <td>0</td>\n",
       "      <td>0</td>\n",
       "      <td>1</td>\n",
       "      <td>fish</td>\n",
       "    </tr>\n",
       "    <tr>\n",
       "      <th>3</th>\n",
       "      <td>1</td>\n",
       "      <td>0</td>\n",
       "      <td>0</td>\n",
       "      <td>1</td>\n",
       "      <td>4</td>\n",
       "      <td>1</td>\n",
       "      <td>mammal</td>\n",
       "    </tr>\n",
       "    <tr>\n",
       "      <th>4</th>\n",
       "      <td>1</td>\n",
       "      <td>0</td>\n",
       "      <td>0</td>\n",
       "      <td>1</td>\n",
       "      <td>4</td>\n",
       "      <td>1</td>\n",
       "      <td>mammal</td>\n",
       "    </tr>\n",
       "  </tbody>\n",
       "</table>\n",
       "</div>"
      ],
      "text/plain": [
       "   milk  aquatic  fins  breathes  legs  toothed class_type\n",
       "0     1        0     0         1     4        1     mammal\n",
       "1     1        0     0         1     4        1     mammal\n",
       "2     0        1     1         0     0        1       fish\n",
       "3     1        0     0         1     4        1     mammal\n",
       "4     1        0     0         1     4        1     mammal"
      ]
     },
     "execution_count": 2,
     "metadata": {},
     "output_type": "execute_result"
    }
   ],
   "source": [
    "df = pd.read_excel(\"../sources/dataset-animal.xlsx\")\n",
    "df = df[['milk', 'aquatic', 'fins', 'breathes', 'legs', 'toothed', 'class_type']]\n",
    "df.head()"
   ]
  },
  {
   "cell_type": "markdown",
   "metadata": {},
   "source": [
    "## Gini Function"
   ]
  },
  {
   "cell_type": "code",
   "execution_count": 5,
   "metadata": {},
   "outputs": [],
   "source": [
    "def Gini(p, q):\n",
    "    result = 1 - ((p**2)+(q**2))\n",
    "    return result"
   ]
  },
  {
   "cell_type": "markdown",
   "metadata": {},
   "source": [
    "## Function to calculate Parent's entropy"
   ]
  },
  {
   "cell_type": "code",
   "execution_count": 6,
   "metadata": {},
   "outputs": [],
   "source": [
    "def getParentEntropy(df, target):\n",
    "    targetDataFrame = df[target].value_counts()\n",
    "    totalInstance = df[target].value_counts().sum()\n",
    "    #\n",
    "    p = targetDataFrame[0]/totalInstance\n",
    "    q = targetDataFrame[1]/totalInstance\n",
    "    #\n",
    "    baseEntropy = entropy([p,q], base=2)\n",
    "    baseGini = Gini(p, q)\n",
    "    #\n",
    "    result = baseEntropy\n",
    "    return result"
   ]
  },
  {
   "cell_type": "markdown",
   "metadata": {},
   "source": [
    "## Function to Calculate Children's entropy"
   ]
  },
  {
   "cell_type": "code",
   "execution_count": 7,
   "metadata": {},
   "outputs": [],
   "source": [
    "def getChildEntropy(df, target, attribute):\n",
    "    totalInstance = df[target].value_counts().sum()\n",
    "    #print(\"Attribute : \", attribute)\n",
    "    attributeValues = df[attribute].unique()\n",
    "    #\n",
    "    sumEntropy = 0\n",
    "    sumGini = 0\n",
    "    for value in attributeValues:\n",
    "        subDataFrame = df.loc[df[attribute]==value]\n",
    "        sumDataFrame = subDataFrame[selectedTarget].value_counts().sum()\n",
    "        #\n",
    "        valueEntropy = 0\n",
    "        valueGini = 0\n",
    "        #\n",
    "        # print(\"Value : \", value, \" , Total : \", sumDataFrame , \" of \", totalInstance , \" Instances\")\n",
    "        #\n",
    "        totalIndex = subDataFrame[selectedTarget].value_counts().count()\n",
    "        if(totalIndex <1):\n",
    "            p=0\n",
    "            q=0\n",
    "        else:\n",
    "            p = subDataFrame[selectedTarget].value_counts()[0]/sumDataFrame\n",
    "            if(totalIndex == 1):\n",
    "                q = 0\n",
    "            else:\n",
    "                q = subDataFrame[selectedTarget].value_counts()[1]/sumDataFrame\n",
    "            #\n",
    "            valueEntropy = (sumDataFrame/totalInstance)*(entropy([p,q], base=2))\n",
    "            valueGini = (sumDataFrame/totalInstance)*(Gini(p,q))\n",
    "        #\n",
    "        sumEntropy += valueEntropy\n",
    "        sumGini += valueGini\n",
    "    \n",
    "#     print(\"\\n Entropy[\", attribute, \"] = \", sumEntropy)\n",
    "#     print(\"Gini[\", attribute, \"] = \", sumGini, \"\\n\")\n",
    "    result = sumEntropy\n",
    "    return abs(result)"
   ]
  },
  {
   "cell_type": "markdown",
   "metadata": {},
   "source": [
    "## Function to find best attribute"
   ]
  },
  {
   "cell_type": "code",
   "execution_count": 8,
   "metadata": {},
   "outputs": [],
   "source": [
    "def findBestAttribute(df, target):\n",
    "    gainList = []\n",
    "    #\n",
    "    parentEntropy = getParentEntropy(df, target)\n",
    "    for attribute in df.keys()[:-1]:\n",
    "        childEntropy = getChildEntropy(df, target, attribute)\n",
    "        gain = parentEntropy - childEntropy\n",
    "        gainList.append(gain)\n",
    "        print(attribute, \": \", gain)\n",
    "     \n",
    "    print(\"max = \", max(gainList))\n",
    "    print(\"====================================\")\n",
    "    result = df.keys()[numpy.argmax(gainList)]\n",
    "    return result"
   ]
  },
  {
   "cell_type": "markdown",
   "metadata": {},
   "source": [
    "## Function to Split Dataset"
   ]
  },
  {
   "cell_type": "code",
   "execution_count": 9,
   "metadata": {},
   "outputs": [],
   "source": [
    "def getSubBranch(df, attribute, value):\n",
    "    return df[df[attribute]==value].reset_index(drop=True)"
   ]
  },
  {
   "cell_type": "markdown",
   "metadata": {},
   "source": [
    "## Function Recursive ID3"
   ]
  },
  {
   "cell_type": "code",
   "execution_count": 10,
   "metadata": {},
   "outputs": [],
   "source": [
    "def ID3(df, selectedTarget, branch, maxdepth, tree=None):\n",
    "#     find best attribute for node and get that values\n",
    "    bestAttribute = findBestAttribute(df, selectedTarget)\n",
    "    bestAttValues = df[bestAttribute].unique()\n",
    "    \n",
    "    # Create empty storage to our tree\n",
    "    if tree is None:\n",
    "        tree = {}\n",
    "        tree[bestAttribute] = {}\n",
    "        \n",
    "    # Recursive\n",
    "    for value in bestAttValues:\n",
    "        nextBranch = getSubBranch(df, bestAttribute, value)\n",
    "        \n",
    "        # Check Impurity of Next Branch\n",
    "        nextBranchValue, nextBranchCounts = numpy.unique(nextBranch[selectedTarget], return_counts=True)\n",
    "        \n",
    "        # See how many target in next branch\n",
    "        if len(nextBranchCounts)==1:\n",
    "            # If Next Branch is PURE (Impurity = 0%)\n",
    "            tree[bestAttribute][value] = nextBranchValue[0]\n",
    "        else:\n",
    "            # If Next Branch is not pure\n",
    "            if branch <= maxdepth:\n",
    "                ctrBranch = branch +1\n",
    "                tree[bestAttribute][value] = ID3(nextBranch, selectedTarget, ctrBranch, maxdepth)\n",
    "            \n",
    "    result = tree\n",
    "    return result"
   ]
  },
  {
   "cell_type": "markdown",
   "metadata": {},
   "source": [
    "# Let's Run Our ID3"
   ]
  },
  {
   "cell_type": "code",
   "execution_count": 13,
   "metadata": {
    "scrolled": true
   },
   "outputs": [
    {
     "name": "stdout",
     "output_type": "stream",
     "text": [
      "milk :  0.33810359405670387\n",
      "aquatic :  0.03655977689675527\n",
      "fins :  0.0027493043110222715\n",
      "breathes :  -0.004435761296349261\n",
      "legs :  0.24839696734258854\n",
      "toothed :  0.0636400497383467\n",
      "max =  0.33810359405670387\n",
      "====================================\n",
      "milk :  0.0\n",
      "aquatic :  0.044592747297443114\n",
      "fins :  0.24796304227087784\n",
      "breathes :  0.07934258999716237\n",
      "legs :  0.47746338709222075\n",
      "toothed :  0.09490818164103232\n",
      "max =  0.47746338709222075\n",
      "====================================\n",
      "milk :  0.0\n",
      "aquatic :  0.265964692606945\n",
      "fins :  0.4422967385892809\n",
      "breathes :  0.1339189809589446\n",
      "legs :  0.0\n",
      "toothed :  0.23015677810115232\n",
      "max =  0.4422967385892809\n",
      "====================================\n",
      "milk :  0.0\n",
      "aquatic :  0.0059777114237737905\n",
      "fins :  0.0\n",
      "breathes :  0.020244207153756077\n",
      "legs :  0.0\n",
      "toothed :  0.9852281360342515\n",
      "max =  0.9852281360342515\n",
      "====================================\n",
      "milk :  0.0\n",
      "aquatic :  0.40263290913494487\n",
      "fins :  0.0\n",
      "breathes :  0.13118511915064135\n",
      "legs :  0.0\n",
      "toothed :  0.11691862342065917\n",
      "max =  0.40263290913494487\n",
      "====================================\n",
      "milk :  0.0\n",
      "aquatic :  0.0\n",
      "fins :  0.0\n",
      "breathes :  0.7219280948873623\n",
      "legs :  0.0\n",
      "toothed :  0.7219280948873623\n",
      "max =  0.7219280948873623\n",
      "====================================\n",
      "milk :  0.0\n",
      "aquatic :  0.7219280948873623\n",
      "fins :  0.0\n",
      "breathes :  0.7219280948873623\n",
      "legs :  0.0\n",
      "toothed :  0.0\n",
      "max =  0.7219280948873623\n",
      "====================================\n",
      "{'milk': {0: {'legs': {0: {'fins': {0: {'toothed': {0: 'invertebrate',\n",
      "                                                    1: 'reptile'}},\n",
      "                                    1: 'fish'}},\n",
      "                       2: 'bird',\n",
      "                       4: {'aquatic': {0: 'reptile',\n",
      "                                       1: {'breathes': {0: 'invertebrate',\n",
      "                                                        1: 'aphibi'}}}},\n",
      "                       5: 'invertebrate',\n",
      "                       6: {'aquatic': {0: 'bug', 1: 'invertebrate'}},\n",
      "                       8: 'invertebrate'}},\n",
      "          1: 'mammal'}}\n"
     ]
    }
   ],
   "source": [
    "selectedTarget = ['class_type']\n",
    "myTree = ID3(df, selectedTarget, 0, 6)\n",
    "pprint.pprint(myTree)"
   ]
  }
 ],
 "metadata": {
  "kernelspec": {
   "display_name": "Python 3",
   "language": "python",
   "name": "python3"
  },
  "language_info": {
   "codemirror_mode": {
    "name": "ipython",
    "version": 3
   },
   "file_extension": ".py",
   "mimetype": "text/x-python",
   "name": "python",
   "nbconvert_exporter": "python",
   "pygments_lexer": "ipython3",
   "version": "3.7.6"
  }
 },
 "nbformat": 4,
 "nbformat_minor": 4
}
