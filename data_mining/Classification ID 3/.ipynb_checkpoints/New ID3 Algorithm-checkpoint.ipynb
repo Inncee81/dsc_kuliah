{
 "cells": [
  {
   "cell_type": "markdown",
   "metadata": {},
   "source": [
    "# Import Library"
   ]
  },
  {
   "cell_type": "code",
   "execution_count": 1,
   "metadata": {},
   "outputs": [],
   "source": [
    "import numpy\n",
    "from scipy.stats import entropy\n",
    "from pandas import DataFrame, read_csv\n",
    "import matplotlib.pyplot as plotLib\n",
    "import pandas as pd\n",
    "import pprint"
   ]
  },
  {
   "cell_type": "markdown",
   "metadata": {},
   "source": [
    "# Preparing Dataset"
   ]
  },
  {
   "cell_type": "markdown",
   "metadata": {},
   "source": [
    "## Load Dataset from xls"
   ]
  },
  {
   "cell_type": "code",
   "execution_count": 2,
   "metadata": {},
   "outputs": [
    {
     "data": {
      "text/html": [
       "<div>\n",
       "<style scoped>\n",
       "    .dataframe tbody tr th:only-of-type {\n",
       "        vertical-align: middle;\n",
       "    }\n",
       "\n",
       "    .dataframe tbody tr th {\n",
       "        vertical-align: top;\n",
       "    }\n",
       "\n",
       "    .dataframe thead th {\n",
       "        text-align: right;\n",
       "    }\n",
       "</style>\n",
       "<table border=\"1\" class=\"dataframe\">\n",
       "  <thead>\n",
       "    <tr style=\"text-align: right;\">\n",
       "      <th></th>\n",
       "      <th>hair</th>\n",
       "      <th>feathers</th>\n",
       "      <th>eggs</th>\n",
       "      <th>milk</th>\n",
       "      <th>airborne</th>\n",
       "      <th>aquatic</th>\n",
       "      <th>predator</th>\n",
       "      <th>toothed</th>\n",
       "      <th>backbone</th>\n",
       "      <th>breathes</th>\n",
       "      <th>venomous</th>\n",
       "      <th>fins</th>\n",
       "      <th>legs</th>\n",
       "      <th>tail</th>\n",
       "      <th>domestic</th>\n",
       "      <th>catsize</th>\n",
       "      <th>class_type</th>\n",
       "    </tr>\n",
       "  </thead>\n",
       "  <tbody>\n",
       "    <tr>\n",
       "      <th>0</th>\n",
       "      <td>1</td>\n",
       "      <td>0</td>\n",
       "      <td>0</td>\n",
       "      <td>1</td>\n",
       "      <td>0</td>\n",
       "      <td>0</td>\n",
       "      <td>1</td>\n",
       "      <td>1</td>\n",
       "      <td>1</td>\n",
       "      <td>1</td>\n",
       "      <td>0</td>\n",
       "      <td>0</td>\n",
       "      <td>4</td>\n",
       "      <td>0</td>\n",
       "      <td>0</td>\n",
       "      <td>1</td>\n",
       "      <td>mammal</td>\n",
       "    </tr>\n",
       "    <tr>\n",
       "      <th>1</th>\n",
       "      <td>1</td>\n",
       "      <td>0</td>\n",
       "      <td>0</td>\n",
       "      <td>1</td>\n",
       "      <td>0</td>\n",
       "      <td>0</td>\n",
       "      <td>0</td>\n",
       "      <td>1</td>\n",
       "      <td>1</td>\n",
       "      <td>1</td>\n",
       "      <td>0</td>\n",
       "      <td>0</td>\n",
       "      <td>4</td>\n",
       "      <td>1</td>\n",
       "      <td>0</td>\n",
       "      <td>1</td>\n",
       "      <td>mammal</td>\n",
       "    </tr>\n",
       "    <tr>\n",
       "      <th>2</th>\n",
       "      <td>0</td>\n",
       "      <td>0</td>\n",
       "      <td>1</td>\n",
       "      <td>0</td>\n",
       "      <td>0</td>\n",
       "      <td>1</td>\n",
       "      <td>1</td>\n",
       "      <td>1</td>\n",
       "      <td>1</td>\n",
       "      <td>0</td>\n",
       "      <td>0</td>\n",
       "      <td>1</td>\n",
       "      <td>0</td>\n",
       "      <td>1</td>\n",
       "      <td>0</td>\n",
       "      <td>0</td>\n",
       "      <td>fish</td>\n",
       "    </tr>\n",
       "    <tr>\n",
       "      <th>3</th>\n",
       "      <td>1</td>\n",
       "      <td>0</td>\n",
       "      <td>0</td>\n",
       "      <td>1</td>\n",
       "      <td>0</td>\n",
       "      <td>0</td>\n",
       "      <td>1</td>\n",
       "      <td>1</td>\n",
       "      <td>1</td>\n",
       "      <td>1</td>\n",
       "      <td>0</td>\n",
       "      <td>0</td>\n",
       "      <td>4</td>\n",
       "      <td>0</td>\n",
       "      <td>0</td>\n",
       "      <td>1</td>\n",
       "      <td>mammal</td>\n",
       "    </tr>\n",
       "    <tr>\n",
       "      <th>4</th>\n",
       "      <td>1</td>\n",
       "      <td>0</td>\n",
       "      <td>0</td>\n",
       "      <td>1</td>\n",
       "      <td>0</td>\n",
       "      <td>0</td>\n",
       "      <td>1</td>\n",
       "      <td>1</td>\n",
       "      <td>1</td>\n",
       "      <td>1</td>\n",
       "      <td>0</td>\n",
       "      <td>0</td>\n",
       "      <td>4</td>\n",
       "      <td>1</td>\n",
       "      <td>0</td>\n",
       "      <td>1</td>\n",
       "      <td>mammal</td>\n",
       "    </tr>\n",
       "  </tbody>\n",
       "</table>\n",
       "</div>"
      ],
      "text/plain": [
       "   hair  feathers  eggs  milk  airborne  aquatic  predator  toothed  backbone  \\\n",
       "0     1         0     0     1         0        0         1        1         1   \n",
       "1     1         0     0     1         0        0         0        1         1   \n",
       "2     0         0     1     0         0        1         1        1         1   \n",
       "3     1         0     0     1         0        0         1        1         1   \n",
       "4     1         0     0     1         0        0         1        1         1   \n",
       "\n",
       "   breathes  venomous  fins  legs  tail  domestic  catsize class_type  \n",
       "0         1         0     0     4     0         0        1     mammal  \n",
       "1         1         0     0     4     1         0        1     mammal  \n",
       "2         0         0     1     0     1         0        0       fish  \n",
       "3         1         0     0     4     0         0        1     mammal  \n",
       "4         1         0     0     4     1         0        1     mammal  "
      ]
     },
     "execution_count": 2,
     "metadata": {},
     "output_type": "execute_result"
    }
   ],
   "source": [
    "df = pd.read_excel(\"../sources/dataset-animal.xlsx\")\n",
    "df.head()"
   ]
  },
  {
   "cell_type": "markdown",
   "metadata": {},
   "source": [
    "## Get Input Attributes"
   ]
  },
  {
   "cell_type": "code",
   "execution_count": null,
   "metadata": {},
   "outputs": [],
   "source": [
    "selectedInput = ['OUTLOOK', 'TEMPERATURE', 'HUMIDITY', 'WIND']\n",
    "inputAttributes = df[selectedInput]"
   ]
  },
  {
   "cell_type": "markdown",
   "metadata": {},
   "source": [
    "## Get Input Attributes' values"
   ]
  },
  {
   "cell_type": "code",
   "execution_count": null,
   "metadata": {},
   "outputs": [],
   "source": [
    "outlookValues = inputAttributes.OUTLOOK.unique()\n",
    "temperatureValues = inputAttributes.TEMPERATURE.unique()\n",
    "humidityValues = inputAttributes.HUMIDITY.unique()\n",
    "windValues = inputAttributes.WIND.unique()"
   ]
  },
  {
   "cell_type": "markdown",
   "metadata": {},
   "source": [
    "## Get target attributes"
   ]
  },
  {
   "cell_type": "code",
   "execution_count": null,
   "metadata": {},
   "outputs": [],
   "source": [
    "selectedTarget = ['PLAY']\n",
    "targetAttribute = df[selectedTarget]"
   ]
  },
  {
   "cell_type": "markdown",
   "metadata": {},
   "source": [
    "## Get target attributes' values"
   ]
  },
  {
   "cell_type": "code",
   "execution_count": null,
   "metadata": {},
   "outputs": [],
   "source": [
    "targetValues = targetAttribute.PLAY.unique()"
   ]
  },
  {
   "cell_type": "markdown",
   "metadata": {},
   "source": [
    "## Count Instances and Target Distribution"
   ]
  },
  {
   "cell_type": "code",
   "execution_count": null,
   "metadata": {},
   "outputs": [],
   "source": [
    "targetDataFrame = df['PLAY'].value_counts()\n",
    "totalInstance = df['PLAY'].value_counts().sum()"
   ]
  },
  {
   "cell_type": "markdown",
   "metadata": {},
   "source": [
    "# Preparing attributes impurity"
   ]
  },
  {
   "cell_type": "markdown",
   "metadata": {},
   "source": [
    "## Get OUTLOOK and its values"
   ]
  },
  {
   "cell_type": "code",
   "execution_count": null,
   "metadata": {},
   "outputs": [],
   "source": [
    "getOvercast = df.loc[df[\"OUTLOOK\"] == \"overcast\"]\n",
    "getRain = df.loc[df[\"OUTLOOK\"] == \"rain\"]\n",
    "getSunny = df.loc[df[\"OUTLOOK\"] == \"sunny\"]"
   ]
  },
  {
   "cell_type": "code",
   "execution_count": null,
   "metadata": {},
   "outputs": [],
   "source": [
    "targetOvercast = getOvercast.PLAY.value_counts()\n",
    "targetRain = getRain.PLAY.value_counts()\n",
    "targetSunny = getSunny.PLAY.value_counts()"
   ]
  },
  {
   "cell_type": "code",
   "execution_count": null,
   "metadata": {},
   "outputs": [],
   "source": [
    "getOvercastSum = targetOvercast.sum()\n",
    "getRainSum = targetRain.sum()\n",
    "getSunnySum = targetSunny.sum()"
   ]
  },
  {
   "cell_type": "markdown",
   "metadata": {},
   "source": [
    "## Get TEMPERATURE and its values"
   ]
  },
  {
   "cell_type": "code",
   "execution_count": null,
   "metadata": {},
   "outputs": [],
   "source": [
    "getHot = df.loc[df['TEMPERATURE']==\"hot\"]\n",
    "getMild = df.loc[df['TEMPERATURE']==\"mild\"]\n",
    "getCool = df.loc[df['TEMPERATURE']==\"cool\"]"
   ]
  },
  {
   "cell_type": "code",
   "execution_count": null,
   "metadata": {},
   "outputs": [],
   "source": [
    "targetHot = getHot.PLAY.value_counts()\n",
    "targetMild = getMild.PLAY.value_counts()\n",
    "targetCool = getCool.PLAY.value_counts()"
   ]
  },
  {
   "cell_type": "code",
   "execution_count": null,
   "metadata": {},
   "outputs": [],
   "source": [
    "getHotSum = targetHot.sum()\n",
    "getMildSum = targetMild.sum()\n",
    "getCoolSum = targetCool.sum()"
   ]
  },
  {
   "cell_type": "markdown",
   "metadata": {},
   "source": [
    "## Get HUMIDITY and its values"
   ]
  },
  {
   "cell_type": "code",
   "execution_count": null,
   "metadata": {},
   "outputs": [],
   "source": [
    "getNormal = df.loc[df['HUMIDITY']==\"normal\"]\n",
    "getHigh = df.loc[df['HUMIDITY']==\"high\"]"
   ]
  },
  {
   "cell_type": "code",
   "execution_count": null,
   "metadata": {},
   "outputs": [],
   "source": [
    "targetNormal = getNormal.PLAY.value_counts()\n",
    "targetHigh = getHigh.PLAY.value_counts()"
   ]
  },
  {
   "cell_type": "code",
   "execution_count": null,
   "metadata": {},
   "outputs": [],
   "source": [
    "getNormalSum = targetNormal.sum()\n",
    "getHighSum = targetHigh.sum()"
   ]
  },
  {
   "cell_type": "markdown",
   "metadata": {},
   "source": [
    "## Get WINDY and its values"
   ]
  },
  {
   "cell_type": "code",
   "execution_count": null,
   "metadata": {},
   "outputs": [],
   "source": [
    "getWeak = df.loc[df['WIND']==\"weak\"]\n",
    "getStrong = df.loc[df['WIND']==\"strong\"]"
   ]
  },
  {
   "cell_type": "code",
   "execution_count": null,
   "metadata": {},
   "outputs": [],
   "source": [
    "targetWeak = getWeak.PLAY.value_counts()\n",
    "targetStrong = getStrong.PLAY.value_counts()"
   ]
  },
  {
   "cell_type": "code",
   "execution_count": null,
   "metadata": {},
   "outputs": [],
   "source": [
    "getWeakSum = targetWeak.sum()\n",
    "getStrongSum = targetStrong.sum()"
   ]
  },
  {
   "cell_type": "markdown",
   "metadata": {},
   "source": [
    "## Gini Function"
   ]
  },
  {
   "cell_type": "code",
   "execution_count": null,
   "metadata": {},
   "outputs": [],
   "source": [
    "def Gini(p, q):\n",
    "    result = 1 - ((p**2)+(q**2))\n",
    "    return result"
   ]
  },
  {
   "cell_type": "markdown",
   "metadata": {},
   "source": [
    "## Function to calculate Parent's entropy"
   ]
  },
  {
   "cell_type": "code",
   "execution_count": null,
   "metadata": {},
   "outputs": [],
   "source": [
    "def getParentEntropy(df, target):\n",
    "    targetDataFrame = df[target].value_counts()\n",
    "    totalInstance = df[target].value_counts().sum()\n",
    "    #\n",
    "    p = targetDataFrame[0]/totalInstance\n",
    "    q = targetDataFrame[1]/totalInstance\n",
    "    #\n",
    "    baseEntropy = entropy([p,q], base=2)\n",
    "    baseGini = Gini(p, q)\n",
    "    #\n",
    "    result = baseEntropy\n",
    "    return result"
   ]
  },
  {
   "cell_type": "markdown",
   "metadata": {},
   "source": [
    "## Function to Calculate Children's entropy"
   ]
  },
  {
   "cell_type": "code",
   "execution_count": null,
   "metadata": {},
   "outputs": [],
   "source": [
    "def getChildEntropy(df, target, attribute):\n",
    "    totalInstance = df[target].value_counts().sum()\n",
    "    #print(\"Attribute : \", attribute)\n",
    "    attributeValues = df[attribute].unique()\n",
    "    #\n",
    "    sumEntropy = 0\n",
    "    sumGini = 0\n",
    "    for value in attributeValues:\n",
    "        subDataFrame = df.loc[df[attribute]==value]\n",
    "        sumDataFrame = subDataFrame[selectedTarget].value_counts().sum()\n",
    "        #\n",
    "        valueEntropy = 0\n",
    "        valueGini = 0\n",
    "        #\n",
    "        # print(\"Value : \", value, \" , Total : \", sumDataFrame , \" of \", totalInstance , \" Instances\")\n",
    "        #\n",
    "        totalIndex = subDataFrame[selectedTarget].value_counts().count()\n",
    "        if(totalIndex <1):\n",
    "            p=0\n",
    "            q=0\n",
    "        else:\n",
    "            p = subDataFrame[selectedTarget].value_counts()[0]/sumDataFrame\n",
    "            if(totalIndex == 1):\n",
    "                q = 0\n",
    "            else:\n",
    "                q = subDataFrame[selectedTarget].value_counts()[1]/sumDataFrame\n",
    "            #\n",
    "            valueEntropy = (sumDataFrame/totalInstance)*(entropy([p,q], base=2))\n",
    "            valueGini = (sumDataFrame/totalInstance)*(Gini(p,q))\n",
    "        #\n",
    "        sumEntropy += valueEntropy\n",
    "        sumGini += valueGini\n",
    "    \n",
    "    #print(\"\\n Entropy[\", attribute, \"] = \", sumEntropy)\n",
    "    #print(\"Gini[\", attribute, \"] = \", sumGini)\n",
    "    result = sumEntropy\n",
    "    return abs(result)"
   ]
  },
  {
   "cell_type": "markdown",
   "metadata": {},
   "source": [
    "## Function to find best attribute"
   ]
  },
  {
   "cell_type": "code",
   "execution_count": null,
   "metadata": {},
   "outputs": [],
   "source": [
    "def findBestAttribute(df, target):\n",
    "    gainList = []\n",
    "    #\n",
    "    parentEntropy = getParentEntropy(df, target)\n",
    "    for attribute in df.keys()[:-1]:\n",
    "        childEntropy = getChildEntropy(df, target, attribute)\n",
    "        gain = parentEntropy - childEntropy\n",
    "        gainList.append(gain)\n",
    "        # print(attribute)\n",
    "        # print(gain, \"\\n\")\n",
    "     \n",
    "    print(\"max = \", max(gainList))\n",
    "    result = df.keys()[numpy.argmax(gainList)]\n",
    "    return result"
   ]
  },
  {
   "cell_type": "markdown",
   "metadata": {},
   "source": [
    "## Function to Split Dataset"
   ]
  },
  {
   "cell_type": "code",
   "execution_count": null,
   "metadata": {},
   "outputs": [],
   "source": [
    "def getSubBranch(df, attribute, value):\n",
    "    return df[df[attribute]==value].reset_index(drop=True)"
   ]
  },
  {
   "cell_type": "markdown",
   "metadata": {},
   "source": [
    "## Function Recursive ID3"
   ]
  },
  {
   "cell_type": "code",
   "execution_count": null,
   "metadata": {},
   "outputs": [],
   "source": [
    "def ID3(df, selectedTarget, branch, maxdepth, tree=None):\n",
    "#     find best attribute for node and get that values\n",
    "    bestAttribute = findBestAttribute(df, selectedTarget)\n",
    "    bestAttValues = df[bestAttribute].unique()\n",
    "    \n",
    "    # Create empty storage to our tree\n",
    "    if tree is None:\n",
    "        tree = {}\n",
    "        tree[bestAttribute] = {}\n",
    "        \n",
    "    # Recursive\n",
    "    for value in bestAttValues:\n",
    "        nextBranch = getSubBranch(df, bestAttribute, value)\n",
    "        \n",
    "        # Check Impurity of Next Branch\n",
    "        nextBranchValue, nextBranchCounts = numpy.unique(nextBranch[selectedTarget], return_counts=True)\n",
    "        \n",
    "        # See how many target in next branch\n",
    "        if len(nextBranchCounts)==1:\n",
    "            # If Next Branch is PURE (Impurity = 0%)\n",
    "            tree[bestAttribute][value] = nextBranchValue[0]\n",
    "        else:\n",
    "            # If Next Branch is not pure\n",
    "            if branch <= maxdepth:\n",
    "                ctrBranch = branch +1\n",
    "                tree[bestAttribute][value] = ID3(nextBranch, selectedTarget, ctrBranch, maxdepth)\n",
    "            \n",
    "    result = tree\n",
    "    return result"
   ]
  },
  {
   "cell_type": "markdown",
   "metadata": {},
   "source": [
    "# Let's Run Our ID3"
   ]
  },
  {
   "cell_type": "code",
   "execution_count": null,
   "metadata": {},
   "outputs": [],
   "source": [
    "selectedTarget = ['PLAY']\n",
    "myTree = ID3(df, selectedTarget, 0, 6)\n",
    "pprint.pprint(myTree)"
   ]
  }
 ],
 "metadata": {
  "kernelspec": {
   "display_name": "Python 3",
   "language": "python",
   "name": "python3"
  },
  "language_info": {
   "codemirror_mode": {
    "name": "ipython",
    "version": 3
   },
   "file_extension": ".py",
   "mimetype": "text/x-python",
   "name": "python",
   "nbconvert_exporter": "python",
   "pygments_lexer": "ipython3",
   "version": "3.7.6"
  }
 },
 "nbformat": 4,
 "nbformat_minor": 4
}
